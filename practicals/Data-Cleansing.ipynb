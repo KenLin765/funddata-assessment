{
 "cells": [
  {
   "cell_type": "markdown",
   "id": "c237c35b",
   "metadata": {},
   "source": [
    "# Topic 5 - Data Cleansing "
   ]
  },
  {
   "cell_type": "code",
   "execution_count": 6,
   "id": "e1ec82d2",
   "metadata": {},
   "outputs": [],
   "source": [
    "import re"
   ]
  },
  {
   "cell_type": "code",
   "execution_count": 7,
   "id": "2cd54b37",
   "metadata": {},
   "outputs": [
    {
     "name": "stdout",
     "output_type": "stream",
     "text": [
      "['Words', ', ', 'words', ', ', 'words', '.', '']\n"
     ]
    }
   ],
   "source": [
    "# A string to be manipulated.\n",
    "original = 'Words, words, words.'\n",
    "\n",
    "# The pattern/regular expression to use on the above string.\n",
    "pattern = r'(\\W+)'\n",
    "\n",
    "# Splits a string into substrings using a regular expression.\n",
    "result = re.split(pattern, original)\n",
    "\n",
    "# Print the result.\n",
    "print(result)"
   ]
  },
  {
   "cell_type": "code",
   "execution_count": 8,
   "id": "dbf88686",
   "metadata": {},
   "outputs": [
    {
     "name": "stdout",
     "output_type": "stream",
     "text": [
      "['Words', 'words', 'words', '']\n"
     ]
    }
   ],
   "source": [
    "# A string to be manipulated.\n",
    "original = 'Words, words, words.'\n",
    "\n",
    "# The pattern/regular expression to use on the above string.\n",
    "pattern = r'\\W+'\n",
    "\n",
    "# Splits a string into substrings using a regular expression.\n",
    "result = re.split(pattern, original)\n",
    "\n",
    "# Print the result.\n",
    "print(result)"
   ]
  },
  {
   "cell_type": "markdown",
   "id": "41542be7",
   "metadata": {},
   "source": [
    "Why do these generate as different results?\n",
    "\n",
    "I think that the answer is that the brackets will print every individual character if goes from a word to a special character.\n",
    "\n",
    "I decided to test this test that I am right by very slightly amending the original variable."
   ]
  },
  {
   "cell_type": "code",
   "execution_count": 9,
   "id": "597524d6",
   "metadata": {},
   "outputs": [
    {
     "name": "stdout",
     "output_type": "stream",
     "text": [
      "['Wor', '!', 'ds', ', ', 'wor8ds', ', ', 'words', '.', '']\n"
     ]
    }
   ],
   "source": [
    "# A string to be manipulated.\n",
    "original = 'Wor!ds, wor8ds, words.'\n",
    "\n",
    "# The pattern/regular expression to use on the above string.\n",
    "pattern = r'(\\W+)'\n",
    "\n",
    "# Splits a string into substrings using a regular expression.\n",
    "result = re.split(pattern, original)\n",
    "\n",
    "# Print the result.\n",
    "print(result)"
   ]
  },
  {
   "cell_type": "markdown",
   "id": "db5f1680",
   "metadata": {},
   "source": [
    "It shows that when I added the exclamation mark that it further split the code. I think that the brackets will divide the special characters with the normal characters.\n",
    "\n",
    "I also added in a number to test that and it didn't split the cells. I then realised I need a D character in the pattern from looking at the API, so I started playing around with this."
   ]
  },
  {
   "cell_type": "code",
   "execution_count": 9,
   "id": "f858d402",
   "metadata": {},
   "outputs": [
    {
     "name": "stdout",
     "output_type": "stream",
     "text": [
      "['', 'Wor!ds, wor', '8', 'ds, words.', '']\n"
     ]
    }
   ],
   "source": [
    "# A string to be manipulated.\n",
    "original = 'Wor!ds, wor8ds, words.'\n",
    "\n",
    "# The pattern/regular expression to use on the above string.\n",
    "pattern = r'(\\D+)'\n",
    "\n",
    "# Splits a string into substrings using a regular expression.\n",
    "result = re.split(pattern, original)\n",
    "\n",
    "# Print the result.\n",
    "print(result)"
   ]
  },
  {
   "cell_type": "code",
   "execution_count": 11,
   "id": "e9594664",
   "metadata": {},
   "outputs": [
    {
     "name": "stdout",
     "output_type": "stream",
     "text": [
      "['', '8', '']\n"
     ]
    }
   ],
   "source": [
    "# A string to be manipulated.\n",
    "original = 'Wor!ds, wor8ds, words.'\n",
    "\n",
    "# The pattern/regular expression to use on the above string.\n",
    "pattern = r'\\D+'\n",
    "\n",
    "# Splits a string into substrings using a regular expression.\n",
    "result = re.split(pattern, original)\n",
    "\n",
    "# Print the result.\n",
    "print(result)"
   ]
  },
  {
   "cell_type": "markdown",
   "id": "beb47625",
   "metadata": {},
   "source": [
    "The brackets interestingly will now split just the number leaving out the words. The non brackets, will split the words but then put the number in a separate expression."
   ]
  },
  {
   "cell_type": "code",
   "execution_count": 39,
   "id": "80967963",
   "metadata": {},
   "outputs": [
    {
     "data": {
      "text/plain": [
       "<re.Match object; span=(3, 6), match='123'>"
      ]
     },
     "execution_count": 39,
     "metadata": {},
     "output_type": "execute_result"
    }
   ],
   "source": [
    "s = 'foo123bar'\n",
    "re.search('[0-9][0-9][0-9]', s)\n",
    "\n",
    "## Span shows the length that the number matches, starts with 3 and ends with 6, match then shows the numbers in the expression\n",
    "## search also needs a 3 digit span or won't work"
   ]
  },
  {
   "cell_type": "code",
   "execution_count": 32,
   "id": "97026c2e",
   "metadata": {},
   "outputs": [
    {
     "data": {
      "text/plain": [
       "<re.Match object; span=(3, 6), match='456'>"
      ]
     },
     "execution_count": 32,
     "metadata": {},
     "output_type": "execute_result"
    }
   ],
   "source": [
    "re.search('[0-9][0-9][0-9]', 'foo456bar')\n",
    "\n",
    "## This shows the same as above but code changed by changing the expression to include what needs to be searched"
   ]
  },
  {
   "cell_type": "code",
   "execution_count": 34,
   "id": "95ee37ca",
   "metadata": {},
   "outputs": [
    {
     "data": {
      "text/plain": [
       "<re.Match object; span=(0, 3), match='234'>"
      ]
     },
     "execution_count": 34,
     "metadata": {},
     "output_type": "execute_result"
    }
   ],
   "source": [
    "re.search('[0-9][0-9][0-9]', '234baz')\n",
    "\n",
    "## Span of 0-3 as it goes from 2-4"
   ]
  },
  {
   "cell_type": "code",
   "execution_count": 41,
   "id": "933b289f",
   "metadata": {},
   "outputs": [
    {
     "data": {
      "text/plain": [
       "<re.Match object; span=(3, 6), match='678'>"
      ]
     },
     "execution_count": 41,
     "metadata": {},
     "output_type": "execute_result"
    }
   ],
   "source": [
    "re.search('[0-9][0-9][0-9]', 'qux678')\n",
    "\n",
    "## Span of 0-3 as it goes from 4-6"
   ]
  },
  {
   "cell_type": "code",
   "execution_count": 42,
   "id": "ab16a5e4",
   "metadata": {},
   "outputs": [
    {
     "name": "stdout",
     "output_type": "stream",
     "text": [
      "None\n"
     ]
    }
   ],
   "source": [
    "print(re.search('[0-9][0-9][0-9]', '12foo34'))\n",
    "\n",
    "## Displays none as no 3 digit span in expression"
   ]
  },
  {
   "cell_type": "code",
   "execution_count": 46,
   "id": "bd36b85b",
   "metadata": {},
   "outputs": [
    {
     "data": {
      "text/plain": [
       "<re.Match object; span=(3, 6), match='123'>"
      ]
     },
     "execution_count": 46,
     "metadata": {},
     "output_type": "execute_result"
    }
   ],
   "source": [
    "s = 'foo123bar'\n",
    "re.search('1.3', s)\n",
    "\n",
    "## Matched 1-2-3 and matches any character in between "
   ]
  },
  {
   "cell_type": "code",
   "execution_count": 48,
   "id": "a2d1efd3",
   "metadata": {},
   "outputs": [
    {
     "name": "stdout",
     "output_type": "stream",
     "text": [
      "None\n"
     ]
    }
   ],
   "source": [
    "s = 'foo13bar'\n",
    "print(re.search('1.3', s))\n",
    "\n",
    "## Whereas if you change to foo13 and run the same code, it "
   ]
  },
  {
   "cell_type": "code",
   "execution_count": 63,
   "id": "ffea7b08",
   "metadata": {},
   "outputs": [
    {
     "data": {
      "text/plain": [
       "<re.Match object; span=(3, 6), match='bar'>"
      ]
     },
     "execution_count": 63,
     "metadata": {},
     "output_type": "execute_result"
    }
   ],
   "source": [
    "re.search('ba[adadadrtz]', 'foobarqux')\n",
    "\n",
    "## This will combine the opening \"ba\" with the next sequence and output if true with the span and word found in query"
   ]
  },
  {
   "cell_type": "code",
   "execution_count": 64,
   "id": "ea029edf",
   "metadata": {},
   "outputs": [
    {
     "data": {
      "text/plain": [
       "<re.Match object; span=(3, 4), match='b'>"
      ]
     },
     "execution_count": 64,
     "metadata": {},
     "output_type": "execute_result"
    }
   ],
   "source": [
    "re.search('[a-z]', 'FOObar')\n",
    "\n",
    "## shows any lowercase letters in an expression and shows the amount and location and the first letter"
   ]
  },
  {
   "cell_type": "code",
   "execution_count": 65,
   "id": "d74dee17",
   "metadata": {},
   "outputs": [
    {
     "data": {
      "text/plain": [
       "<re.Match object; span=(0, 1), match='F'>"
      ]
     },
     "execution_count": 65,
     "metadata": {},
     "output_type": "execute_result"
    }
   ],
   "source": [
    "re.search('[A-Z]', 'FOObar')\n",
    "\n",
    "## shows any lowercase letters in an expression and shows the amount and location and the first letter"
   ]
  },
  {
   "cell_type": "code",
   "execution_count": 69,
   "id": "67851a58",
   "metadata": {},
   "outputs": [
    {
     "data": {
      "text/plain": [
       "<re.Match object; span=(3, 5), match='12'>"
      ]
     },
     "execution_count": 69,
     "metadata": {},
     "output_type": "execute_result"
    }
   ],
   "source": [
    "re.search('[0-9][0-9]', 'foo123bar')\n",
    "\n",
    "## Searches 0-9 twice and then gives the span and shows the second character as it is the second search result"
   ]
  },
  {
   "cell_type": "code",
   "execution_count": 72,
   "id": "9fad2747",
   "metadata": {},
   "outputs": [
    {
     "data": {
      "text/plain": [
       "<re.Match object; span=(3, 4), match='1'>"
      ]
     },
     "execution_count": 72,
     "metadata": {},
     "output_type": "execute_result"
    }
   ],
   "source": [
    "re.search('[0-9]', 'foo123bar')\n",
    "\n",
    "## Searches 0-9 once and then gives the span and shows the first character as it is the first search result"
   ]
  },
  {
   "cell_type": "code",
   "execution_count": 73,
   "id": "148ef09c",
   "metadata": {},
   "outputs": [
    {
     "data": {
      "text/plain": [
       "<re.Match object; span=(4, 5), match='a'>"
      ]
     },
     "execution_count": 73,
     "metadata": {},
     "output_type": "execute_result"
    }
   ],
   "source": [
    "re.search('[0-9a-fA-f]', '--- a0 ---')\n",
    "\n",
    "## matches the first hexadecimal digit character in the search string, 'a'."
   ]
  },
  {
   "cell_type": "code",
   "execution_count": 76,
   "id": "074eb48e",
   "metadata": {},
   "outputs": [
    {
     "data": {
      "text/plain": [
       "<re.Match object; span=(5, 6), match='f'>"
      ]
     },
     "execution_count": 76,
     "metadata": {},
     "output_type": "execute_result"
    }
   ],
   "source": [
    "re.search('[^0-9]', '12345foo')\n",
    "\n",
    "## shows the first character in a string that isn't 0-9. It also shows the location, the length before the character and the location of it"
   ]
  },
  {
   "cell_type": "code",
   "execution_count": 82,
   "id": "d5fe762d",
   "metadata": {},
   "outputs": [
    {
     "data": {
      "text/plain": [
       "<re.Match object; span=(3, 4), match='^'>"
      ]
     },
     "execution_count": 82,
     "metadata": {},
     "output_type": "execute_result"
    }
   ],
   "source": [
    "re.search('[#:^]', 'foo^bar:baz#qux')\n",
    "\n",
    "## shows the first character in the string expression when it occurs"
   ]
  },
  {
   "cell_type": "code",
   "execution_count": 85,
   "id": "6da7dcba",
   "metadata": {},
   "outputs": [
    {
     "data": {
      "text/plain": [
       "<re.Match object; span=(3, 4), match='-'>"
      ]
     },
     "execution_count": 85,
     "metadata": {},
     "output_type": "execute_result"
    }
   ],
   "source": [
    "re.search('[-abc]', '123-456')\n",
    "\n",
    "## Shows first character from an expression, with span it searches and location."
   ]
  },
  {
   "cell_type": "code",
   "execution_count": 86,
   "id": "434a4df3",
   "metadata": {},
   "outputs": [
    {
     "data": {
      "text/plain": [
       "<re.Match object; span=(3, 4), match='-'>"
      ]
     },
     "execution_count": 86,
     "metadata": {},
     "output_type": "execute_result"
    }
   ],
   "source": [
    "re.search('[abc-]', '123-456')\n",
    "\n",
    "## Same as above, shows that it doesn't matter where the expression is in first search"
   ]
  },
  {
   "cell_type": "code",
   "execution_count": 87,
   "id": "5df2bd43",
   "metadata": {},
   "outputs": [
    {
     "data": {
      "text/plain": [
       "<re.Match object; span=(3, 4), match='-'>"
      ]
     },
     "execution_count": 87,
     "metadata": {},
     "output_type": "execute_result"
    }
   ],
   "source": [
    "re.search('[ab\\-c]', '123-456') \n",
    "\n",
    "## Same as above, hows that it doesn't matter where the expression is in first search"
   ]
  },
  {
   "cell_type": "code",
   "execution_count": 88,
   "id": "78416f56",
   "metadata": {},
   "outputs": [
    {
     "data": {
      "text/plain": [
       "<re.Match object; span=(5, 6), match=']'>"
      ]
     },
     "execution_count": 88,
     "metadata": {},
     "output_type": "execute_result"
    }
   ],
   "source": [
    "re.search('[]]', 'foo[1]')\n",
    "\n",
    "## Shows the middle ] and shows span and location"
   ]
  },
  {
   "cell_type": "code",
   "execution_count": 89,
   "id": "8013c909",
   "metadata": {},
   "outputs": [
    {
     "data": {
      "text/plain": [
       "<re.Match object; span=(5, 6), match=']'>"
      ]
     },
     "execution_count": 89,
     "metadata": {},
     "output_type": "execute_result"
    }
   ],
   "source": [
    "re.search('[ab\\]cd]', 'foo[1]')\n",
    "\n",
    "## Same as above but shows that caharcter can be in the middle of the expression "
   ]
  },
  {
   "cell_type": "code",
   "execution_count": 90,
   "id": "7ae6e262",
   "metadata": {},
   "outputs": [
    {
     "data": {
      "text/plain": [
       "<re.Match object; span=(3, 4), match='*'>"
      ]
     },
     "execution_count": 90,
     "metadata": {},
     "output_type": "execute_result"
    }
   ],
   "source": [
    "re.search('[)*+|]', '123*456')\n",
    "\n",
    "## Shows the first result of *, the span and the loctaion of the *"
   ]
  },
  {
   "cell_type": "code",
   "execution_count": 92,
   "id": "61cbe474",
   "metadata": {},
   "outputs": [
    {
     "data": {
      "text/plain": [
       "<re.Match object; span=(3, 4), match='+'>"
      ]
     },
     "execution_count": 92,
     "metadata": {},
     "output_type": "execute_result"
    }
   ],
   "source": [
    "re.search('[)*+|]', '123+456')\n",
    "\n",
    "## Shows the first result of +, the span and the location of the +"
   ]
  },
  {
   "cell_type": "code",
   "execution_count": 97,
   "id": "51660e48",
   "metadata": {},
   "outputs": [
    {
     "data": {
      "text/plain": [
       "<re.Match object; span=(0, 7), match='fooxbar'>"
      ]
     },
     "execution_count": 97,
     "metadata": {},
     "output_type": "execute_result"
    }
   ],
   "source": [
    "re.search('foo.bar', 'fooxbar')\n",
    "\n",
    "## . will show match and show full span of the expression"
   ]
  },
  {
   "cell_type": "code",
   "execution_count": 100,
   "id": "75610fc3",
   "metadata": {},
   "outputs": [
    {
     "name": "stdout",
     "output_type": "stream",
     "text": [
      "None\n"
     ]
    }
   ],
   "source": [
    "print(re.search('foo.bar', 'foobar'))\n",
    "\n",
    "## Will print none as asking for 7 characters but only 6 in the expression."
   ]
  },
  {
   "cell_type": "code",
   "execution_count": 101,
   "id": "33f999c5",
   "metadata": {},
   "outputs": [
    {
     "name": "stdout",
     "output_type": "stream",
     "text": [
      "None\n"
     ]
    }
   ],
   "source": [
    "print(re.search('foo.bar', 'foo\\nbar'))\n",
    "\n",
    "## Won't work as \\n pushes to a new line, "
   ]
  },
  {
   "cell_type": "code",
   "execution_count": 102,
   "id": "f287eabc",
   "metadata": {},
   "outputs": [
    {
     "data": {
      "text/plain": [
       "<re.Match object; span=(3, 4), match='a'>"
      ]
     },
     "execution_count": 102,
     "metadata": {},
     "output_type": "execute_result"
    }
   ],
   "source": [
    "re.search('\\w', '#(.a$@&')"
   ]
  },
  {
   "cell_type": "code",
   "execution_count": null,
   "id": "28f223b6",
   "metadata": {},
   "outputs": [],
   "source": []
  }
 ],
 "metadata": {
  "kernelspec": {
   "display_name": "Python 3 (ipykernel)",
   "language": "python",
   "name": "python3"
  },
  "language_info": {
   "codemirror_mode": {
    "name": "ipython",
    "version": 3
   },
   "file_extension": ".py",
   "mimetype": "text/x-python",
   "name": "python",
   "nbconvert_exporter": "python",
   "pygments_lexer": "ipython3",
   "version": "3.9.7"
  }
 },
 "nbformat": 4,
 "nbformat_minor": 5
}
