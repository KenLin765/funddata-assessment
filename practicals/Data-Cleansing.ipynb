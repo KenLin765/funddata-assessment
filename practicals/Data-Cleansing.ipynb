{
 "cells": [
  {
   "cell_type": "markdown",
   "id": "38a1908a",
   "metadata": {},
   "source": [
    "# Topic 5 - Data Cleansing "
   ]
  },
  {
   "cell_type": "code",
   "execution_count": 2,
   "id": "0b872ba4",
   "metadata": {},
   "outputs": [],
   "source": [
    "import re"
   ]
  },
  {
   "cell_type": "code",
   "execution_count": 7,
   "id": "fe920f09",
   "metadata": {},
   "outputs": [
    {
     "name": "stdout",
     "output_type": "stream",
     "text": [
      "['Words', ', ', 'words', ', ', 'words', '.', '']\n"
     ]
    }
   ],
   "source": [
    "# A string to be manipulated.\n",
    "original = 'Words, words, words.'\n",
    "\n",
    "# The pattern/regular expression to use on the above string.\n",
    "pattern = r'(\\W+)'\n",
    "\n",
    "# Splits a string into substrings using a regular expression.\n",
    "result = re.split(pattern, original)\n",
    "\n",
    "# Print the result.\n",
    "print(result)"
   ]
  },
  {
   "cell_type": "code",
   "execution_count": 8,
   "id": "91a013aa",
   "metadata": {},
   "outputs": [
    {
     "name": "stdout",
     "output_type": "stream",
     "text": [
      "['Words', 'words', 'words', '']\n"
     ]
    }
   ],
   "source": [
    "# A string to be manipulated.\n",
    "original = 'Words, words, words.'\n",
    "\n",
    "# The pattern/regular expression to use on the above string.\n",
    "pattern = r'\\W+'\n",
    "\n",
    "# Splits a string into substrings using a regular expression.\n",
    "result = re.split(pattern, original)\n",
    "\n",
    "# Print the result.\n",
    "print(result)"
   ]
  },
  {
   "cell_type": "markdown",
   "id": "0ed8da2d",
   "metadata": {},
   "source": [
    "Why do these generate as different results?\n",
    "\n",
    "I think that the answer is that the brackets will print every individual character if goes from a word to a special character.\n",
    "\n",
    "I decided to test this test that I am right by very slightly amending the original variable."
   ]
  },
  {
   "cell_type": "code",
   "execution_count": 9,
   "id": "a63c25c1",
   "metadata": {},
   "outputs": [
    {
     "name": "stdout",
     "output_type": "stream",
     "text": [
      "['Wor', '!', 'ds', ', ', 'wor8ds', ', ', 'words', '.', '']\n"
     ]
    }
   ],
   "source": [
    "# A string to be manipulated.\n",
    "original = 'Wor!ds, wor8ds, words.'\n",
    "\n",
    "# The pattern/regular expression to use on the above string.\n",
    "pattern = r'(\\W+)'\n",
    "\n",
    "# Splits a string into substrings using a regular expression.\n",
    "result = re.split(pattern, original)\n",
    "\n",
    "# Print the result.\n",
    "print(result)"
   ]
  },
  {
   "cell_type": "markdown",
   "id": "b9bb1e3a",
   "metadata": {},
   "source": [
    "It shows that when I added the exclamation mark that it further split the code. I think that the brackets will divide the special characters with the normal characters.\n",
    "\n",
    "I also added in a number to test that and it didn't split the cells. I then realised I need a D character in the pattern from looking at the API, so I started playing around with this."
   ]
  },
  {
   "cell_type": "code",
   "execution_count": 9,
   "id": "91648181",
   "metadata": {},
   "outputs": [
    {
     "name": "stdout",
     "output_type": "stream",
     "text": [
      "['', 'Wor!ds, wor', '8', 'ds, words.', '']\n"
     ]
    }
   ],
   "source": [
    "# A string to be manipulated.\n",
    "original = 'Wor!ds, wor8ds, words.'\n",
    "\n",
    "# The pattern/regular expression to use on the above string.\n",
    "pattern = r'(\\D+)'\n",
    "\n",
    "# Splits a string into substrings using a regular expression.\n",
    "result = re.split(pattern, original)\n",
    "\n",
    "# Print the result.\n",
    "print(result)"
   ]
  },
  {
   "cell_type": "code",
   "execution_count": 11,
   "id": "786fcb42",
   "metadata": {},
   "outputs": [
    {
     "name": "stdout",
     "output_type": "stream",
     "text": [
      "['', '8', '']\n"
     ]
    }
   ],
   "source": [
    "# A string to be manipulated.\n",
    "original = 'Wor!ds, wor8ds, words.'\n",
    "\n",
    "# The pattern/regular expression to use on the above string.\n",
    "pattern = r'\\D+'\n",
    "\n",
    "# Splits a string into substrings using a regular expression.\n",
    "result = re.split(pattern, original)\n",
    "\n",
    "# Print the result.\n",
    "print(result)"
   ]
  },
  {
   "cell_type": "markdown",
   "id": "7c3b4de4",
   "metadata": {},
   "source": [
    "The brackets interestingly will now split just the number leaving out the words. The non brackets, will split the words but then put the number in a separate expression."
   ]
  },
  {
   "cell_type": "code",
   "execution_count": 39,
   "id": "1c1d2b3a",
   "metadata": {},
   "outputs": [
    {
     "data": {
      "text/plain": [
       "<re.Match object; span=(3, 6), match='123'>"
      ]
     },
     "execution_count": 39,
     "metadata": {},
     "output_type": "execute_result"
    }
   ],
   "source": [
    "s = 'foo123bar'\n",
    "re.search('[0-9][0-9][0-9]', s)\n",
    "\n",
    "## Span shows the length that the number matches, starts with 3 and ends with 6, match then shows the numbers in the expression\n",
    "## search also needs a 3 digit span or won't work"
   ]
  },
  {
   "cell_type": "code",
   "execution_count": 32,
   "id": "0b96ada2",
   "metadata": {},
   "outputs": [
    {
     "data": {
      "text/plain": [
       "<re.Match object; span=(3, 6), match='456'>"
      ]
     },
     "execution_count": 32,
     "metadata": {},
     "output_type": "execute_result"
    }
   ],
   "source": [
    "re.search('[0-9][0-9][0-9]', 'foo456bar')\n",
    "\n",
    "## This shows the same as above but code changed by changing the expression to include what needs to be searched"
   ]
  },
  {
   "cell_type": "code",
   "execution_count": 34,
   "id": "cdced0f1",
   "metadata": {},
   "outputs": [
    {
     "data": {
      "text/plain": [
       "<re.Match object; span=(0, 3), match='234'>"
      ]
     },
     "execution_count": 34,
     "metadata": {},
     "output_type": "execute_result"
    }
   ],
   "source": [
    "re.search('[0-9][0-9][0-9]', '234baz')\n",
    "\n",
    "## Span of 0-3 as it goes from 2-4"
   ]
  },
  {
   "cell_type": "code",
   "execution_count": 41,
   "id": "c33bef54",
   "metadata": {},
   "outputs": [
    {
     "data": {
      "text/plain": [
       "<re.Match object; span=(3, 6), match='678'>"
      ]
     },
     "execution_count": 41,
     "metadata": {},
     "output_type": "execute_result"
    }
   ],
   "source": [
    "re.search('[0-9][0-9][0-9]', 'qux678')\n",
    "\n",
    "## Span of 0-3 as it goes from 4-6"
   ]
  },
  {
   "cell_type": "code",
   "execution_count": 42,
   "id": "fa460e8e",
   "metadata": {},
   "outputs": [
    {
     "name": "stdout",
     "output_type": "stream",
     "text": [
      "None\n"
     ]
    }
   ],
   "source": [
    "print(re.search('[0-9][0-9][0-9]', '12foo34'))\n",
    "\n",
    "## Displays none as no 3 digit span in expression"
   ]
  },
  {
   "cell_type": "code",
   "execution_count": 46,
   "id": "e4cb93eb",
   "metadata": {},
   "outputs": [
    {
     "data": {
      "text/plain": [
       "<re.Match object; span=(3, 6), match='123'>"
      ]
     },
     "execution_count": 46,
     "metadata": {},
     "output_type": "execute_result"
    }
   ],
   "source": [
    "s = 'foo123bar'\n",
    "re.search('1.3', s)\n",
    "\n",
    "## Matched 1-2-3 and matches any character in between "
   ]
  },
  {
   "cell_type": "code",
   "execution_count": 48,
   "id": "ee8e893f",
   "metadata": {},
   "outputs": [
    {
     "name": "stdout",
     "output_type": "stream",
     "text": [
      "None\n"
     ]
    }
   ],
   "source": [
    "s = 'foo13bar'\n",
    "print(re.search('1.3', s))\n",
    "\n",
    "## Whereas if you change to foo13 and run the same code, it "
   ]
  },
  {
   "cell_type": "code",
   "execution_count": 63,
   "id": "503e3cf1",
   "metadata": {},
   "outputs": [
    {
     "data": {
      "text/plain": [
       "<re.Match object; span=(3, 6), match='bar'>"
      ]
     },
     "execution_count": 63,
     "metadata": {},
     "output_type": "execute_result"
    }
   ],
   "source": [
    "re.search('ba[adadadrtz]', 'foobarqux')\n",
    "\n",
    "## This will combine the opening \"ba\" with the next sequence and output if true with the span and word found in query"
   ]
  },
  {
   "cell_type": "code",
   "execution_count": 64,
   "id": "f839e1b8",
   "metadata": {},
   "outputs": [
    {
     "data": {
      "text/plain": [
       "<re.Match object; span=(3, 4), match='b'>"
      ]
     },
     "execution_count": 64,
     "metadata": {},
     "output_type": "execute_result"
    }
   ],
   "source": [
    "re.search('[a-z]', 'FOObar')\n",
    "\n",
    "## shows any lowercase letters in an expression and shows the amount and location and the first letter"
   ]
  },
  {
   "cell_type": "code",
   "execution_count": 65,
   "id": "b2dcd0eb",
   "metadata": {},
   "outputs": [
    {
     "data": {
      "text/plain": [
       "<re.Match object; span=(0, 1), match='F'>"
      ]
     },
     "execution_count": 65,
     "metadata": {},
     "output_type": "execute_result"
    }
   ],
   "source": [
    "re.search('[A-Z]', 'FOObar')\n",
    "\n",
    "## shows any lowercase letters in an expression and shows the amount and location and the first letter"
   ]
  },
  {
   "cell_type": "code",
   "execution_count": 69,
   "id": "c9a46910",
   "metadata": {},
   "outputs": [
    {
     "data": {
      "text/plain": [
       "<re.Match object; span=(3, 5), match='12'>"
      ]
     },
     "execution_count": 69,
     "metadata": {},
     "output_type": "execute_result"
    }
   ],
   "source": [
    "re.search('[0-9][0-9]', 'foo123bar')\n",
    "\n",
    "## Searches 0-9 twice and then gives the span and shows the second character as it is the second search result"
   ]
  },
  {
   "cell_type": "code",
   "execution_count": 72,
   "id": "f71dc641",
   "metadata": {},
   "outputs": [
    {
     "data": {
      "text/plain": [
       "<re.Match object; span=(3, 4), match='1'>"
      ]
     },
     "execution_count": 72,
     "metadata": {},
     "output_type": "execute_result"
    }
   ],
   "source": [
    "re.search('[0-9]', 'foo123bar')\n",
    "\n",
    "## Searches 0-9 once and then gives the span and shows the first character as it is the first search result"
   ]
  },
  {
   "cell_type": "code",
   "execution_count": 73,
   "id": "9507c0e4",
   "metadata": {},
   "outputs": [
    {
     "data": {
      "text/plain": [
       "<re.Match object; span=(4, 5), match='a'>"
      ]
     },
     "execution_count": 73,
     "metadata": {},
     "output_type": "execute_result"
    }
   ],
   "source": [
    "re.search('[0-9a-fA-f]', '--- a0 ---')\n",
    "\n",
    "## matches the first hexadecimal digit character in the search string, 'a'."
   ]
  },
  {
   "cell_type": "code",
   "execution_count": 76,
   "id": "8c7e32f2",
   "metadata": {},
   "outputs": [
    {
     "data": {
      "text/plain": [
       "<re.Match object; span=(5, 6), match='f'>"
      ]
     },
     "execution_count": 76,
     "metadata": {},
     "output_type": "execute_result"
    }
   ],
   "source": [
    "re.search('[^0-9]', '12345foo')\n",
    "\n",
    "## shows the first character in a string that isn't 0-9. It also shows the location, the length before the character and the location of it"
   ]
  },
  {
   "cell_type": "code",
   "execution_count": 82,
   "id": "d7438105",
   "metadata": {},
   "outputs": [
    {
     "data": {
      "text/plain": [
       "<re.Match object; span=(3, 4), match='^'>"
      ]
     },
     "execution_count": 82,
     "metadata": {},
     "output_type": "execute_result"
    }
   ],
   "source": [
    "re.search('[#:^]', 'foo^bar:baz#qux')\n",
    "\n",
    "## shows the first character in the string expression when it occurs"
   ]
  },
  {
   "cell_type": "code",
   "execution_count": 85,
   "id": "c6d3fc68",
   "metadata": {},
   "outputs": [
    {
     "data": {
      "text/plain": [
       "<re.Match object; span=(3, 4), match='-'>"
      ]
     },
     "execution_count": 85,
     "metadata": {},
     "output_type": "execute_result"
    }
   ],
   "source": [
    "re.search('[-abc]', '123-456')\n",
    "\n",
    "## Shows first character from an expression, with span it searches and location."
   ]
  },
  {
   "cell_type": "code",
   "execution_count": 86,
   "id": "2b2e51f9",
   "metadata": {},
   "outputs": [
    {
     "data": {
      "text/plain": [
       "<re.Match object; span=(3, 4), match='-'>"
      ]
     },
     "execution_count": 86,
     "metadata": {},
     "output_type": "execute_result"
    }
   ],
   "source": [
    "re.search('[abc-]', '123-456')\n",
    "\n",
    "## Same as above, shows that it doesn't matter where the expression is in first search"
   ]
  },
  {
   "cell_type": "code",
   "execution_count": 87,
   "id": "0fa02ad9",
   "metadata": {},
   "outputs": [
    {
     "data": {
      "text/plain": [
       "<re.Match object; span=(3, 4), match='-'>"
      ]
     },
     "execution_count": 87,
     "metadata": {},
     "output_type": "execute_result"
    }
   ],
   "source": [
    "re.search('[ab\\-c]', '123-456') \n",
    "\n",
    "## Same as above, hows that it doesn't matter where the expression is in first search"
   ]
  },
  {
   "cell_type": "code",
   "execution_count": 88,
   "id": "e7e8b416",
   "metadata": {},
   "outputs": [
    {
     "data": {
      "text/plain": [
       "<re.Match object; span=(5, 6), match=']'>"
      ]
     },
     "execution_count": 88,
     "metadata": {},
     "output_type": "execute_result"
    }
   ],
   "source": [
    "re.search('[]]', 'foo[1]')\n",
    "\n",
    "## Shows the middle ] and shows span and location"
   ]
  },
  {
   "cell_type": "code",
   "execution_count": 89,
   "id": "4edb2105",
   "metadata": {},
   "outputs": [
    {
     "data": {
      "text/plain": [
       "<re.Match object; span=(5, 6), match=']'>"
      ]
     },
     "execution_count": 89,
     "metadata": {},
     "output_type": "execute_result"
    }
   ],
   "source": [
    "re.search('[ab\\]cd]', 'foo[1]')\n",
    "\n",
    "## Same as above but shows that caharcter can be in the middle of the expression "
   ]
  },
  {
   "cell_type": "code",
   "execution_count": 90,
   "id": "adb7597b",
   "metadata": {},
   "outputs": [
    {
     "data": {
      "text/plain": [
       "<re.Match object; span=(3, 4), match='*'>"
      ]
     },
     "execution_count": 90,
     "metadata": {},
     "output_type": "execute_result"
    }
   ],
   "source": [
    "re.search('[)*+|]', '123*456')\n",
    "\n",
    "## Shows the first result of *, the span and the loctaion of the *"
   ]
  },
  {
   "cell_type": "code",
   "execution_count": 92,
   "id": "f4280589",
   "metadata": {},
   "outputs": [
    {
     "data": {
      "text/plain": [
       "<re.Match object; span=(3, 4), match='+'>"
      ]
     },
     "execution_count": 92,
     "metadata": {},
     "output_type": "execute_result"
    }
   ],
   "source": [
    "re.search('[)*+|]', '123+456')\n",
    "\n",
    "## Shows the first result of +, the span and the location of the +"
   ]
  },
  {
   "cell_type": "code",
   "execution_count": 97,
   "id": "e649f826",
   "metadata": {},
   "outputs": [
    {
     "data": {
      "text/plain": [
       "<re.Match object; span=(0, 7), match='fooxbar'>"
      ]
     },
     "execution_count": 97,
     "metadata": {},
     "output_type": "execute_result"
    }
   ],
   "source": [
    "re.search('foo.bar', 'fooxbar')\n",
    "\n",
    "## . will show match and show full span of the expression"
   ]
  },
  {
   "cell_type": "code",
   "execution_count": 100,
   "id": "94068f83",
   "metadata": {},
   "outputs": [
    {
     "name": "stdout",
     "output_type": "stream",
     "text": [
      "None\n"
     ]
    }
   ],
   "source": [
    "print(re.search('foo.bar', 'foobar'))\n",
    "\n",
    "## Will print none as asking for 7 characters but only 6 in the expression."
   ]
  },
  {
   "cell_type": "code",
   "execution_count": 101,
   "id": "f754d28d",
   "metadata": {},
   "outputs": [
    {
     "name": "stdout",
     "output_type": "stream",
     "text": [
      "None\n"
     ]
    }
   ],
   "source": [
    "print(re.search('foo.bar', 'foo\\nbar'))\n",
    "\n",
    "## Won't work as \\n pushes to a new line, "
   ]
  },
  {
   "cell_type": "code",
   "execution_count": 102,
   "id": "02f18d14",
   "metadata": {},
   "outputs": [
    {
     "data": {
      "text/plain": [
       "<re.Match object; span=(3, 4), match='a'>"
      ]
     },
     "execution_count": 102,
     "metadata": {},
     "output_type": "execute_result"
    }
   ],
   "source": [
    "re.search('\\w', '#(.a$@&')\n",
    "\n",
    "## \\w matches any alphanumeric word character. \n",
    "##Word characters are uppercase and lowercase letters, digits, and the underscore (_) character, so \\w is essentially shorthand for [a-zA-Z0-9_]:"
   ]
  },
  {
   "cell_type": "code",
   "execution_count": 3,
   "id": "df30bf73",
   "metadata": {},
   "outputs": [
    {
     "data": {
      "text/plain": [
       "<re.Match object; span=(3, 4), match='a'>"
      ]
     },
     "execution_count": 3,
     "metadata": {},
     "output_type": "execute_result"
    }
   ],
   "source": [
    "re.search('[a-zA-Z0-9_]', '#(.a$@&')\n",
    "\n",
    "## same as above, \\w is a wild card for lower case a-z or upper case a-z and then displays first instance of it."
   ]
  },
  {
   "cell_type": "code",
   "execution_count": 4,
   "id": "826ebcd0",
   "metadata": {},
   "outputs": [
    {
     "data": {
      "text/plain": [
       "<re.Match object; span=(3, 4), match='*'>"
      ]
     },
     "execution_count": 4,
     "metadata": {},
     "output_type": "execute_result"
    }
   ],
   "source": [
    "re.search('\\W', 'a_1*3Qb')\n",
    "\n",
    "# shows the first non word "
   ]
  },
  {
   "cell_type": "code",
   "execution_count": 5,
   "id": "9b4f4840",
   "metadata": {},
   "outputs": [
    {
     "data": {
      "text/plain": [
       "<re.Match object; span=(3, 4), match='*'>"
      ]
     },
     "execution_count": 5,
     "metadata": {},
     "output_type": "execute_result"
    }
   ],
   "source": [
    "re.search('[^a-zA-Z0-9_]', 'a_1*3Qb')\n",
    "\n",
    "## same as \\W and shows first non word"
   ]
  },
  {
   "cell_type": "code",
   "execution_count": 6,
   "id": "87b43aee",
   "metadata": {},
   "outputs": [
    {
     "data": {
      "text/plain": [
       "<re.Match object; span=(3, 4), match='4'>"
      ]
     },
     "execution_count": 6,
     "metadata": {},
     "output_type": "execute_result"
    }
   ],
   "source": [
    "re.search('\\d', 'abc4def')\n",
    "\n",
    "## shows first character that is a decimal"
   ]
  },
  {
   "cell_type": "code",
   "execution_count": 7,
   "id": "3c6aacd2",
   "metadata": {},
   "outputs": [
    {
     "data": {
      "text/plain": [
       "<re.Match object; span=(3, 4), match='Q'>"
      ]
     },
     "execution_count": 7,
     "metadata": {},
     "output_type": "execute_result"
    }
   ],
   "source": [
    "re.search('\\D', '234Q678')\n",
    "\n",
    "## \\D is equivalent to [^0-9] and shows first non digit"
   ]
  },
  {
   "cell_type": "code",
   "execution_count": 8,
   "id": "85159e99",
   "metadata": {},
   "outputs": [
    {
     "data": {
      "text/plain": [
       "<re.Match object; span=(3, 4), match='\\n'>"
      ]
     },
     "execution_count": 8,
     "metadata": {},
     "output_type": "execute_result"
    }
   ],
   "source": [
    "re.search('\\s', 'foo\\nbar baz')\n",
    "\n",
    "## shows the first whitespace character, \\n is considered to be new line which is also a blank"
   ]
  },
  {
   "cell_type": "code",
   "execution_count": 9,
   "id": "d0dd8dcb",
   "metadata": {},
   "outputs": [
    {
     "data": {
      "text/plain": [
       "<re.Match object; span=(4, 5), match='f'>"
      ]
     },
     "execution_count": 9,
     "metadata": {},
     "output_type": "execute_result"
    }
   ],
   "source": [
    "re.search('\\S', '  \\n foo  \\n  ')\n",
    "\n",
    "## shows the first non whitespace character, skips new line and shows the \"f\""
   ]
  },
  {
   "cell_type": "code",
   "execution_count": 10,
   "id": "fb329f0e",
   "metadata": {},
   "outputs": [
    {
     "data": {
      "text/plain": [
       "<re.Match object; span=(3, 4), match='3'>"
      ]
     },
     "execution_count": 10,
     "metadata": {},
     "output_type": "execute_result"
    }
   ],
   "source": [
    "re.search('[\\d\\w\\s]', '---3---')\n",
    "\n",
    "## [\\d\\w\\s] matches any digit, word, or whitespace character"
   ]
  },
  {
   "cell_type": "code",
   "execution_count": 11,
   "id": "72012bf0",
   "metadata": {},
   "outputs": [
    {
     "data": {
      "text/plain": [
       "<re.Match object; span=(3, 4), match='a'>"
      ]
     },
     "execution_count": 11,
     "metadata": {},
     "output_type": "execute_result"
    }
   ],
   "source": [
    "re.search('[\\d\\w\\s]', '---a---')\n",
    "\n",
    "## [\\d\\w\\s] matches any digit, word, or whitespace character"
   ]
  },
  {
   "cell_type": "code",
   "execution_count": 12,
   "id": "573e3e95",
   "metadata": {},
   "outputs": [
    {
     "data": {
      "text/plain": [
       "<re.Match object; span=(3, 4), match=' '>"
      ]
     },
     "execution_count": 12,
     "metadata": {},
     "output_type": "execute_result"
    }
   ],
   "source": [
    "re.search('[\\d\\w\\s]', '--- ---')\n",
    "\n",
    "## [\\d\\w\\s] matches any digit, word, or whitespace character, in this case the whitespace"
   ]
  },
  {
   "cell_type": "markdown",
   "id": "53ed2c5d",
   "metadata": {},
   "source": [
    "##  Escaping Metacharacters"
   ]
  },
  {
   "cell_type": "code",
   "execution_count": 13,
   "id": "9c6b28f3",
   "metadata": {},
   "outputs": [
    {
     "data": {
      "text/plain": [
       "<re.Match object; span=(0, 1), match='f'>"
      ]
     },
     "execution_count": 13,
     "metadata": {},
     "output_type": "execute_result"
    }
   ],
   "source": [
    "re.search('.', 'foo.bar')\n",
    "\n",
    "## the dot (.) functions as a wildcard metacharacter, which matches the first character in the string "
   ]
  },
  {
   "cell_type": "code",
   "execution_count": 14,
   "id": "b61c3bda",
   "metadata": {},
   "outputs": [
    {
     "data": {
      "text/plain": [
       "<re.Match object; span=(3, 4), match='.'>"
      ]
     },
     "execution_count": 14,
     "metadata": {},
     "output_type": "execute_result"
    }
   ],
   "source": [
    "re.search('\\.', 'foo.bar')\n",
    "\n",
    "## This does the oppisite of the above and displays the first non word"
   ]
  },
  {
   "cell_type": "code",
   "execution_count": 15,
   "id": "4d910b99",
   "metadata": {},
   "outputs": [
    {
     "name": "stdout",
     "output_type": "stream",
     "text": [
      "foo\\bar\n"
     ]
    }
   ],
   "source": [
    "s = r'foo\\bar'\n",
    "print(s)\n",
    "\n",
    "## Prints foo\\bar"
   ]
  },
  {
   "cell_type": "code",
   "execution_count": 17,
   "id": "3d8b9842",
   "metadata": {},
   "outputs": [
    {
     "data": {
      "text/plain": [
       "<re.Match object; span=(3, 4), match='\\\\'>"
      ]
     },
     "execution_count": 17,
     "metadata": {},
     "output_type": "execute_result"
    }
   ],
   "source": [
    "re.search('\\\\\\\\', s)\n",
    "\n",
    "## dipslays the middle backslashes, if you don't include the two other blackslashes, it won't work and gives errors"
   ]
  },
  {
   "cell_type": "code",
   "execution_count": 18,
   "id": "5b000c45",
   "metadata": {},
   "outputs": [
    {
     "data": {
      "text/plain": [
       "<re.Match object; span=(3, 4), match='\\\\'>"
      ]
     },
     "execution_count": 18,
     "metadata": {},
     "output_type": "execute_result"
    }
   ],
   "source": [
    "re.search(r'\\\\', s)\n",
    "\n",
    "## Alternative way is use a raw string by using r'"
   ]
  },
  {
   "cell_type": "markdown",
   "id": "8ef51924",
   "metadata": {},
   "source": [
    "## Anchors"
   ]
  },
  {
   "cell_type": "code",
   "execution_count": 26,
   "id": "87c3528a",
   "metadata": {},
   "outputs": [
    {
     "data": {
      "text/plain": [
       "<re.Match object; span=(0, 3), match='foo'>"
      ]
     },
     "execution_count": 26,
     "metadata": {},
     "output_type": "execute_result"
    }
   ],
   "source": [
    "re.search('^foo', 'foobar')\n",
    "\n",
    "## ^ means that foo has to be in the query or won't generate and must be at start of string."
   ]
  },
  {
   "cell_type": "code",
   "execution_count": 24,
   "id": "8aa3ff9f",
   "metadata": {},
   "outputs": [
    {
     "name": "stdout",
     "output_type": "stream",
     "text": [
      "None\n"
     ]
    }
   ],
   "source": [
    "print(re.search('^foo', 'barfoo'))\n",
    "\n",
    "## won't generate as not at start of string."
   ]
  },
  {
   "cell_type": "code",
   "execution_count": 30,
   "id": "4dca39a3",
   "metadata": {},
   "outputs": [
    {
     "data": {
      "text/plain": [
       "<re.Match object; span=(0, 3), match='foo'>"
      ]
     },
     "execution_count": 30,
     "metadata": {},
     "output_type": "execute_result"
    }
   ],
   "source": [
    "re.search('\\Afoo', 'foobar')\n",
    "\n",
    "## this does the same as above and searches if first entry in string"
   ]
  },
  {
   "cell_type": "code",
   "execution_count": 31,
   "id": "65c12caa",
   "metadata": {},
   "outputs": [
    {
     "name": "stdout",
     "output_type": "stream",
     "text": [
      "None\n"
     ]
    }
   ],
   "source": [
    "print(re.search('\\Afoo', 'barfoo'))\n",
    "\n",
    "## This won't generate like above as foo isn't the start of string"
   ]
  },
  {
   "cell_type": "code",
   "execution_count": 32,
   "id": "f0a2547f",
   "metadata": {},
   "outputs": [
    {
     "data": {
      "text/plain": [
       "<re.Match object; span=(3, 6), match='bar'>"
      ]
     },
     "execution_count": 32,
     "metadata": {},
     "output_type": "execute_result"
    }
   ],
   "source": [
    "re.search('bar$', 'foobar')\n",
    "\n",
    "## $ will search the end of the string"
   ]
  },
  {
   "cell_type": "code",
   "execution_count": 33,
   "id": "03f94ee5",
   "metadata": {},
   "outputs": [
    {
     "name": "stdout",
     "output_type": "stream",
     "text": [
      "None\n"
     ]
    }
   ],
   "source": [
    "print(re.search('bar$', 'barfoo'))\n",
    "\n",
    "## won't work as foo is at end of string"
   ]
  },
  {
   "cell_type": "code",
   "execution_count": 34,
   "id": "54a2712f",
   "metadata": {},
   "outputs": [
    {
     "data": {
      "text/plain": [
       "<re.Match object; span=(3, 6), match='bar'>"
      ]
     },
     "execution_count": 34,
     "metadata": {},
     "output_type": "execute_result"
    }
   ],
   "source": [
    "re.search('bar\\Z', 'foobar')\n",
    "\n",
    "## same as above but \\Z works like $"
   ]
  },
  {
   "cell_type": "code",
   "execution_count": 35,
   "id": "132e1298",
   "metadata": {},
   "outputs": [
    {
     "name": "stdout",
     "output_type": "stream",
     "text": [
      "None\n"
     ]
    }
   ],
   "source": [
    "print(re.search('bar\\Z', 'barfoo'))\n",
    "\n",
    "## won't work as foo is at end of string"
   ]
  },
  {
   "cell_type": "code",
   "execution_count": 36,
   "id": "bcd0165f",
   "metadata": {},
   "outputs": [
    {
     "data": {
      "text/plain": [
       "<re.Match object; span=(3, 6), match='bar'>"
      ]
     },
     "execution_count": 36,
     "metadata": {},
     "output_type": "execute_result"
    }
   ],
   "source": [
    "re.search('bar$', 'foobar\\n')\n",
    "\n",
    "## $ but not \\Z also matches just before a single newline at the end of the search string"
   ]
  },
  {
   "cell_type": "code",
   "execution_count": 37,
   "id": "85f42de2",
   "metadata": {},
   "outputs": [
    {
     "data": {
      "text/plain": [
       "<re.Match object; span=(4, 7), match='bar'>"
      ]
     },
     "execution_count": 37,
     "metadata": {},
     "output_type": "execute_result"
    }
   ],
   "source": [
    "re.search(r'\\bbar', 'foo bar')\n",
    "\n",
    "## \\b asserts that the regex parser’s current position must be at the beginning or end of a word."
   ]
  },
  {
   "cell_type": "code",
   "execution_count": 38,
   "id": "5d2e3341",
   "metadata": {},
   "outputs": [
    {
     "data": {
      "text/plain": [
       "<re.Match object; span=(4, 7), match='bar'>"
      ]
     },
     "execution_count": 38,
     "metadata": {},
     "output_type": "execute_result"
    }
   ],
   "source": [
    "re.search(r'\\bbar', 'foo.bar')\n",
    "\n",
    "## \\b also recognizes the full stop and prints what is after it"
   ]
  },
  {
   "cell_type": "code",
   "execution_count": 39,
   "id": "e81319d8",
   "metadata": {},
   "outputs": [
    {
     "name": "stdout",
     "output_type": "stream",
     "text": [
      "None\n"
     ]
    }
   ],
   "source": [
    "print(re.search(r'\\bbar', 'foobar'))\n",
    "\n",
    "## Doesn't work as no gap between foo and bar"
   ]
  },
  {
   "cell_type": "code",
   "execution_count": 40,
   "id": "0dc934a9",
   "metadata": {},
   "outputs": [
    {
     "data": {
      "text/plain": [
       "<re.Match object; span=(0, 3), match='foo'>"
      ]
     },
     "execution_count": 40,
     "metadata": {},
     "output_type": "execute_result"
    }
   ],
   "source": [
    "re.search(r'foo\\b', 'foo bar')\n",
    "\n",
    "## works as the boundary exists after the foo"
   ]
  },
  {
   "cell_type": "code",
   "execution_count": 41,
   "id": "5f66a978",
   "metadata": {},
   "outputs": [
    {
     "data": {
      "text/plain": [
       "<re.Match object; span=(0, 3), match='foo'>"
      ]
     },
     "execution_count": 41,
     "metadata": {},
     "output_type": "execute_result"
    }
   ],
   "source": [
    "re.search(r'foo\\b', 'foo.bar')\n",
    "\n",
    "## works due to location of \\b being after the foo"
   ]
  },
  {
   "cell_type": "code",
   "execution_count": 42,
   "id": "5a44dad7",
   "metadata": {},
   "outputs": [
    {
     "name": "stdout",
     "output_type": "stream",
     "text": [
      "None\n"
     ]
    }
   ],
   "source": [
    "print(re.search(r'foo\\b', 'foobar'))\n",
    "\n",
    "## doesn't work as no boundary between foo and bar"
   ]
  },
  {
   "cell_type": "code",
   "execution_count": 47,
   "id": "c8f82d11",
   "metadata": {},
   "outputs": [
    {
     "data": {
      "text/plain": [
       "<re.Match object; span=(4, 7), match='bar'>"
      ]
     },
     "execution_count": 47,
     "metadata": {},
     "output_type": "execute_result"
    }
   ],
   "source": [
    "re.search(r'\\bbar\\b', 'foo bar baz')\n",
    "\n",
    "## works as boundary between bar and is used as a raw string."
   ]
  },
  {
   "cell_type": "code",
   "execution_count": 44,
   "id": "6f766850",
   "metadata": {},
   "outputs": [
    {
     "data": {
      "text/plain": [
       "<re.Match object; span=(4, 7), match='bar'>"
      ]
     },
     "execution_count": 44,
     "metadata": {},
     "output_type": "execute_result"
    }
   ],
   "source": [
    "re.search(r'\\bbar\\b', 'foo(bar)baz')\n",
    "\n",
    "## works also as boundary between bar and allows the brackets"
   ]
  },
  {
   "cell_type": "code",
   "execution_count": 45,
   "id": "2d8e07ff",
   "metadata": {},
   "outputs": [
    {
     "name": "stdout",
     "output_type": "stream",
     "text": [
      "None\n"
     ]
    }
   ],
   "source": [
    "print(re.search(r'\\bbar\\b', 'foobarbaz'))\n",
    "\n",
    "## doesn't work as no spaces or brackets"
   ]
  },
  {
   "cell_type": "code",
   "execution_count": 48,
   "id": "25368d47",
   "metadata": {},
   "outputs": [
    {
     "name": "stdout",
     "output_type": "stream",
     "text": [
      "<re.Match object; span=(4, 7), match='bar'>\n"
     ]
    }
   ],
   "source": [
    "print(re.search(r'\\bbar\\b', 'foo.bar.baz'))\n",
    "\n",
    "## also works with full stops"
   ]
  },
  {
   "cell_type": "code",
   "execution_count": 49,
   "id": "9bc21abf",
   "metadata": {},
   "outputs": [
    {
     "name": "stdout",
     "output_type": "stream",
     "text": [
      "None\n"
     ]
    }
   ],
   "source": [
    "print(re.search(r'\\Bfoo\\B', 'foo'))\n",
    "\n",
    "## \\B must not be at the start or end of a word which prints none"
   ]
  },
  {
   "cell_type": "code",
   "execution_count": 50,
   "id": "0163cb2e",
   "metadata": {},
   "outputs": [
    {
     "name": "stdout",
     "output_type": "stream",
     "text": [
      "None\n"
     ]
    }
   ],
   "source": [
    "print(re.search(r'\\Bfoo\\B', '.foo.'))\n",
    "\n",
    "## \\B must not be at the start or end of a word which prints none, recognizes full stops"
   ]
  },
  {
   "cell_type": "code",
   "execution_count": 51,
   "id": "ef3d10b9",
   "metadata": {},
   "outputs": [
    {
     "data": {
      "text/plain": [
       "<re.Match object; span=(3, 6), match='foo'>"
      ]
     },
     "execution_count": 51,
     "metadata": {},
     "output_type": "execute_result"
    }
   ],
   "source": [
    "re.search(r'\\Bfoo\\B', 'barfoobaz')\n",
    "\n",
    "## works as no word boundary exists at the start or end of 'foo' in the search string 'barfoobaz"
   ]
  },
  {
   "cell_type": "markdown",
   "id": "e60d3be7",
   "metadata": {},
   "source": [
    "## Quantifiers"
   ]
  },
  {
   "cell_type": "code",
   "execution_count": null,
   "id": "61733fc5",
   "metadata": {},
   "outputs": [],
   "source": []
  }
 ],
 "metadata": {
  "kernelspec": {
   "display_name": "Python 3 (ipykernel)",
   "language": "python",
   "name": "python3"
  },
  "language_info": {
   "codemirror_mode": {
    "name": "ipython",
    "version": 3
   },
   "file_extension": ".py",
   "mimetype": "text/x-python",
   "name": "python",
   "nbconvert_exporter": "python",
   "pygments_lexer": "ipython3",
   "version": "3.9.7"
  }
 },
 "nbformat": 4,
 "nbformat_minor": 5
}
