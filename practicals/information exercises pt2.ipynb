{
 "cells": [
  {
   "cell_type": "code",
   "execution_count": null,
   "id": "8dbdf632",
   "metadata": {},
   "outputs": [],
   "source": [
    "Explain why the log of zero is undefined."
   ]
  },
  {
   "cell_type": "code",
   "execution_count": null,
   "id": "dc16cef1",
   "metadata": {},
   "outputs": [],
   "source": [
    "log 0 is undefined as it is not a real number, because you can never get zero by raising anything to the power of an another number. \n",
    "\n",
    "\"You can never reach zero, you can only approach it using an infinitely large and negative power.\"\n",
    "\n",
    "(http://www.mclph.umn.edu/mathrefresh/logs3.html#:~:text=1.146%20%E2%89%88%2014-,2.,infinitely%20large%20and%20negative%20power.)"
   ]
  }
 ],
 "metadata": {
  "kernelspec": {
   "display_name": "Python 3 (ipykernel)",
   "language": "python",
   "name": "python3"
  },
  "language_info": {
   "codemirror_mode": {
    "name": "ipython",
    "version": 3
   },
   "file_extension": ".py",
   "mimetype": "text/x-python",
   "name": "python",
   "nbconvert_exporter": "python",
   "pygments_lexer": "ipython3",
   "version": "3.9.7"
  }
 },
 "nbformat": 4,
 "nbformat_minor": 5
}
