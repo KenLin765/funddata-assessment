{
 "cells": [
  {
   "cell_type": "markdown",
   "id": "85af7687",
   "metadata": {},
   "source": [
    "## Bias"
   ]
  },
  {
   "cell_type": "markdown",
   "id": "12a642e6",
   "metadata": {},
   "source": [
    "## Exercise 1:"
   ]
  },
  {
   "cell_type": "markdown",
   "id": "351d48ca",
   "metadata": {},
   "source": [
    "Give three real-world examples of different types of cognitive bias.\n",
    "\n",
    "\n",
    "\n"
   ]
  },
  {
   "cell_type": "code",
   "execution_count": 3,
   "id": "53032607",
   "metadata": {},
   "outputs": [],
   "source": [
    "# Numerical arrays.\n",
    "import numpy as np\n",
    "\n",
    "# Plots.\n",
    "import matplotlib.pyplot as plt"
   ]
  },
  {
   "cell_type": "code",
   "execution_count": 14,
   "id": "1d561b54",
   "metadata": {},
   "outputs": [
    {
     "data": {
      "text/plain": [
       "3.6"
      ]
     },
     "execution_count": 14,
     "metadata": {},
     "output_type": "execute_result"
    }
   ],
   "source": [
    "# A list of numbers - four small and one big.\n",
    "numbers1 = np.array([1, 1, 1, 1, 10])\n",
    "\n",
    "# Their mean.\n",
    "np.std(numbers1)"
   ]
  },
  {
   "cell_type": "code",
   "execution_count": 17,
   "id": "d5b86afa",
   "metadata": {},
   "outputs": [
    {
     "data": {
      "text/plain": [
       "0.7483314773547882"
      ]
     },
     "execution_count": 17,
     "metadata": {},
     "output_type": "execute_result"
    }
   ],
   "source": [
    "# A list of numbers - all close to each other.\n",
    "numbers2 = np.array([2, 2, 3, 3, 4])\n",
    "\n",
    "# Their mean.\n",
    "np.std(numbers2)"
   ]
  },
  {
   "cell_type": "code",
   "execution_count": null,
   "id": "b7d15c17",
   "metadata": {},
   "outputs": [],
   "source": []
  }
 ],
 "metadata": {
  "kernelspec": {
   "display_name": "Python 3 (ipykernel)",
   "language": "python",
   "name": "python3"
  },
  "language_info": {
   "codemirror_mode": {
    "name": "ipython",
    "version": 3
   },
   "file_extension": ".py",
   "mimetype": "text/x-python",
   "name": "python",
   "nbconvert_exporter": "python",
   "pygments_lexer": "ipython3",
   "version": "3.9.7"
  }
 },
 "nbformat": 4,
 "nbformat_minor": 5
}
