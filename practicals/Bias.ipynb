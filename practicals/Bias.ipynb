{
 "cells": [
  {
   "cell_type": "markdown",
   "id": "85af7687",
   "metadata": {},
   "source": [
    "## Bias"
   ]
  },
  {
   "cell_type": "markdown",
   "id": "12a642e6",
   "metadata": {},
   "source": [
    "## Exercise 1:"
   ]
  },
  {
   "cell_type": "markdown",
   "id": "351d48ca",
   "metadata": {},
   "source": [
    "Give three real-world examples of different types of cognitive bias.\n",
    "\n",
    "\n",
    "\n"
   ]
  },
  {
   "cell_type": "markdown",
   "id": "d4dd25b9",
   "metadata": {},
   "source": [
    "## 1. Confirmation bias:\n",
    "\n",
    "My personal interpretation of this would be someone believing everything that they read on social media, even if it's 100% incorrect but suits someone's argument. I think people need to see the primary sources and make their own decisions on topics such as political and religious beliefs, before making any choices. \n",
    "\n",
    "I briefly did tutoring for history in school a few years ago and I always pushed my opinion, but at times I was thinking, especially in looking at secondary sources, I am giving someone else's opinion as my own and I always pushed students to read the primary sources and make your own opinions. One key person in history, I always think myself is Christopher Columbus, what I think you read in a text book, is a subset of what he actually did. \n",
    "\n",
    "Colombus has a very mixed history but maybe all forms of colonizers have a mixed history. An example from his excerpts show(1):\n",
    "\n",
    "\"Thursday, 11 October., Weapons they have none, nor are acquainted with them, for I showed them swords which they grasped by the blades, and cut themselves through ignorance. They have no iron, their javelins being without it, and nothing more than sticks, though some have fish-bones or other things at the ends. It appears to me, that the people are ingenious, and would be good servants and I am of opinion that they would very readily become Christians, as they appear to have no religion.\"\n",
    "\n",
    "In terms of data analytical examples, I read a journal by Sharona Hoffman called Big Data Analytics: What Can Go Wrong(2) where the author descibes as “an agent’s tendency to seek, interpret and use evidence in a manner biased toward confirming her existing beliefs or hypotheses.” The author later mentions \"Confirmation bias is also at play when researchers return time and again to a database, testing and retesting data in order to find publishable results\". The key finding that I took from reading the article was to always be open to changing your mind based on someone else's opinion if it is more efficient and more scalable for further projects based on an opinion by another person or maybe a change in technology and develop as many hypotheses based on the subject as you can.\n",
    "\n",
    "\n",
    "## 2. Selection Bias\n",
    "\n",
    "Kangralkar(2021)(3) has described selection bias as \"when data is chosen in a way that is not reflective of real-world data distribution.\" This has been shown as many different examples such as convergence bias which is collecting data by only surveying people that purchased your product and not customers that haven't purchased your products. This would mean that all of the data is in a predominantly positive way due to the way the survey would have been followed.\n",
    "\n",
    "The best ways to prevent this would be to take different people for example, if you were doing a study on what people had for breakfast each morning, but you asked only asked people aged between 16-30, you would be missing a whole other subset of people, that would more than likely give a totally different result, but due to the original target not seeking the right people, the information collection just won't be as good as it could have been with a larger subset.\n",
    "\n",
    "## 3. Anchoring Bias\n",
    "\n",
    "Anchoring bias has been described as \"is a cognitive bias that causes us to rely too heavily on the first piece of information we are given about a topic. When we are setting plans or making estimates about something, we interpret newer information from the reference point of our anchor, instead of seeing it objectively.(3)\" This type of bias could make us fixate on \n",
    "\n",
    "As an example, if you saw a computer for €1,000 that was reduced from €3,000, but if the same laptop was €1,000 with no deduction, you would probably be more likely to buy the same laptop if it had a discount due to the reduced price you have seen.\n",
    "\n",
    "Anchoring Bias was a tem that was invented by Amos Tversky and Daniel Kahneman in a paper called \"Judgment under Uncertainty: Heuristics and Biases\"(4) One of the main points of this study was a survey done with students about anchoring where students were given 5 seconds to do an equation.\n",
    "\n",
    "One group was given an equation of 8 x 7 x 6 x 5 x 4 x 3 x 2 x 1, another was given a equation of 1 x 2 x 3 x 4 x 5 x 6 x 7 x 8.\n",
    "The average estimate for the first problem was 2,250, for the second it was 512. The actual answer is 40,320. Tversky and Kahneman explained that the group given the descending equation from 8 downwards, came up with a higher figure due to them working with larger numbers as they were anchored towards providing a higher figure.\n",
    "\n",
    "I think that this is the biggest bias that I personally relate with as it feels so subconscious. I do think the best way around it is being open to help from others, if it was a decision a team had to make, to be open to what colleagues advise and being open to conversations in regards an idea. "
   ]
  },
  {
   "cell_type": "code",
   "execution_count": 3,
   "id": "53032607",
   "metadata": {},
   "outputs": [],
   "source": [
    "# Numerical arrays.\n",
    "import numpy as np\n",
    "\n",
    "# Plots.\n",
    "import matplotlib.pyplot as plt"
   ]
  },
  {
   "cell_type": "code",
   "execution_count": 14,
   "id": "1d561b54",
   "metadata": {},
   "outputs": [
    {
     "data": {
      "text/plain": [
       "3.6"
      ]
     },
     "execution_count": 14,
     "metadata": {},
     "output_type": "execute_result"
    }
   ],
   "source": [
    "# A list of numbers - four small and one big.\n",
    "numbers1 = np.array([1, 1, 1, 1, 10])\n",
    "\n",
    "# Their mean.\n",
    "np.std(numbers1)"
   ]
  },
  {
   "cell_type": "code",
   "execution_count": 17,
   "id": "d5b86afa",
   "metadata": {},
   "outputs": [
    {
     "data": {
      "text/plain": [
       "0.7483314773547882"
      ]
     },
     "execution_count": 17,
     "metadata": {},
     "output_type": "execute_result"
    }
   ],
   "source": [
    "# A list of numbers - all close to each other.\n",
    "numbers2 = np.array([2, 2, 3, 3, 4])\n",
    "\n",
    "# Their mean.\n",
    "np.std(numbers2)"
   ]
  },
  {
   "cell_type": "code",
   "execution_count": null,
   "id": "b7d15c17",
   "metadata": {},
   "outputs": [],
   "source": []
  }
 ],
 "metadata": {
  "kernelspec": {
   "display_name": "Python 3 (ipykernel)",
   "language": "python",
   "name": "python3"
  },
  "language_info": {
   "codemirror_mode": {
    "name": "ipython",
    "version": 3
   },
   "file_extension": ".py",
   "mimetype": "text/x-python",
   "name": "python",
   "nbconvert_exporter": "python",
   "pygments_lexer": "ipython3",
   "version": "3.9.7"
  }
 },
 "nbformat": 4,
 "nbformat_minor": 5
}
