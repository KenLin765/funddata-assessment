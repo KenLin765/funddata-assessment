{
 "cells": [
  {
   "cell_type": "markdown",
   "id": "85af7687",
   "metadata": {},
   "source": [
    "## Bias"
   ]
  },
  {
   "cell_type": "code",
   "execution_count": 2,
   "id": "b1d5e8b1",
   "metadata": {},
   "outputs": [],
   "source": [
    "# Numerical arrays.\n",
    "import numpy as np\n",
    "\n",
    "# Plots.\n",
    "import matplotlib.pyplot as plt"
   ]
  },
  {
   "cell_type": "markdown",
   "id": "12a642e6",
   "metadata": {},
   "source": [
    "## Exercise 1:"
   ]
  },
  {
   "cell_type": "markdown",
   "id": "351d48ca",
   "metadata": {},
   "source": [
    "Give three real-world examples of different types of cognitive bias.\n",
    "\n",
    "\n",
    "\n"
   ]
  },
  {
   "cell_type": "markdown",
   "id": "d4dd25b9",
   "metadata": {},
   "source": [
    "### 1. Confirmation bias:\n",
    "\n",
    "My personal interpretation of this would be someone believing everything that they read on social media or another media or a real life meeting, even if it's 100% incorrect but suits someone's argument. I think people need to see the primary sources and make their own decisions on topics such as political and religious beliefs, before making any choices. \n",
    "\n",
    "I briefly did tutoring for history in school a few years ago and I always pushed my opinion, but at times I was thinking, especially in looking at secondary sources, I am giving someone else's opinion as my own and I always pushed students to read the primary sources and make your own opinions. One key person in history, I always think myself is Christopher Columbus, what I think you read in a text book, is a subset of what he actually did. \n",
    "\n",
    "Colombus has a very mixed history but maybe all forms of colonizers have a mixed history. An example from his excerpts show(1):\n",
    "\n",
    "\"Thursday, 11 October., Weapons they have none, nor are acquainted with them, for I showed them swords which they grasped by the blades, and cut themselves through ignorance. They have no iron, their javelins being without it, and nothing more than sticks, though some have fish-bones or other things at the ends. It appears to me, that the people are ingenious, and would be good servants and I am of opinion that they would very readily become Christians, as they appear to have no religion.\"\n",
    "\n",
    "In terms of data analytical examples, I read a journal by Sharona Hoffman called Big Data Analytics: What Can Go Wrong(2) where the author descibes as “an agent’s tendency to seek, interpret and use evidence in a manner biased toward confirming her existing beliefs or hypotheses.” The author later mentions \"Confirmation bias is also at play when researchers return time and again to a database, testing and retesting data in order to find publishable results\". The key finding that I took from reading the article was to always be open to changing your mind based on someone else's opinion if it is more efficient and more scalable for further projects based on an opinion by another person or maybe a change in technology and develop as many hypotheses based on the subject as you can.\n",
    "\n",
    "\n",
    "### 2. Selection Bias\n",
    "\n",
    "Kangralkar(2021)(3) has described selection bias as \"when data is chosen in a way that is not reflective of real-world data distribution.\" This has been shown as many different examples such as convergence bias which is collecting data by only surveying people that purchased your product and not customers that haven't purchased your products. This would mean that all of the data is in a predominantly positive way due to the way the survey would have been followed.\n",
    "\n",
    "The best ways to prevent this would be to take different people for example, if you were doing a study on what people had for breakfast each morning, but you asked only asked people aged between 16-30, you would be missing a whole other subset of people, that would more than likely give a totally different result, but due to the original target not seeking the right people, the information collection just won't be as good as it could have been with a larger subset.\n",
    "\n",
    "### 3. Anchoring Bias\n",
    "\n",
    "Anchoring bias has been described as \"is a cognitive bias that causes us to rely too heavily on the first piece of information we are given about a topic. When we are setting plans or making estimates about something, we interpret newer information from the reference point of our anchor, instead of seeing it objectively.(3)\" This type of bias could make us fixate on \n",
    "\n",
    "As an example, if you saw a computer for €1,000 that was reduced from €3,000, but if the same laptop was €1,000 with no deduction, you would probably be more likely to buy the same laptop if it had a discount due to the reduced price you have seen.\n",
    "\n",
    "Anchoring Bias was a tem that was invented by Amos Tversky and Daniel Kahneman in a paper called \"Judgment under Uncertainty: Heuristics and Biases\"(4) One of the main points of this study was a survey done with students about anchoring where students were given 5 seconds to do an equation.\n",
    "\n",
    "One group was given an equation of 8 x 7 x 6 x 5 x 4 x 3 x 2 x 1, another was given a equation of 1 x 2 x 3 x 4 x 5 x 6 x 7 x 8.\n",
    "The average estimate for the first problem was 2,250, for the second it was 512. The actual answer is 40,320. Tversky and Kahneman explained that the group given the descending equation from 8 downwards, came up with a higher figure due to them working with larger numbers as they were anchored towards providing a higher figure.\n",
    "\n",
    "I think that this is the biggest bias that I personally relate with as it feels so subconscious. I do think the best way around it is being open to help from others, if it was a decision a team had to make, to be open to what colleagues advise and being open to conversations in regards an idea. "
   ]
  },
  {
   "cell_type": "markdown",
   "id": "0f09b986",
   "metadata": {},
   "source": [
    "Sources Used:\n",
    "\n",
    "[1] https://history.hanover.edu/courses/excerpts/111columbus.html\n",
    "\n",
    "[2] Sharona Hoffman, Big Data Analytics: What Can Go Wrong 2018 https://scholarlycommons.law.case.edu/cgi/viewcontent.cgi?article=3024&context=faculty_publications\n",
    "\n",
    "[3] https://thedecisionlab.com/biases/anchoring-bias\n",
    "\n",
    "[4] Amos Tversky; Daniel Kahneman, Science, New Series, Vol. 185, No. 4157. (Sep. 27, 1974), pp. 1124-1131, https://www2.psych.ubc.ca/~schaller/Psyc590Readings/TverskyKahneman1974.pdf"
   ]
  },
  {
   "cell_type": "markdown",
   "id": "8d8781fd",
   "metadata": {},
   "source": [
    "## Exercise 2\n",
    "\n",
    "Show that the difference between the standard deviation calculations is greatest for small sample sizes."
   ]
  },
  {
   "cell_type": "markdown",
   "id": "832538a3",
   "metadata": {},
   "source": [
    "$  s = \\sqrt{\\frac{1}{N-1} \\sum_{i=1}^N (x_i - \\overline{x})^2}  $"
   ]
  },
  {
   "cell_type": "markdown",
   "id": "cec1775b",
   "metadata": {},
   "source": [
    "A standard deviation (or σ) is a measure of how dispersed the data is in relation to the mean. Low standard deviation means data are clustered around the mean, and high standard deviation indicates data are more spread out. A standard deviation close to zero indicates that data points are close to the mean, whereas a high or low standard deviation indicates data points are respectively above or below the mean."
   ]
  },
  {
   "cell_type": "code",
   "execution_count": 14,
   "id": "1d561b54",
   "metadata": {},
   "outputs": [
    {
     "data": {
      "text/plain": [
       "3.6"
      ]
     },
     "execution_count": 14,
     "metadata": {},
     "output_type": "execute_result"
    }
   ],
   "source": [
    "# A list of numbers - four small and one big.\n",
    "numbers1 = np.array([1, 1, 1, 1, 10])\n",
    "\n",
    "# Their mean.\n",
    "np.std(numbers1)"
   ]
  },
  {
   "cell_type": "code",
   "execution_count": 6,
   "id": "8199cc19",
   "metadata": {},
   "outputs": [
    {
     "name": "stdout",
     "output_type": "stream",
     "text": [
      "[36, 914, 414, 460, 834, 106, 156, 271, 437, 37, 321, 998, 712, 787, 979, 883, 608, 764, 647, 236, 985, 308, 530, 223, 634, 92, 543, 536, 773, 351, 340, 555, 417, 601, 195, 762, 502, 176, 803, 570, 805, 656, 540, 317, 838, 884, 450, 376, 663, 263, 457, 880, 792, 908, 717, 58, 299, 168, 149, 574, 984, 51, 756, 304, 735, 111, 949, 277, 227, 889, 157, 292, 43, 174, 739, 539, 89, 568, 135, 525, 52, 463, 255, 881, 736, 919, 229, 498, 867, 566, 866, 473, 992, 630, 410, 782, 861, 90, 865, 725]\n"
     ]
    }
   ],
   "source": [
    "numbers1= random.sample(range(0, 1000), 100)\n",
    "\n",
    "print (numbers1)"
   ]
  },
  {
   "cell_type": "code",
   "execution_count": 7,
   "id": "a95f8351",
   "metadata": {},
   "outputs": [
    {
     "data": {
      "text/plain": [
       "288.54340470716016"
      ]
     },
     "execution_count": 7,
     "metadata": {},
     "output_type": "execute_result"
    }
   ],
   "source": [
    "np.std(numbers1)"
   ]
  },
  {
   "cell_type": "code",
   "execution_count": 9,
   "id": "d5b86afa",
   "metadata": {},
   "outputs": [
    {
     "data": {
      "text/plain": [
       "1.4142135623730951"
      ]
     },
     "execution_count": 9,
     "metadata": {},
     "output_type": "execute_result"
    }
   ],
   "source": [
    "# A list of numbers - all close to each other.\n",
    "numbers2 = np.array([1, 2, 3, 4, 5])\n",
    "\n",
    "# Their mean.\n",
    "np.std(numbers2)"
   ]
  },
  {
   "cell_type": "code",
   "execution_count": null,
   "id": "b7d15c17",
   "metadata": {},
   "outputs": [],
   "source": []
  }
 ],
 "metadata": {
  "kernelspec": {
   "display_name": "Python 3 (ipykernel)",
   "language": "python",
   "name": "python3"
  },
  "language_info": {
   "codemirror_mode": {
    "name": "ipython",
    "version": 3
   },
   "file_extension": ".py",
   "mimetype": "text/x-python",
   "name": "python",
   "nbconvert_exporter": "python",
   "pygments_lexer": "ipython3",
   "version": "3.9.7"
  }
 },
 "nbformat": 4,
 "nbformat_minor": 5
}
