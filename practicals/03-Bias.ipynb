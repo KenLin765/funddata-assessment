{
 "cells": [
  {
   "cell_type": "markdown",
   "id": "85af7687",
   "metadata": {},
   "source": [
    "## Bias"
   ]
  },
  {
   "cell_type": "code",
   "execution_count": 12,
   "id": "b1d5e8b1",
   "metadata": {},
   "outputs": [],
   "source": [
    "# Numerical arrays.\n",
    "import numpy as np\n",
    "\n",
    "# Plots.\n",
    "import matplotlib.pyplot as plt\n",
    "\n",
    "import random\n",
    "\n",
    "import pandas"
   ]
  },
  {
   "cell_type": "markdown",
   "id": "12a642e6",
   "metadata": {},
   "source": [
    "## Exercise 1:"
   ]
  },
  {
   "cell_type": "markdown",
   "id": "351d48ca",
   "metadata": {},
   "source": [
    "Give three real-world examples of different types of cognitive bias.\n",
    "\n",
    "\n",
    "\n"
   ]
  },
  {
   "cell_type": "markdown",
   "id": "d4dd25b9",
   "metadata": {},
   "source": [
    "### 1. Confirmation bias:\n",
    "\n",
    "My personal interpretation of this would be someone believing everything that they read on social media or another media or a real life meeting, even if it's 100% incorrect but suits someone's argument. I think people need to see the primary sources and make their own decisions on topics such as political and religious beliefs, before making any choices. \n",
    "\n",
    "I briefly did tutoring for history in school a few years ago and I always pushed my opinion, but at times I was thinking, especially in looking at secondary sources, I am giving someone else's opinion as my own and I always pushed students to read the primary sources and make your own opinions. One key person in history, I always think myself is Christopher Columbus, what I think you read in a text book, is a subset of what he actually did. \n",
    "\n",
    "Colombus has a very mixed history but maybe all forms of colonizers have a mixed history. An example from his excerpts show(1):\n",
    "\n",
    "\"Thursday, 11 October., Weapons they have none, nor are acquainted with them, for I showed them swords which they grasped by the blades, and cut themselves through ignorance. They have no iron, their javelins being without it, and nothing more than sticks, though some have fish-bones or other things at the ends. It appears to me, that the people are ingenious, and would be good servants and I am of opinion that they would very readily become Christians, as they appear to have no religion.\"\n",
    "\n",
    "In terms of data analytical examples, I read a journal by Sharona Hoffman called Big Data Analytics: What Can Go Wrong(2) where the author descibes as “an agent’s tendency to seek, interpret and use evidence in a manner biased toward confirming her existing beliefs or hypotheses.” The author later mentions \"Confirmation bias is also at play when researchers return time and again to a database, testing and retesting data in order to find publishable results\". The key finding that I took from reading the article was to always be open to changing your mind based on someone else's opinion if it is more efficient and more scalable for further projects based on an opinion by another person or maybe a change in technology and develop as many hypotheses based on the subject as you can.\n",
    "\n",
    "\n",
    "### 2. Selection Bias\n",
    "\n",
    "Kangralkar(2021)(3) has described selection bias as \"when data is chosen in a way that is not reflective of real-world data distribution.\" This has been shown as many different examples such as convergence bias which is collecting data by only surveying people that purchased your product and not customers that haven't purchased your products. This would mean that all of the data is in a predominantly positive way due to the way the survey would have been followed.\n",
    "\n",
    "The best ways to prevent this would be to take different people for example, if you were doing a study on what people had for breakfast each morning, but you asked only asked people aged between 16-30, you would be missing a whole other subset of people, that would more than likely give a totally different result, but due to the original target not seeking the right people, the information collection just won't be as good as it could have been with a larger subset.\n",
    "\n",
    "### 3. Anchoring Bias\n",
    "\n",
    "Anchoring bias has been described as \"is a cognitive bias that causes us to rely too heavily on the first piece of information we are given about a topic. When we are setting plans or making estimates about something, we interpret newer information from the reference point of our anchor, instead of seeing it objectively.(3)\" This type of bias could make us fixate on \n",
    "\n",
    "As an example, if you saw a computer for €1,000 that was reduced from €3,000, but if the same laptop was €1,000 with no deduction, you would probably be more likely to buy the same laptop if it had a discount due to the reduced price you have seen.\n",
    "\n",
    "Anchoring Bias was a tem that was invented by Amos Tversky and Daniel Kahneman in a paper called \"Judgment under Uncertainty: Heuristics and Biases\"(4) One of the main points of this study was a survey done with students about anchoring where students were given 5 seconds to do an equation.\n",
    "\n",
    "One group was given an equation of 8 x 7 x 6 x 5 x 4 x 3 x 2 x 1, another was given a equation of 1 x 2 x 3 x 4 x 5 x 6 x 7 x 8.\n",
    "The average estimate for the first problem was 2,250, for the second it was 512. The actual answer is 40,320. Tversky and Kahneman explained that the group given the descending equation from 8 downwards, came up with a higher figure due to them working with larger numbers as they were anchored towards providing a higher figure.\n",
    "\n",
    "I think that this is the biggest bias that I personally relate with as it feels so subconscious. I do think the best way around it is being open to help from others, if it was a decision a team had to make, to be open to what colleagues advise and being open to conversations in regards an idea. "
   ]
  },
  {
   "cell_type": "markdown",
   "id": "0f09b986",
   "metadata": {},
   "source": [
    "Sources Used:\n",
    "\n",
    "[1] https://history.hanover.edu/courses/excerpts/111columbus.html\n",
    "\n",
    "[2] Sharona Hoffman, Big Data Analytics: What Can Go Wrong 2018 https://scholarlycommons.law.case.edu/cgi/viewcontent.cgi?article=3024&context=faculty_publications\n",
    "\n",
    "[3] https://thedecisionlab.com/biases/anchoring-bias\n",
    "\n",
    "[4] Amos Tversky; Daniel Kahneman, Science, New Series, Vol. 185, No. 4157. (Sep. 27, 1974), pp. 1124-1131, https://www2.psych.ubc.ca/~schaller/Psyc590Readings/TverskyKahneman1974.pdf"
   ]
  },
  {
   "cell_type": "markdown",
   "id": "8d8781fd",
   "metadata": {},
   "source": [
    "## Exercise 2\n",
    "\n",
    "Show that the difference between the standard deviation calculations is greatest for small sample sizes."
   ]
  },
  {
   "cell_type": "markdown",
   "id": "832538a3",
   "metadata": {},
   "source": [
    "$  \\sigma = \\sqrt{\\frac{1}{N-1} \\sum_{i=1}^N (x_i - \\overline{x})^2}  $"
   ]
  },
  {
   "cell_type": "markdown",
   "id": "cec1775b",
   "metadata": {},
   "source": [
    "A standard deviation (or σ) is a measure of how dispersed the data is in relation to the mean. Low standard deviation means data are clustered around the mean, and high standard deviation indicates data are more spread out. A standard deviation close to zero indicates that data points are close to the mean, whereas a high or low standard deviation indicates data points are respectively above or below the mean. [1]"
   ]
  },
  {
   "cell_type": "code",
   "execution_count": 6,
   "id": "1d561b54",
   "metadata": {},
   "outputs": [
    {
     "data": {
      "text/plain": [
       "3.6"
      ]
     },
     "execution_count": 6,
     "metadata": {},
     "output_type": "execute_result"
    }
   ],
   "source": [
    "# A list of numbers - four small and one big.\n",
    "numbers1 = np.array([1, 1, 1, 1, 10])\n",
    "\n",
    "# Their mean.\n",
    "np.std(numbers1)"
   ]
  },
  {
   "cell_type": "code",
   "execution_count": 13,
   "id": "8199cc19",
   "metadata": {},
   "outputs": [
    {
     "name": "stdout",
     "output_type": "stream",
     "text": [
      "[720, 860, 742, 582, 833, 514, 290, 167, 483, 391, 413, 399, 802, 382, 394, 941, 512, 321, 932, 812, 515, 364, 568, 313, 937, 719, 523, 820, 119, 458, 551, 165, 261, 578, 9, 728, 411, 897, 851, 721, 479, 154, 158, 915, 879, 408, 143, 480, 293, 106, 370, 735, 498, 773, 487, 913, 128, 910, 349, 79, 286, 774, 980, 166, 873, 121, 965, 122, 425, 324, 251, 5, 607, 493, 243, 616, 738, 509, 419, 821, 236, 287, 274, 6, 711, 254, 747, 670, 101, 155, 928, 295, 576, 459, 98, 600, 783, 93, 893, 64]\n"
     ]
    }
   ],
   "source": [
    "numbers1= random.sample(range(0, 1000), 100)\n",
    "\n",
    "print (numbers1)"
   ]
  },
  {
   "cell_type": "code",
   "execution_count": 14,
   "id": "a95f8351",
   "metadata": {},
   "outputs": [
    {
     "data": {
      "text/plain": [
       "279.4799046443232"
      ]
     },
     "execution_count": 14,
     "metadata": {},
     "output_type": "execute_result"
    }
   ],
   "source": [
    "np.std(numbers1)"
   ]
  },
  {
   "cell_type": "code",
   "execution_count": 15,
   "id": "099560fa",
   "metadata": {},
   "outputs": [
    {
     "data": {
      "text/plain": [
       "492.23"
      ]
     },
     "execution_count": 15,
     "metadata": {},
     "output_type": "execute_result"
    }
   ],
   "source": [
    "np.mean(numbers1)"
   ]
  },
  {
   "cell_type": "code",
   "execution_count": 3,
   "id": "d5b86afa",
   "metadata": {},
   "outputs": [
    {
     "data": {
      "text/plain": [
       "1.4142135623730951"
      ]
     },
     "execution_count": 3,
     "metadata": {},
     "output_type": "execute_result"
    }
   ],
   "source": [
    "# A list of numbers - all close to each other.\n",
    "numbers2 = np.array([1, 2, 3, 4, 5])\n",
    "\n",
    "# standard deviation of the numbers.\n",
    "np.std(numbers2)"
   ]
  },
  {
   "cell_type": "code",
   "execution_count": 16,
   "id": "ae20980e",
   "metadata": {},
   "outputs": [
    {
     "data": {
      "text/plain": [
       "3.0"
      ]
     },
     "execution_count": 16,
     "metadata": {},
     "output_type": "execute_result"
    }
   ],
   "source": [
    "np.mean(numbers2)"
   ]
  },
  {
   "cell_type": "markdown",
   "id": "a2430a10",
   "metadata": {},
   "source": [
    "I made a short example using numpy, I created a random 100 array of numbers between 0 - 1000. We can see that the difference between the mean and the standard deviation for the smaller number is much lower than the higher figures. \n",
    "\n",
    "The second numbers list has an average of 3 with a standard deviation of 1.414 which is much closer and has a low standard deviation. The first numbers list I generated randomly is much further away with the average being 492.23 and the standard deviation being 279.479 would be a high standard deviation."
   ]
  },
  {
   "cell_type": "markdown",
   "id": "178b917f",
   "metadata": {},
   "source": [
    "Source Used - https://towardsdatascience.com/using-standard-deviation-in-python-77872c32ba9b [2]\n",
    "\n",
    "I wanted to try and find a real world example of standard deviation and found this page that takes two cities and compares their temperatures for a two week period "
   ]
  },
  {
   "cell_type": "code",
   "execution_count": 49,
   "id": "e2d56242",
   "metadata": {},
   "outputs": [
    {
     "name": "stdout",
     "output_type": "stream",
     "text": [
      "The average temperature in City A is 33.4\n",
      "The average temperature in City B is 33.53333333333333\n",
      "The standard deviation in City A is 2.6025628394590843\n",
      "The standard deviation in City B is 4.828618389928485\n"
     ]
    }
   ],
   "source": [
    "## Random arrays created for the two cities\n",
    "\n",
    "City_A=[36,37,36,34,39,33,30,30,32,31,31,32,32,33,35] \n",
    "City_B=[41,35,28,29,25,36,36,32,38,40,40,34,31,28,30] \n",
    "\n",
    "## Used to calculate the means and standard deviation\n",
    "\n",
    "Mean_City_A=np.mean(City_A)\n",
    "Mean_City_B=np.mean(City_B) \n",
    "\n",
    "STDV_City_A=np.std(City_A)\n",
    "STDV_City_B=np.std(City_B)\n",
    "\n",
    "## Printed both the mean and standard deviations\n",
    "\n",
    "print (\"The average temperature in City A is\", Mean_City_A)\n",
    "print (\"The average temperature in City B is\", Mean_City_B)\n",
    "\n",
    "print (\"The standard deviation in City A is\", STDV_City_A)\n",
    "print (\"The standard deviation in City B is\", STDV_City_B)"
   ]
  },
  {
   "cell_type": "markdown",
   "id": "f88f40a7",
   "metadata": {},
   "source": [
    "The first thing that I spotted was that the standard deviation of city A is much more less than city B. This shows that the temperatures in City B vary compared to city A.\n",
    "\n",
    "Error bars are useful to problem solvers because they show the confidence or precision in a set of calculated values. The mean and the standard deviation can be depicted using matlibplot library in Python."
   ]
  },
  {
   "cell_type": "code",
   "execution_count": 62,
   "id": "2876857b",
   "metadata": {},
   "outputs": [
    {
     "data": {
      "image/png": "[encoded data removed]",
      "text/plain": [
       "<Figure size 720x576 with 1 Axes>"
      ]
     },
     "metadata": {
      "needs_background": "light"
     },
     "output_type": "display_data"
    }
   ],
   "source": [
    "# Create a figure with customized size\n",
    "fig = plt.figure(figsize=(10, 8))\n",
    "ax = fig.add_subplot(111) \n",
    "# Set the axis label names\n",
    "ax.set_xlabel('Day')\n",
    "ax.set_ylabel('Temperature')\n",
    "\n",
    "# X axis is day numbers from 1 to 15\n",
    "xaxis = np.array(range(1,16))\n",
    "\n",
    "# Line color for error bar\n",
    "color_City_A = 'red'\n",
    "color_City_B = 'blue' \n",
    "# Line style for each dataset\n",
    "lineStyle_City_A={\"linestyle\":\"--\", \"linewidth\":2, \"markeredgewidth\":2, \"elinewidth\":2, \"capsize\":3}\n",
    "lineStyle_City_B={\"linestyle\":\"-\", \"linewidth\":2, \"markeredgewidth\":2, \"elinewidth\":2, \"capsize\":3}\n",
    "\n",
    "ax.legend([line_City_A, line_City_B,], ['City A', 'City B'])\n",
    "\n",
    "# Create an error bar for each dataset\n",
    "line_City_A=ax.errorbar(xaxis, City_A, yerr=STDV_City_A, color=color_City_A, label='City A')\n",
    "line_City_B=ax.errorbar(xaxis, City_B, yerr=STDV_City_B, color=color_City_B, label='City B')\n",
    "\n",
    "plt.show()"
   ]
  },
  {
   "cell_type": "markdown",
   "id": "8fd70676",
   "metadata": {},
   "source": [
    "Sources Used:\n",
    "\n",
    "[1] https://www.nlm.nih.gov/nichsr/stats_tutorial/section2/mod8_sd.html\n",
    "\n",
    "[2] https://towardsdatascience.com/using-standard-deviation-in-python-77872c32ba9b"
   ]
  }
 ],
 "metadata": {
  "kernelspec": {
   "display_name": "Python 3 (ipykernel)",
   "language": "python",
   "name": "python3"
  },
  "language_info": {
   "codemirror_mode": {
    "name": "ipython",
    "version": 3
   },
   "file_extension": ".py",
   "mimetype": "text/x-python",
   "name": "python",
   "nbconvert_exporter": "python",
   "pygments_lexer": "ipython3",
   "version": "3.9.7"
  }
 },
 "nbformat": 4,
 "nbformat_minor": 5
}
