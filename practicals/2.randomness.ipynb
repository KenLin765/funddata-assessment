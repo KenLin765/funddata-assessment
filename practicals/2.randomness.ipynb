{
 "cells": [
  {
   "cell_type": "markdown",
   "id": "2c7d8c8c",
   "metadata": {},
   "source": [
    "# Randomness"
   ]
  },
  {
   "cell_type": "code",
   "execution_count": 66,
   "id": "a7e7ec33",
   "metadata": {},
   "outputs": [],
   "source": [
    "# For generating numbers.\n",
    "import numpy as np\n",
    "import matplotlib.pyplot as plt\n",
    "import random as r"
   ]
  },
  {
   "cell_type": "markdown",
   "id": "59276590",
   "metadata": {},
   "source": [
    "## Exercise 1\n",
    "\n",
    "It is somewhat interesting that (5 * 4 * 3 * 2 * 1) perfectly divides (10 * 9 * 8 * 7 * 6) - there's no remainder.\n",
    "\n",
    "If we only wanted exactly four heads as opposed to five, \n",
    "the equivalent calculation would be (10 * 9 * 8 * 7) / (4 * 3 * 2 * 1).\n",
    "\n",
    "Does that evenly divide too? What is the formula in general?\n",
    "\n",
    "Does it always come out as a positive whole number?"
   ]
  },
  {
   "cell_type": "code",
   "execution_count": 14,
   "id": "4075e478",
   "metadata": {},
   "outputs": [
    {
     "data": {
      "text/plain": [
       "210.0"
      ]
     },
     "execution_count": 14,
     "metadata": {},
     "output_type": "execute_result"
    }
   ],
   "source": [
    "(10*9*8*7)/(4*3*2*1)\n",
    "\n",
    "## I firstly used the inbuilt python function / character to divide the two numbers and to show that there is no division"
   ]
  },
  {
   "cell_type": "markdown",
   "id": "009374f7",
   "metadata": {},
   "source": [
    "The number does also equally divide due to it being a number of different ways to arrange the numbers. This would mean that there are 210 different ways we could get a scenario such as:\n",
    "\n",
    "`H` `H` `H` `H` `_` `_` `_` `_`\\n\"\n",
    "\n",
    "We could get this in a variety of ways, such as:\n",
    "\n",
    "`H` `_` `H` `_` `H` `_` `H` `_`\\n\"\n",
    "\n",
    "This is a concept called binomial distribution.\n",
    "\n",
    "A binomial distribution can be thought of as simply the probability of a SUCCESS or FAILURE outcome in an experiment or survey that is repeated multiple times. \n",
    "\n",
    "The binomial is a type of distribution that has two possible outcomes (Accessed 23/10/22 - https://www.statisticshowto.com/probability-and-statistics/binomial-theorem/binomial-distribution-formula/)\n",
    "\n",
    "For example, a coin toss has only two possible outcomes: heads or tails and taking a test could have two possible outcomes: pass or fail."
   ]
  },
  {
   "cell_type": "markdown",
   "id": "aac0bab7",
   "metadata": {},
   "source": [
    "What is the formula in general?\n",
    "\n",
    "n = number of trials = 8\n",
    "x = number of successes(head) among n trials = 4\n",
    "p = probability of success(head) in any one trial = 1/2\n",
    "q = probability of failure in any one trial (q = 1 - p) = 1/2\n",
    "\n",
    "P(x) = 8C5∗(1/2)4∗(1/2)4=210∗(1/2)10≈0.210 or 21% chance of getting 4 out of 8 heads \n",
    "\n",
    "Thry would both come out as a positive whole number."
   ]
  },
  {
   "cell_type": "code",
   "execution_count": 12,
   "id": "aa6eba20",
   "metadata": {},
   "outputs": [
    {
     "data": {
      "text/plain": [
       "array([1, 0, 0, 1, 1, 1, 0, 0])"
      ]
     },
     "execution_count": 12,
     "metadata": {},
     "output_type": "execute_result"
    }
   ],
   "source": [
    "## This would be the scenario shown as a random buinomial. The array shows us \n",
    "\n",
    "np.random.binomial(1, 0.5, 8)"
   ]
  },
  {
   "cell_type": "code",
   "execution_count": 56,
   "id": "8562bd5a",
   "metadata": {},
   "outputs": [],
   "source": [
    "## I used this as idea for code but based on our scenario - https://towardsdatascience.com/how-to-code-a-fair-coin-flip-in-python-d54312f33da9\n",
    "\n",
    "#probability of heads vs. tails. This can be changed.\n",
    "heads = 4\n",
    "#num of flips required. This can be changed.\n",
    "Total = 8"
   ]
  },
  {
   "cell_type": "code",
   "execution_count": 58,
   "id": "1ee32f95",
   "metadata": {},
   "outputs": [
    {
     "name": "stdout",
     "output_type": "stream",
     "text": [
      "Total Amount of throws is  8\n",
      "Total amount of heads from throws are  4\n"
     ]
    }
   ],
   "source": [
    "#print results\n",
    "print(\"Total Amount of throws is \", Total)\n",
    "print(\"Total amount of heads from throws are \", heads)\n",
    "#Total up heads and tails for easy user experience "
   ]
  },
  {
   "cell_type": "markdown",
   "id": "e6792d70",
   "metadata": {},
   "source": [
    "## Exercise 2\n",
    "\n",
    "Note that there are the same number of ways to get 4 tails as there to get 4 heads. Explain why this is."
   ]
  },
  {
   "cell_type": "markdown",
   "id": "2c23ba8e",
   "metadata": {},
   "source": [
    "A toss of a coin is totally random. We could get 4 tails out of 4 throws or 4 heads out of 4 throws.\n",
    "\n",
    "I'll display how it would work with 4 heads out of 4 throws\n",
    "\n",
    "First Throw - 1/2 chance of heads\n",
    "\n",
    "Second throw - 1/2 which equates overall to 1/4\n",
    "\n",
    "Third throw - 1/2 which equates overall to 1/8\n",
    "\n",
    "Fourth throw - 1/2 which equates overall to 1/16\n",
    "\n",
    "This would mean a 6.25% chance of us getting 4 in a row."
   ]
  },
  {
   "cell_type": "markdown",
   "id": "b8f42ab8",
   "metadata": {},
   "source": [
    "## Exercise 3\n",
    "\n",
    "Plot bar charts or histograms of any three different distributions listed at the following link:\n",
    "\n",
    "https://numpy.org/doc/stable/reference/random/generator.html#distributions"
   ]
  },
  {
   "cell_type": "code",
   "execution_count": 13,
   "id": "9d45fc4b",
   "metadata": {},
   "outputs": [
    {
     "data": {
      "image/png": "[encoded data removed]",
      "text/plain": [
       "<Figure size 432x288 with 1 Axes>"
      ]
     },
     "metadata": {
      "needs_background": "light"
     },
     "output_type": "display_data"
    }
   ],
   "source": [
    "# Adapted from https://numpy.org/doc/stable/reference/random/generated/numpy.random.Generator.standard_exponential.html#numpy.random.Generator.standard_exponential\n",
    "\n",
    "n = np.random.default_rng().standard_exponential((3, 4000))\n",
    "\n",
    "plt.hist(sample, bins=bin, edgecolor='red') \n",
    "plt.title(\"Standard Exponential\") \n",
    "plt.show()"
   ]
  },
  {
   "cell_type": "code",
   "execution_count": 19,
   "id": "b1a54b9e",
   "metadata": {},
   "outputs": [
    {
     "data": {
      "image/png": "[encoded data removed]",
      "text/plain": [
       "<Figure size 432x288 with 1 Axes>"
      ]
     },
     "metadata": {
      "needs_background": "light"
     },
     "output_type": "display_data"
    }
   ],
   "source": [
    "import matplotlib.pyplot as plt\n",
    "import numpy as np\n",
    "\n",
    "# Adapted from https://numpy.org/doc/stable/reference/random/generated/numpy.random.Generator.standard_exponential.html#numpy.random.Generator.standard_exponential\n",
    "\n",
    "z = np.random.default_rng().geometric(p=0.35, size=10000)\n",
    "\n",
    "plt.bar(z, align='center', alpha=0.5, height= 0.5) \n",
    "plt.title(\"Geometric Distribution.\") \n",
    "plt.show()"
   ]
  },
  {
   "cell_type": "code",
   "execution_count": 38,
   "id": "52dba5ac",
   "metadata": {},
   "outputs": [
    {
     "data": {
      "image/png": "[encoded data removed]",
      "text/plain": [
       "<Figure size 432x288 with 1 Axes>"
      ]
     },
     "metadata": {
      "needs_background": "light"
     },
     "output_type": "display_data"
    }
   ],
   "source": [
    "from numpy import random\n",
    "import numpy as np\n",
    "import matplotlib.pyplot as plt\n",
    "import seaborn as sns\n",
    "\n",
    "\n",
    "# Code adapted from https://numpy.org/doc/stable/reference/random/generated/numpy.random.Generator.binomial.html#numpy.random.Generator.binomial\n",
    "\n",
    "rng = np.random.default_rng()\n",
    "n, p = 10, .5  # number of trials, probability of each trial\n",
    "s = rng.binomial(n, p, 1000)\n",
    "\n",
    "sns.distplot(random.binomial(n=10, p=0.5, size=1000), hist=True, kde=False)\n",
    "\n",
    "plt.show()\n",
    "\n",
    "# Plots a random graph each time code is genarated,"
   ]
  },
  {
   "cell_type": "code",
   "execution_count": 43,
   "id": "50746cb4",
   "metadata": {},
   "outputs": [
    {
     "data": {
      "image/png": "[encoded data removed]",
      "text/plain": [
       "<Figure size 432x288 with 1 Axes>"
      ]
     },
     "metadata": {
      "needs_background": "light"
     },
     "output_type": "display_data"
    }
   ],
   "source": [
    "from matplotlib.pyplot import hist\n",
    "\n",
    "# Code adapted from https://numpy.org/doc/stable/reference/random/generated/numpy.random.Generator.rayleigh.html#numpy.random.Generator.rayleigh\n",
    "\n",
    "rng = np.random.default_rng()\n",
    "values = hist(rng.rayleigh(3, 10000), bins=100, density=True)"
   ]
  }
 ],
 "metadata": {
  "kernelspec": {
   "display_name": "Python 3 (ipykernel)",
   "language": "python",
   "name": "python3"
  },
  "language_info": {
   "codemirror_mode": {
    "name": "ipython",
    "version": 3
   },
   "file_extension": ".py",
   "mimetype": "text/x-python",
   "name": "python",
   "nbconvert_exporter": "python",
   "pygments_lexer": "ipython3",
   "version": "3.9.7"
  },
  "vscode": {
   "interpreter": {
    "hash": "b81a931d7333d5323c14e7a508a5c96f9c0b5e25e2dd4b1ce5bed235b83cf26b"
   }
  }
 },
 "nbformat": 4,
 "nbformat_minor": 5
}
