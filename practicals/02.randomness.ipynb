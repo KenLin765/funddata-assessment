{
 "cells": [
  {
   "cell_type": "markdown",
   "id": "8d014977",
   "metadata": {},
   "source": [
    "# Randomness"
   ]
  },
  {
   "cell_type": "code",
   "execution_count": 36,
   "id": "0370e372",
   "metadata": {},
   "outputs": [],
   "source": [
    "# For generating numbers.\n",
    "import numpy as np\n",
    "import matplotlib.pyplot as plt\n",
    "import random as r\n",
    "import seaborn as sns"
   ]
  },
  {
   "cell_type": "markdown",
   "id": "2e46822a",
   "metadata": {},
   "source": [
    "## Exercise 1\n",
    "\n",
    "It is somewhat interesting that (5 * 4 * 3 * 2 * 1) perfectly divides (10 * 9 * 8 * 7 * 6) - there's no remainder.\n",
    "\n",
    "If we only wanted exactly four heads as opposed to five, \n",
    "the equivalent calculation would be (10 * 9 * 8 * 7) / (4 * 3 * 2 * 1).\n",
    "\n",
    "Does that evenly divide too? What is the formula in general?\n",
    "\n",
    "Does it always come out as a positive whole number?"
   ]
  },
  {
   "cell_type": "code",
   "execution_count": 2,
   "id": "4075e478",
   "metadata": {},
   "outputs": [
    {
     "data": {
      "text/plain": [
       "210.0"
      ]
     },
     "execution_count": 2,
     "metadata": {},
     "output_type": "execute_result"
    }
   ],
   "source": [
    "(10*9*8*7)/(4*3*2*1)\n",
    "\n",
    "## I firstly used the inbuilt python function / character to divide the two numbers and to show that there is no division"
   ]
  },
  {
   "cell_type": "markdown",
   "id": "42e4bbfa",
   "metadata": {},
   "source": [
    "The number does also equally divide due to it being a number of different ways to arrange the numbers. This would mean that there are 210 different ways we could get a scenario such as:\n",
    "\n",
    "`H` `H` `H` `H` `_` `_` `_` `_`\\n\"\n",
    "\n",
    "We could get this in a variety of ways, such as:\n",
    "\n",
    "`H` `_` `H` `_` `H` `_` `H` `_`\\n\"\n",
    "\n",
    "This is a concept called binomial distribution.\n",
    "\n",
    "A binomial distribution can be thought of as simply the probability of a SUCCESS or FAILURE outcome in an experiment or survey that is repeated multiple times. \n",
    "\n",
    "The binomial is a type of distribution that has two possible outcomes (Accessed 23/10/22 - https://www.statisticshowto.com/probability-and-statistics/binomial-theorem/binomial-distribution-formula/)\n",
    "\n",
    "For example, a coin toss has only two possible outcomes: heads or tails and taking a test could have two possible outcomes: pass or fail."
   ]
  },
  {
   "cell_type": "markdown",
   "id": "832de7d2",
   "metadata": {},
   "source": [
    "What is the formula in general?\n",
    "\n",
    "n = number of trials = 8\n",
    "x = number of successes(head) among n trials = 4\n",
    "p = probability of success(head) in any one trial = 1/2\n",
    "q = probability of failure in any one trial (q = 1 - p) = 1/2\n",
    "\n",
    "P(x) = 8C5∗(1/2)4∗(1/2)4=210∗(1/2)10≈0.210 or 21% chance of getting 4 out of 8 heads \n",
    "\n",
    "Thry would both come out as a positive whole number."
   ]
  },
  {
   "cell_type": "code",
   "execution_count": 3,
   "id": "d22f8033",
   "metadata": {},
   "outputs": [
    {
     "data": {
      "text/plain": [
       "array([0, 1, 0, 1, 1, 1, 0, 0])"
      ]
     },
     "execution_count": 3,
     "metadata": {},
     "output_type": "execute_result"
    }
   ],
   "source": [
    "## This would be the scenario shown as a random buinomial. The array shows us \n",
    "\n",
    "np.random.binomial(1, 0.5, 8)"
   ]
  },
  {
   "cell_type": "code",
   "execution_count": 4,
   "id": "722077da",
   "metadata": {},
   "outputs": [],
   "source": [
    "## I used this as idea for code but based on our scenario - https://towardsdatascience.com/how-to-code-a-fair-coin-flip-in-python-d54312f33da9\n",
    "\n",
    "#probability of heads vs. tails. This can be changed.\n",
    "heads = 4\n",
    "#num of flips required. This can be changed.\n",
    "Total = 8"
   ]
  },
  {
   "cell_type": "code",
   "execution_count": 5,
   "id": "e8a3d08f",
   "metadata": {},
   "outputs": [
    {
     "name": "stdout",
     "output_type": "stream",
     "text": [
      "Total Amount of throws is  8\n",
      "Total amount of heads from throws are  4\n"
     ]
    }
   ],
   "source": [
    "#print results\n",
    "print(\"Total Amount of throws is \", Total)\n",
    "print(\"Total amount of heads from throws are \", heads)\n",
    "#Total up heads and tails for easy user experience "
   ]
  },
  {
   "cell_type": "markdown",
   "id": "21928e3b",
   "metadata": {},
   "source": [
    "## Exercise 2\n",
    "\n",
    "Note that there are the same number of ways to get 4 tails as there to get 4 heads. Explain why this is."
   ]
  },
  {
   "cell_type": "markdown",
   "id": "05e20592",
   "metadata": {},
   "source": [
    "A toss of a coin is totally random. We could get 4 tails out of 4 throws or 4 heads out of 4 throws.\n",
    "\n",
    "I'll display how it would work with 4 heads out of 4 throws\n",
    "\n",
    "First Throw - 1/2 chance of heads\n",
    "\n",
    "Second throw of heads - 1/2 which equates overall to 1/4\n",
    "\n",
    "Third throw of heads - 1/2 which equates overall to 1/8\n",
    "\n",
    "Fourth throw of heads - 1/2 which equates overall to 1/16\n",
    "\n",
    "This would mean a 6.25% chance of us getting 4 in a row.\n",
    "\n",
    "This would work in a similar way if we changed the throw to tails. \n",
    "\n",
    "\n",
    "\n",
    "\n",
    "There could be a scenario where we don't get 4 heads or tails:\n",
    "\n",
    "There can be 16 different probability when 4 coins are tossed:\n",
    "\n",
    "HHHH, TTTT, HHTH, HHTT, HTHH, HTHT, HTTH, HTTT\n",
    "\n",
    "THHH, THHT, THTH, THTT, TTHH, TTHT, TTTH, HHHT\n",
    "\n",
    "There are 2 chances of us getting HHHH or TTTT but 14 chances of us not getting it.\n",
    "\n",
    "This would mean we have 14/16 (87.5%) chance of getting all the same flip.\n",
    "\n",
    "(I used a youtube video on probaiblity of the scenario - https://www.youtube.com/watch?v=iXKi_S78LMA)\n",
    "\n",
    "(I also used https://www.geeksforgeeks.org/what-is-the-probability-sample-space-of-tossing-4-coins/ as it gave good explanation of the idea)"
   ]
  },
  {
   "cell_type": "code",
   "execution_count": 6,
   "id": "c4d35dc4",
   "metadata": {},
   "outputs": [
    {
     "name": "stdout",
     "output_type": "stream",
     "text": [
      "How many coin tosses would you like to simulate?4\n",
      "The total number of rolls are:  4\n",
      "The total amount of heads:  2\n",
      "The total amount of tails:  2\n",
      "The amount of heads in your throw as a percentage is:  50.0 %\n"
     ]
    }
   ],
   "source": [
    "## I adapted code based on this https://stackoverflow.com/questions/63208569/how-do-i-print-out-each-random-result-of-the-coin-toss-and-how-to-print-the-best\n",
    "\n",
    "## I wanted to create something that would manually let me see the results of a simulation of coin tosses\n",
    "heads = 0\n",
    "tails = 0\n",
    "toss = heads + tails\n",
    "trials = 4\n",
    "\n",
    "toss = int(input(\"How many coin tosses would you like to simulate?\"))\n",
    "while heads + tails < toss:\n",
    "    coin = r.randint(1, 2)\n",
    "    if coin == 1:\n",
    "        # If coin is 1, we increase count of head\n",
    "        heads = heads + 1\n",
    "\n",
    "    else:\n",
    "        # if coin isn't 1, we increase count of tail\n",
    "        tails = tails + 1\n",
    "\n",
    "print(\"The total number of rolls are: \",toss)\n",
    "print(\"The total amount of heads: \",heads)\n",
    "print(\"The total amount of tails: \",tails)\n",
    "print(\"The amount of heads in your throw as a percentage is: \", heads/toss*100, \"%\")"
   ]
  },
  {
   "cell_type": "markdown",
   "id": "f96f94e5",
   "metadata": {},
   "source": [
    "## Exercise 3\n",
    "\n",
    "Plot bar charts or histograms of any three different distributions listed at the following link:\n",
    "\n",
    "https://numpy.org/doc/stable/reference/random/generator.html#distributions"
   ]
  },
  {
   "cell_type": "markdown",
   "id": "14f6398b",
   "metadata": {},
   "source": [
    "The first distribution I have looked at is a uniform distribution.\n",
    "\n",
    "A uniform distribution is used to describe probability where every event has equal chances of occuring.\n",
    "\n",
    "The example uses -1 as the lower bound and 0 as the higher bound with size of the array then being 100 and will generate random examples using numpy.\n",
    "\n"
   ]
  },
  {
   "cell_type": "code",
   "execution_count": 27,
   "id": "9d45fc4b",
   "metadata": {},
   "outputs": [
    {
     "name": "stdout",
     "output_type": "stream",
     "text": [
      "[-0.15112208 -0.98101573 -0.00692947 -0.2245791  -0.50982048 -0.21319693\n",
      " -0.07007058 -0.69964899 -0.38139383 -0.94244782 -0.62370059 -0.97749955\n",
      " -0.61587418 -0.09995517 -0.31155838 -0.69407068 -0.0879894  -0.86290949\n",
      " -0.25590518 -0.97560645 -0.28958245 -0.34864131 -0.77146089 -0.252798\n",
      " -0.19936822 -0.51511368 -0.16739205 -0.50655233 -0.12887124 -0.27212874\n",
      " -0.47888033 -0.10911956 -0.34763754 -0.47976748 -0.72349069 -0.56375035\n",
      " -0.88285366 -0.3331647  -0.67022113 -0.72612217 -0.90791146 -0.4480851\n",
      " -0.29299107 -0.21551824 -0.4003102  -0.35576041 -0.66102548 -0.520914\n",
      " -0.05599193 -0.22160048 -0.24350382 -0.09258354 -0.73078152 -0.76023031\n",
      " -0.43903219 -0.30330169 -0.38031525 -0.75191499 -0.44336868 -0.03770742\n",
      " -0.51470845 -0.36129243 -0.66600453 -0.06063456 -0.78773923 -0.75876764\n",
      " -0.26925952 -0.14514272 -0.81549715 -0.63038431 -0.94662809 -0.59363404\n",
      " -0.6850238  -0.18212047 -0.45513907 -0.07141373 -0.79851091 -0.62378355\n",
      " -0.57174211 -0.43882795 -0.80961912 -0.31413242 -0.09840076 -0.56822087\n",
      " -0.65126789 -0.94110628 -0.84653966 -0.8880106  -0.88485966 -0.59019117\n",
      " -0.10933458 -0.11189842 -0.48678379 -0.72030809 -0.49157343 -0.05601174\n",
      " -0.85356601 -0.63892074 -0.49354384 -0.28649006]\n"
     ]
    }
   ],
   "source": [
    "# Adapted from https://numpy.org/doc/stable/reference/random/generated/numpy.random.Generator.uniform.html#numpy.random.Generator.uniform\n",
    "\n",
    "s = np.random.default_rng().uniform(-1,0,100)\n",
    "\n",
    "## gives examples between -1 and 1 and then 100 examples in the array\n",
    "\n",
    "print (s)\n",
    "\n",
    "## prints array for user"
   ]
  },
  {
   "cell_type": "code",
   "execution_count": 35,
   "id": "84fe25e9",
   "metadata": {},
   "outputs": [
    {
     "data": {
      "image/png": "[encoded data removed]",
      "text/plain": [
       "<Figure size 432x288 with 1 Axes>"
      ]
     },
     "metadata": {
      "needs_background": "light"
     },
     "output_type": "display_data"
    }
   ],
   "source": [
    "count, bins, ignored = plt.hist(s, 15, density=True)\n",
    "# count will count the values in the series\n",
    "# bin will take the range of values and then divide the entire range of values into a series of intervals and then separate them\n",
    "\n",
    "plt.plot(bins, np.ones_like(bins), linewidth=2, color='g')\n",
    "# np.one_likes will return an array of ones with the same shape and type as a given array\n",
    "plt.title(\"Uniform Distribution\")\n",
    "plt.show()\n",
    "\n",
    "## plots the histogram"
   ]
  },
  {
   "cell_type": "code",
   "execution_count": 41,
   "id": "4b252d9e",
   "metadata": {},
   "outputs": [
    {
     "data": {
      "image/png": "[encoded data removed]",
      "text/plain": [
       "<Figure size 432x288 with 1 Axes>"
      ]
     },
     "metadata": {
      "needs_background": "light"
     },
     "output_type": "display_data"
    }
   ],
   "source": [
    "## I looked into this further and decided to try different libraries based on https://www.alphacodingskills.com/numpy/numpy-uniform-distribution.php\n",
    "\n",
    "## kdeplot() function allows us to compare multiple density functions graphically using Seaborn \n",
    "\n",
    "np.random.seed(10)\n",
    "\n",
    "## numerical value that generates a new set or repeats pseudo-random numbers\n",
    "\n",
    "size = 100\n",
    "#plots 100 example figures\n",
    "sns.kdeplot(np.random.uniform(-1, 0, size))\n",
    "sns.kdeplot(np.random.uniform(-1, 0, size))\n",
    "sns.kdeplot(np.random.uniform(-1, 0, size))\n",
    "\n",
    "plt.legend([\"a = -1, b = 0\", \n",
    "            \"a = -1, b = 0\", \n",
    "            \"a = -1, b = 0\"])\n",
    "plt.show()\n",
    "\n",
    "## plots graph"
   ]
  },
  {
   "cell_type": "code",
   "execution_count": 43,
   "id": "09fa0646",
   "metadata": {},
   "outputs": [
    {
     "data": {
      "image/png": "[encoded data removed]",
      "text/plain": [
       "<Figure size 432x288 with 1 Axes>"
      ]
     },
     "metadata": {
      "needs_background": "light"
     },
     "output_type": "display_data"
    }
   ],
   "source": [
    "## adapted using https://www.alphacodingskills.com/numpy/numpy-uniform-distribution.php\n",
    "\n",
    "## ecdfplot() function allows us to graphically plot Multiple cumulative distribution functions  \n",
    "\n",
    "# In the example below, cdf of three uniform distributions low, medium and high are compared.\n",
    "\n",
    "#fixing the seed for reproducibility\n",
    "#of the result\n",
    "np.random.seed(10)\n",
    "\n",
    "size = 100\n",
    "#plotting 1000 sample from \n",
    "#different uniform distribution\n",
    "sns.ecdfplot(np.random.uniform(-1, 0, size))\n",
    "sns.ecdfplot(np.random.uniform(-1, 1, size))\n",
    "sns.ecdfplot(np.random.uniform(-1, 2, size))\n",
    "\n",
    "plt.legend([\"a = -1, b = 0\", \n",
    "            \"a = -1, b = 1\", \n",
    "            \"a = -1, b = 2\"])\n",
    "plt.show()"
   ]
  },
  {
   "cell_type": "markdown",
   "id": "d6a2479c",
   "metadata": {},
   "source": [
    "I then decided to look at the triangular distribution"
   ]
  },
  {
   "cell_type": "code",
   "execution_count": 39,
   "id": "b1a54b9e",
   "metadata": {},
   "outputs": [
    {
     "data": {
      "image/png": "[encoded data removed]",
      "text/plain": [
       "<Figure size 432x288 with 1 Axes>"
      ]
     },
     "metadata": {
      "needs_background": "light"
     },
     "output_type": "display_data"
    }
   ],
   "source": [
    "# Adapted from https://numpy.org/doc/stable/reference/random/generated/numpy.random.Generator.triangular.html\n",
    "\n",
    "z = np.random.default_rng().geometric(p=0.35, size=10000)\n",
    "\n",
    "plt.bar(z, align='center', alpha=0.5, height= 5) \n",
    "plt.title(\"Geometric Distribution.\") \n",
    "plt.show()"
   ]
  },
  {
   "cell_type": "code",
   "execution_count": 47,
   "id": "52dba5ac",
   "metadata": {},
   "outputs": [
    {
     "name": "stderr",
     "output_type": "stream",
     "text": [
      "C:\\Users\\Kenne\\anaconda3\\lib\\site-packages\\seaborn\\distributions.py:2619: FutureWarning: `distplot` is a deprecated function and will be removed in a future version. Please adapt your code to use either `displot` (a figure-level function with similar flexibility) or `histplot` (an axes-level function for histograms).\n",
      "  warnings.warn(msg, FutureWarning)\n"
     ]
    },
    {
     "data": {
      "image/png": "[encoded data removed]",
      "text/plain": [
       "<Figure size 432x288 with 1 Axes>"
      ]
     },
     "metadata": {
      "needs_background": "light"
     },
     "output_type": "display_data"
    }
   ],
   "source": [
    "from numpy import random\n",
    "import numpy as np\n",
    "import matplotlib.pyplot as plt\n",
    "import seaborn as sns\n",
    "\n",
    "\n",
    "# Code adapted from https://numpy.org/doc/stable/reference/random/generated/numpy.random.Generator.binomial.html#numpy.random.Generator.binomial\n",
    "\n",
    "rng = np.random.default_rng()\n",
    "n, p = 10, .5  # number of trials, probability of each trial\n",
    "s = rng.binomial(n, p, 1000)\n",
    "\n",
    "sns.distplot(random.binomial(n=10, p=0.5, size=1000), hist=True, kde=False)\n",
    "\n",
    "plt.show()\n",
    "\n",
    "# Plots a random graph each time code is genarated,"
   ]
  },
  {
   "cell_type": "code",
   "execution_count": 45,
   "id": "50746cb4",
   "metadata": {},
   "outputs": [
    {
     "data": {
      "image/png": "[encoded data removed]",
      "text/plain": [
       "<Figure size 432x288 with 1 Axes>"
      ]
     },
     "metadata": {
      "needs_background": "light"
     },
     "output_type": "display_data"
    }
   ],
   "source": [
    "from matplotlib.pyplot import hist\n",
    "\n",
    "# Code adapted from https://numpy.org/doc/stable/reference/random/generated/numpy.random.Generator.rayleigh.html#numpy.random.Generator.rayleigh\n",
    "\n",
    "rng = np.random.default_rng()\n",
    "values = hist(rng.rayleigh(3, 10000), bins=100, density=True)"
   ]
  }
 ],
 "metadata": {
  "kernelspec": {
   "display_name": "Python 3 (ipykernel)",
   "language": "python",
   "name": "python3"
  },
  "language_info": {
   "codemirror_mode": {
    "name": "ipython",
    "version": 3
   },
   "file_extension": ".py",
   "mimetype": "text/x-python",
   "name": "python",
   "nbconvert_exporter": "python",
   "pygments_lexer": "ipython3",
   "version": "3.9.7"
  },
  "vscode": {
   "interpreter": {
    "hash": "b81a931d7333d5323c14e7a508a5c96f9c0b5e25e2dd4b1ce5bed235b83cf26b"
   }
  }
 },
 "nbformat": 4,
 "nbformat_minor": 5
}
