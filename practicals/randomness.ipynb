{
 "cells": [
  {
   "cell_type": "code",
   "execution_count": null,
   "id": "93d7291d",
   "metadata": {},
   "outputs": [],
   "source": [
    "It is somewhat interesting that (5 * 4 * 3 * 2 * 1) perfectly divides (10 * 9 * 8 * 7 * 6) - there's no remainder.\n",
    "\n",
    "If we only wanted exactly four heads as opposed to five, \n",
    "the equivalent calculation would be (10 * 9 * 8 * 7) / (4 * 3 * 2 * 1).\n",
    "\n",
    "Does that evenly divide too? What is the formula in general?\n",
    "\n",
    "Does it always come out as a positive whole number?"
   ]
  },
  {
   "cell_type": "code",
   "execution_count": 2,
   "id": "4075e478",
   "metadata": {},
   "outputs": [
    {
     "data": {
      "text/plain": [
       "210.0"
      ]
     },
     "execution_count": 2,
     "metadata": {},
     "output_type": "execute_result"
    }
   ],
   "source": [
    "(10*9*8*7)/(4*3*2*1)"
   ]
  },
  {
   "cell_type": "code",
   "execution_count": null,
   "id": "5dd0afd5",
   "metadata": {},
   "outputs": [],
   "source": [
    "The number does also equally divide.\n",
    "\n",
    "This is a concept called binomial distribution.\n",
    "\n",
    "A binomial distribution can be thought of as simply the probability of a SUCCESS or FAILURE outcome in an experiment or survey that is repeated multiple times. \n",
    "\n",
    "The binomial is a type of distribution that has two possible outcomes (Accessed 23/10/22 - https://www.statisticshowto.com/probability-and-statistics/binomial-theorem/binomial-distribution-formula/)\n",
    "\n",
    "For example, a coin toss has only two possible outcomes: heads or tails and taking a test could have two possible outcomes: pass or fail."
   ]
  },
  {
   "cell_type": "code",
   "execution_count": null,
   "id": "b596f2e9",
   "metadata": {},
   "outputs": [],
   "source": [
    "n = number of trials = 8\n",
    "x = number of successes(head) among n trials = 4\n",
    "p = probability of success(head) in any one trial = 1/2\n",
    "q = probability of failure in any one trial (q = 1 - p) = 1/2\n",
    "\n",
    "P(x) = 8C5∗(1/2)4∗(1/2)4=210∗(1/2)10≈0.210 or 21% chance of getting 4 out of 8 heads"
   ]
  },
  {
   "cell_type": "code",
   "execution_count": null,
   "id": "1f8147c9",
   "metadata": {},
   "outputs": [],
   "source": [
    "In both examples, they would both come out as a positive whole number.\n",
    "\n",
    "If you changed the scenario, to six heads if a coin was tossed ten times.\n",
    "\n"
   ]
  },
  {
   "cell_type": "code",
   "execution_count": null,
   "id": "a2452122",
   "metadata": {},
   "outputs": [],
   "source": [
    "Note that there are the same number of ways to get 4 tails as there to get 4 heads. Explain why this is."
   ]
  },
  {
   "cell_type": "code",
   "execution_count": null,
   "id": "4a1e1e30",
   "metadata": {},
   "outputs": [],
   "source": [
    "A toss of a coin is totally random. We could get 4 tails out of 4 throws or 4 heads out of 4 throws.\n",
    "\n",
    "I'll display how it would work with 4 heads out of 4 throws\n",
    "\n",
    "First Throw - 1/2 chance of heads\n",
    "\n",
    "Second throw - 1/2 which equates overall to 1/4\n",
    "\n",
    "Third throw - 1/2 which equates overall to 1/8\n",
    "\n",
    "Fourth throw - 1/2 which equates overall to 1/16\n",
    "\n",
    "This would mean a 6.25% chance of us getting 4 in a row."
   ]
  },
  {
   "cell_type": "code",
   "execution_count": null,
   "id": "b249e313",
   "metadata": {},
   "outputs": [],
   "source": [
    "Plot bar charts or histograms of any three different distributions listed at the following link:\n",
    "\n",
    "https://numpy.org/doc/stable/reference/random/generator.html#distributions"
   ]
  },
  {
   "cell_type": "code",
   "execution_count": null,
   "id": "9d45fc4b",
   "metadata": {},
   "outputs": [],
   "source": []
  }
 ],
 "metadata": {
  "kernelspec": {
   "display_name": "Python 3.9.7 ('base')",
   "language": "python",
   "name": "python3"
  },
  "language_info": {
   "codemirror_mode": {
    "name": "ipython",
    "version": 3
   },
   "file_extension": ".py",
   "mimetype": "text/x-python",
   "name": "python",
   "nbconvert_exporter": "python",
   "pygments_lexer": "ipython3",
   "version": "3.9.7"
  },
  "vscode": {
   "interpreter": {
    "hash": "b81a931d7333d5323c14e7a508a5c96f9c0b5e25e2dd4b1ce5bed235b83cf26b"
   }
  }
 },
 "nbformat": 4,
 "nbformat_minor": 5
}
