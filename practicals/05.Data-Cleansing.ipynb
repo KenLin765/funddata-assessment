{
 "cells": [
  {
   "cell_type": "markdown",
   "id": "d70db960",
   "metadata": {},
   "source": [
    "# Topic 5 - Data Cleansing "
   ]
  },
  {
   "cell_type": "code",
   "execution_count": 2,
   "id": "d5ba77e7",
   "metadata": {},
   "outputs": [],
   "source": [
    "import re\n",
    "\n",
    "import urllib.request"
   ]
  },
  {
   "cell_type": "markdown",
   "id": "070bd603",
   "metadata": {},
   "source": [
    "## Real Python Regex Python 1"
   ]
  },
  {
   "cell_type": "markdown",
   "id": "93ed70a5",
   "metadata": {},
   "source": [
    "Sources Used:\n",
    "    \n",
    "https://realpython.com/regex-python/"
   ]
  },
  {
   "cell_type": "code",
   "execution_count": 7,
   "id": "4538ccbe",
   "metadata": {},
   "outputs": [
    {
     "name": "stdout",
     "output_type": "stream",
     "text": [
      "['Words', ', ', 'words', ', ', 'words', '.', '']\n"
     ]
    }
   ],
   "source": [
    "# A string to be manipulated.\n",
    "original = 'Words, words, words.'\n",
    "\n",
    "# The pattern/regular expression to use on the above string.\n",
    "pattern = r'(\\W+)'\n",
    "\n",
    "# Splits a string into substrings using a regular expression.\n",
    "result = re.split(pattern, original)\n",
    "\n",
    "# Print the result.\n",
    "print(result)"
   ]
  },
  {
   "cell_type": "code",
   "execution_count": 8,
   "id": "50b7509e",
   "metadata": {},
   "outputs": [
    {
     "name": "stdout",
     "output_type": "stream",
     "text": [
      "['Words', 'words', 'words', '']\n"
     ]
    }
   ],
   "source": [
    "# A string to be manipulated.\n",
    "original = 'Words, words, words.'\n",
    "\n",
    "# The pattern/regular expression to use on the above string.\n",
    "pattern = r'\\W+'\n",
    "\n",
    "# Splits a string into substrings using a regular expression.\n",
    "result = re.split(pattern, original)\n",
    "\n",
    "# Print the result.\n",
    "print(result)"
   ]
  },
  {
   "cell_type": "markdown",
   "id": "431b0bb6",
   "metadata": {},
   "source": [
    "Why do these generate as different results?\n",
    "\n",
    "I think that the answer is that the brackets will print every individual character if goes from a word to a special character.\n",
    "\n",
    "I decided to test this test that I am right by very slightly amending the original variable."
   ]
  },
  {
   "cell_type": "code",
   "execution_count": 9,
   "id": "1aa827e7",
   "metadata": {},
   "outputs": [
    {
     "name": "stdout",
     "output_type": "stream",
     "text": [
      "['Wor', '!', 'ds', ', ', 'wor8ds', ', ', 'words', '.', '']\n"
     ]
    }
   ],
   "source": [
    "# A string to be manipulated.\n",
    "original = 'Wor!ds, wor8ds, words.'\n",
    "\n",
    "# The pattern/regular expression to use on the above string.\n",
    "pattern = r'(\\W+)'\n",
    "\n",
    "# Splits a string into substrings using a regular expression.\n",
    "result = re.split(pattern, original)\n",
    "\n",
    "# Print the result.\n",
    "print(result)"
   ]
  },
  {
   "cell_type": "markdown",
   "id": "ced420d1",
   "metadata": {},
   "source": [
    "It shows that when I added the exclamation mark that it further split the code. I think that the brackets will divide the special characters with the normal characters.\n",
    "\n",
    "I also added in a number to test that and it didn't split the cells. I then realised I need a D character in the pattern from looking at the API, so I started playing around with this."
   ]
  },
  {
   "cell_type": "code",
   "execution_count": 9,
   "id": "bf7dd993",
   "metadata": {},
   "outputs": [
    {
     "name": "stdout",
     "output_type": "stream",
     "text": [
      "['', 'Wor!ds, wor', '8', 'ds, words.', '']\n"
     ]
    }
   ],
   "source": [
    "# A string to be manipulated.\n",
    "original = 'Wor!ds, wor8ds, words.'\n",
    "\n",
    "# The pattern/regular expression to use on the above string.\n",
    "pattern = r'(\\D+)'\n",
    "\n",
    "# Splits a string into substrings using a regular expression.\n",
    "result = re.split(pattern, original)\n",
    "\n",
    "# Print the result.\n",
    "print(result)"
   ]
  },
  {
   "cell_type": "code",
   "execution_count": 11,
   "id": "dd2512a9",
   "metadata": {},
   "outputs": [
    {
     "name": "stdout",
     "output_type": "stream",
     "text": [
      "['', '8', '']\n"
     ]
    }
   ],
   "source": [
    "# A string to be manipulated.\n",
    "original = 'Wor!ds, wor8ds, words.'\n",
    "\n",
    "# The pattern/regular expression to use on the above string.\n",
    "pattern = r'\\D+'\n",
    "\n",
    "# Splits a string into substrings using a regular expression.\n",
    "result = re.split(pattern, original)\n",
    "\n",
    "# Print the result.\n",
    "print(result)"
   ]
  },
  {
   "cell_type": "markdown",
   "id": "3f7a726f",
   "metadata": {},
   "source": [
    "The brackets interestingly will now split just the number leaving out the words. The non brackets, will split the words but then put the number in a separate expression."
   ]
  },
  {
   "cell_type": "code",
   "execution_count": 39,
   "id": "6fedda5f",
   "metadata": {},
   "outputs": [
    {
     "data": {
      "text/plain": [
       "<re.Match object; span=(3, 6), match='123'>"
      ]
     },
     "execution_count": 39,
     "metadata": {},
     "output_type": "execute_result"
    }
   ],
   "source": [
    "s = 'foo123bar'\n",
    "re.search('[0-9][0-9][0-9]', s)\n",
    "\n",
    "## Span shows the length that the number matches, starts with 3 and ends with 6, match then shows the numbers in the expression\n",
    "## search also needs a 3 digit span or won't work"
   ]
  },
  {
   "cell_type": "code",
   "execution_count": 32,
   "id": "2a1cd71c",
   "metadata": {},
   "outputs": [
    {
     "data": {
      "text/plain": [
       "<re.Match object; span=(3, 6), match='456'>"
      ]
     },
     "execution_count": 32,
     "metadata": {},
     "output_type": "execute_result"
    }
   ],
   "source": [
    "re.search('[0-9][0-9][0-9]', 'foo456bar')\n",
    "\n",
    "## This shows the same as above but code changed by changing the expression to include what needs to be searched"
   ]
  },
  {
   "cell_type": "code",
   "execution_count": 34,
   "id": "a0ec302c",
   "metadata": {},
   "outputs": [
    {
     "data": {
      "text/plain": [
       "<re.Match object; span=(0, 3), match='234'>"
      ]
     },
     "execution_count": 34,
     "metadata": {},
     "output_type": "execute_result"
    }
   ],
   "source": [
    "re.search('[0-9][0-9][0-9]', '234baz')\n",
    "\n",
    "## Span of 0-3 as it goes from 2-4"
   ]
  },
  {
   "cell_type": "code",
   "execution_count": 41,
   "id": "d368b8d9",
   "metadata": {},
   "outputs": [
    {
     "data": {
      "text/plain": [
       "<re.Match object; span=(3, 6), match='678'>"
      ]
     },
     "execution_count": 41,
     "metadata": {},
     "output_type": "execute_result"
    }
   ],
   "source": [
    "re.search('[0-9][0-9][0-9]', 'qux678')\n",
    "\n",
    "## Span of 0-3 as it goes from 4-6"
   ]
  },
  {
   "cell_type": "code",
   "execution_count": 42,
   "id": "0ff2a564",
   "metadata": {},
   "outputs": [
    {
     "name": "stdout",
     "output_type": "stream",
     "text": [
      "None\n"
     ]
    }
   ],
   "source": [
    "print(re.search('[0-9][0-9][0-9]', '12foo34'))\n",
    "\n",
    "## Displays none as no 3 digit span in expression"
   ]
  },
  {
   "cell_type": "code",
   "execution_count": 46,
   "id": "e6764d91",
   "metadata": {},
   "outputs": [
    {
     "data": {
      "text/plain": [
       "<re.Match object; span=(3, 6), match='123'>"
      ]
     },
     "execution_count": 46,
     "metadata": {},
     "output_type": "execute_result"
    }
   ],
   "source": [
    "s = 'foo123bar'\n",
    "re.search('1.3', s)\n",
    "\n",
    "## Matched 1-2-3 and matches any character in between "
   ]
  },
  {
   "cell_type": "code",
   "execution_count": 48,
   "id": "0977ed2a",
   "metadata": {},
   "outputs": [
    {
     "name": "stdout",
     "output_type": "stream",
     "text": [
      "None\n"
     ]
    }
   ],
   "source": [
    "s = 'foo13bar'\n",
    "print(re.search('1.3', s))\n",
    "\n",
    "## Whereas if you change to foo13 and run the same code, it "
   ]
  },
  {
   "cell_type": "code",
   "execution_count": 63,
   "id": "0fdf1771",
   "metadata": {},
   "outputs": [
    {
     "data": {
      "text/plain": [
       "<re.Match object; span=(3, 6), match='bar'>"
      ]
     },
     "execution_count": 63,
     "metadata": {},
     "output_type": "execute_result"
    }
   ],
   "source": [
    "re.search('ba[adadadrtz]', 'foobarqux')\n",
    "\n",
    "## This will combine the opening \"ba\" with the next sequence and output if true with the span and word found in query"
   ]
  },
  {
   "cell_type": "code",
   "execution_count": 64,
   "id": "ac7a80d3",
   "metadata": {},
   "outputs": [
    {
     "data": {
      "text/plain": [
       "<re.Match object; span=(3, 4), match='b'>"
      ]
     },
     "execution_count": 64,
     "metadata": {},
     "output_type": "execute_result"
    }
   ],
   "source": [
    "re.search('[a-z]', 'FOObar')\n",
    "\n",
    "## shows any lowercase letters in an expression and shows the amount and location and the first letter"
   ]
  },
  {
   "cell_type": "code",
   "execution_count": 65,
   "id": "1e0c18d9",
   "metadata": {},
   "outputs": [
    {
     "data": {
      "text/plain": [
       "<re.Match object; span=(0, 1), match='F'>"
      ]
     },
     "execution_count": 65,
     "metadata": {},
     "output_type": "execute_result"
    }
   ],
   "source": [
    "re.search('[A-Z]', 'FOObar')\n",
    "\n",
    "## shows any lowercase letters in an expression and shows the amount and location and the first letter"
   ]
  },
  {
   "cell_type": "code",
   "execution_count": 69,
   "id": "01207bd9",
   "metadata": {},
   "outputs": [
    {
     "data": {
      "text/plain": [
       "<re.Match object; span=(3, 5), match='12'>"
      ]
     },
     "execution_count": 69,
     "metadata": {},
     "output_type": "execute_result"
    }
   ],
   "source": [
    "re.search('[0-9][0-9]', 'foo123bar')\n",
    "\n",
    "## Searches 0-9 twice and then gives the span and shows the second character as it is the second search result"
   ]
  },
  {
   "cell_type": "code",
   "execution_count": 72,
   "id": "7b75c1f2",
   "metadata": {},
   "outputs": [
    {
     "data": {
      "text/plain": [
       "<re.Match object; span=(3, 4), match='1'>"
      ]
     },
     "execution_count": 72,
     "metadata": {},
     "output_type": "execute_result"
    }
   ],
   "source": [
    "re.search('[0-9]', 'foo123bar')\n",
    "\n",
    "## Searches 0-9 once and then gives the span and shows the first character as it is the first search result"
   ]
  },
  {
   "cell_type": "code",
   "execution_count": 73,
   "id": "c248c8a0",
   "metadata": {},
   "outputs": [
    {
     "data": {
      "text/plain": [
       "<re.Match object; span=(4, 5), match='a'>"
      ]
     },
     "execution_count": 73,
     "metadata": {},
     "output_type": "execute_result"
    }
   ],
   "source": [
    "re.search('[0-9a-fA-f]', '--- a0 ---')\n",
    "\n",
    "## matches the first hexadecimal digit character in the search string, 'a'."
   ]
  },
  {
   "cell_type": "code",
   "execution_count": 76,
   "id": "0ad13c72",
   "metadata": {},
   "outputs": [
    {
     "data": {
      "text/plain": [
       "<re.Match object; span=(5, 6), match='f'>"
      ]
     },
     "execution_count": 76,
     "metadata": {},
     "output_type": "execute_result"
    }
   ],
   "source": [
    "re.search('[^0-9]', '12345foo')\n",
    "\n",
    "## shows the first character in a string that isn't 0-9. It also shows the location, the length before the character and the location of it"
   ]
  },
  {
   "cell_type": "code",
   "execution_count": 82,
   "id": "b9185c91",
   "metadata": {},
   "outputs": [
    {
     "data": {
      "text/plain": [
       "<re.Match object; span=(3, 4), match='^'>"
      ]
     },
     "execution_count": 82,
     "metadata": {},
     "output_type": "execute_result"
    }
   ],
   "source": [
    "re.search('[#:^]', 'foo^bar:baz#qux')\n",
    "\n",
    "## shows the first character in the string expression when it occurs"
   ]
  },
  {
   "cell_type": "code",
   "execution_count": 85,
   "id": "04aeb724",
   "metadata": {},
   "outputs": [
    {
     "data": {
      "text/plain": [
       "<re.Match object; span=(3, 4), match='-'>"
      ]
     },
     "execution_count": 85,
     "metadata": {},
     "output_type": "execute_result"
    }
   ],
   "source": [
    "re.search('[-abc]', '123-456')\n",
    "\n",
    "## Shows first character from an expression, with span it searches and location."
   ]
  },
  {
   "cell_type": "code",
   "execution_count": 86,
   "id": "121a9c7e",
   "metadata": {},
   "outputs": [
    {
     "data": {
      "text/plain": [
       "<re.Match object; span=(3, 4), match='-'>"
      ]
     },
     "execution_count": 86,
     "metadata": {},
     "output_type": "execute_result"
    }
   ],
   "source": [
    "re.search('[abc-]', '123-456')\n",
    "\n",
    "## Same as above, shows that it doesn't matter where the expression is in first search"
   ]
  },
  {
   "cell_type": "code",
   "execution_count": 87,
   "id": "6e70b901",
   "metadata": {},
   "outputs": [
    {
     "data": {
      "text/plain": [
       "<re.Match object; span=(3, 4), match='-'>"
      ]
     },
     "execution_count": 87,
     "metadata": {},
     "output_type": "execute_result"
    }
   ],
   "source": [
    "re.search('[ab\\-c]', '123-456') \n",
    "\n",
    "## Same as above, hows that it doesn't matter where the expression is in first search"
   ]
  },
  {
   "cell_type": "code",
   "execution_count": 88,
   "id": "6b47813b",
   "metadata": {},
   "outputs": [
    {
     "data": {
      "text/plain": [
       "<re.Match object; span=(5, 6), match=']'>"
      ]
     },
     "execution_count": 88,
     "metadata": {},
     "output_type": "execute_result"
    }
   ],
   "source": [
    "re.search('[]]', 'foo[1]')\n",
    "\n",
    "## Shows the middle ] and shows span and location"
   ]
  },
  {
   "cell_type": "code",
   "execution_count": 89,
   "id": "9d5512ff",
   "metadata": {},
   "outputs": [
    {
     "data": {
      "text/plain": [
       "<re.Match object; span=(5, 6), match=']'>"
      ]
     },
     "execution_count": 89,
     "metadata": {},
     "output_type": "execute_result"
    }
   ],
   "source": [
    "re.search('[ab\\]cd]', 'foo[1]')\n",
    "\n",
    "## Same as above but shows that caharcter can be in the middle of the expression "
   ]
  },
  {
   "cell_type": "code",
   "execution_count": 90,
   "id": "7fc0cdef",
   "metadata": {},
   "outputs": [
    {
     "data": {
      "text/plain": [
       "<re.Match object; span=(3, 4), match='*'>"
      ]
     },
     "execution_count": 90,
     "metadata": {},
     "output_type": "execute_result"
    }
   ],
   "source": [
    "re.search('[)*+|]', '123*456')\n",
    "\n",
    "## Shows the first result of *, the span and the loctaion of the *"
   ]
  },
  {
   "cell_type": "code",
   "execution_count": 92,
   "id": "dcb86416",
   "metadata": {},
   "outputs": [
    {
     "data": {
      "text/plain": [
       "<re.Match object; span=(3, 4), match='+'>"
      ]
     },
     "execution_count": 92,
     "metadata": {},
     "output_type": "execute_result"
    }
   ],
   "source": [
    "re.search('[)*+|]', '123+456')\n",
    "\n",
    "## Shows the first result of +, the span and the location of the +"
   ]
  },
  {
   "cell_type": "code",
   "execution_count": 97,
   "id": "64fd319f",
   "metadata": {},
   "outputs": [
    {
     "data": {
      "text/plain": [
       "<re.Match object; span=(0, 7), match='fooxbar'>"
      ]
     },
     "execution_count": 97,
     "metadata": {},
     "output_type": "execute_result"
    }
   ],
   "source": [
    "re.search('foo.bar', 'fooxbar')\n",
    "\n",
    "## . will show match and show full span of the expression"
   ]
  },
  {
   "cell_type": "code",
   "execution_count": 100,
   "id": "a581c122",
   "metadata": {},
   "outputs": [
    {
     "name": "stdout",
     "output_type": "stream",
     "text": [
      "None\n"
     ]
    }
   ],
   "source": [
    "print(re.search('foo.bar', 'foobar'))\n",
    "\n",
    "## Will print none as asking for 7 characters but only 6 in the expression."
   ]
  },
  {
   "cell_type": "code",
   "execution_count": 101,
   "id": "f0ecb6a0",
   "metadata": {},
   "outputs": [
    {
     "name": "stdout",
     "output_type": "stream",
     "text": [
      "None\n"
     ]
    }
   ],
   "source": [
    "print(re.search('foo.bar', 'foo\\nbar'))\n",
    "\n",
    "## Won't work as \\n pushes to a new line, "
   ]
  },
  {
   "cell_type": "code",
   "execution_count": 102,
   "id": "7c244ba3",
   "metadata": {},
   "outputs": [
    {
     "data": {
      "text/plain": [
       "<re.Match object; span=(3, 4), match='a'>"
      ]
     },
     "execution_count": 102,
     "metadata": {},
     "output_type": "execute_result"
    }
   ],
   "source": [
    "re.search('\\w', '#(.a$@&')\n",
    "\n",
    "## \\w matches any alphanumeric word character. \n",
    "##Word characters are uppercase and lowercase letters, digits, and the underscore (_) character, so \\w is essentially shorthand for [a-zA-Z0-9_]:"
   ]
  },
  {
   "cell_type": "code",
   "execution_count": 3,
   "id": "ba34f0cf",
   "metadata": {},
   "outputs": [
    {
     "data": {
      "text/plain": [
       "<re.Match object; span=(3, 4), match='a'>"
      ]
     },
     "execution_count": 3,
     "metadata": {},
     "output_type": "execute_result"
    }
   ],
   "source": [
    "re.search('[a-zA-Z0-9_]', '#(.a$@&')\n",
    "\n",
    "## same as above, \\w is a wild card for lower case a-z or upper case a-z and then displays first instance of it."
   ]
  },
  {
   "cell_type": "code",
   "execution_count": 4,
   "id": "cd7e0790",
   "metadata": {},
   "outputs": [
    {
     "data": {
      "text/plain": [
       "<re.Match object; span=(3, 4), match='*'>"
      ]
     },
     "execution_count": 4,
     "metadata": {},
     "output_type": "execute_result"
    }
   ],
   "source": [
    "re.search('\\W', 'a_1*3Qb')\n",
    "\n",
    "# shows the first non word "
   ]
  },
  {
   "cell_type": "code",
   "execution_count": 5,
   "id": "6e28cc43",
   "metadata": {},
   "outputs": [
    {
     "data": {
      "text/plain": [
       "<re.Match object; span=(3, 4), match='*'>"
      ]
     },
     "execution_count": 5,
     "metadata": {},
     "output_type": "execute_result"
    }
   ],
   "source": [
    "re.search('[^a-zA-Z0-9_]', 'a_1*3Qb')\n",
    "\n",
    "## same as \\W and shows first non word"
   ]
  },
  {
   "cell_type": "code",
   "execution_count": 6,
   "id": "38b85bd8",
   "metadata": {},
   "outputs": [
    {
     "data": {
      "text/plain": [
       "<re.Match object; span=(3, 4), match='4'>"
      ]
     },
     "execution_count": 6,
     "metadata": {},
     "output_type": "execute_result"
    }
   ],
   "source": [
    "re.search('\\d', 'abc4def')\n",
    "\n",
    "## shows first character that is a decimal"
   ]
  },
  {
   "cell_type": "code",
   "execution_count": 7,
   "id": "d1c79553",
   "metadata": {},
   "outputs": [
    {
     "data": {
      "text/plain": [
       "<re.Match object; span=(3, 4), match='Q'>"
      ]
     },
     "execution_count": 7,
     "metadata": {},
     "output_type": "execute_result"
    }
   ],
   "source": [
    "re.search('\\D', '234Q678')\n",
    "\n",
    "## \\D is equivalent to [^0-9] and shows first non digit"
   ]
  },
  {
   "cell_type": "code",
   "execution_count": 8,
   "id": "b091ab17",
   "metadata": {},
   "outputs": [
    {
     "data": {
      "text/plain": [
       "<re.Match object; span=(3, 4), match='\\n'>"
      ]
     },
     "execution_count": 8,
     "metadata": {},
     "output_type": "execute_result"
    }
   ],
   "source": [
    "re.search('\\s', 'foo\\nbar baz')\n",
    "\n",
    "## shows the first whitespace character, \\n is considered to be new line which is also a blank"
   ]
  },
  {
   "cell_type": "code",
   "execution_count": 9,
   "id": "39430f10",
   "metadata": {},
   "outputs": [
    {
     "data": {
      "text/plain": [
       "<re.Match object; span=(4, 5), match='f'>"
      ]
     },
     "execution_count": 9,
     "metadata": {},
     "output_type": "execute_result"
    }
   ],
   "source": [
    "re.search('\\S', '  \\n foo  \\n  ')\n",
    "\n",
    "## shows the first non whitespace character, skips new line and shows the \"f\""
   ]
  },
  {
   "cell_type": "code",
   "execution_count": 10,
   "id": "191ad2a1",
   "metadata": {},
   "outputs": [
    {
     "data": {
      "text/plain": [
       "<re.Match object; span=(3, 4), match='3'>"
      ]
     },
     "execution_count": 10,
     "metadata": {},
     "output_type": "execute_result"
    }
   ],
   "source": [
    "re.search('[\\d\\w\\s]', '---3---')\n",
    "\n",
    "## [\\d\\w\\s] matches any digit, word, or whitespace character"
   ]
  },
  {
   "cell_type": "code",
   "execution_count": 11,
   "id": "644938c8",
   "metadata": {},
   "outputs": [
    {
     "data": {
      "text/plain": [
       "<re.Match object; span=(3, 4), match='a'>"
      ]
     },
     "execution_count": 11,
     "metadata": {},
     "output_type": "execute_result"
    }
   ],
   "source": [
    "re.search('[\\d\\w\\s]', '---a---')\n",
    "\n",
    "## [\\d\\w\\s] matches any digit, word, or whitespace character"
   ]
  },
  {
   "cell_type": "code",
   "execution_count": 12,
   "id": "3ed3c889",
   "metadata": {},
   "outputs": [
    {
     "data": {
      "text/plain": [
       "<re.Match object; span=(3, 4), match=' '>"
      ]
     },
     "execution_count": 12,
     "metadata": {},
     "output_type": "execute_result"
    }
   ],
   "source": [
    "re.search('[\\d\\w\\s]', '--- ---')\n",
    "\n",
    "## [\\d\\w\\s] matches any digit, word, or whitespace character, in this case the whitespace"
   ]
  },
  {
   "cell_type": "markdown",
   "id": "4b5e0252",
   "metadata": {},
   "source": [
    "##  Escaping Metacharacters"
   ]
  },
  {
   "cell_type": "code",
   "execution_count": 13,
   "id": "e33d20d0",
   "metadata": {},
   "outputs": [
    {
     "data": {
      "text/plain": [
       "<re.Match object; span=(0, 1), match='f'>"
      ]
     },
     "execution_count": 13,
     "metadata": {},
     "output_type": "execute_result"
    }
   ],
   "source": [
    "re.search('.', 'foo.bar')\n",
    "\n",
    "## the dot (.) functions as a wildcard metacharacter, which matches the first character in the string "
   ]
  },
  {
   "cell_type": "code",
   "execution_count": 14,
   "id": "ddee89de",
   "metadata": {},
   "outputs": [
    {
     "data": {
      "text/plain": [
       "<re.Match object; span=(3, 4), match='.'>"
      ]
     },
     "execution_count": 14,
     "metadata": {},
     "output_type": "execute_result"
    }
   ],
   "source": [
    "re.search('\\.', 'foo.bar')\n",
    "\n",
    "## This does the oppisite of the above and displays the first non word"
   ]
  },
  {
   "cell_type": "code",
   "execution_count": 15,
   "id": "6dba8f8b",
   "metadata": {},
   "outputs": [
    {
     "name": "stdout",
     "output_type": "stream",
     "text": [
      "foo\\bar\n"
     ]
    }
   ],
   "source": [
    "s = r'foo\\bar'\n",
    "print(s)\n",
    "\n",
    "## Prints foo\\bar"
   ]
  },
  {
   "cell_type": "code",
   "execution_count": 17,
   "id": "1ab8abaf",
   "metadata": {},
   "outputs": [
    {
     "data": {
      "text/plain": [
       "<re.Match object; span=(3, 4), match='\\\\'>"
      ]
     },
     "execution_count": 17,
     "metadata": {},
     "output_type": "execute_result"
    }
   ],
   "source": [
    "re.search('\\\\\\\\', s)\n",
    "\n",
    "## dipslays the middle backslashes, if you don't include the two other blackslashes, it won't work and gives errors"
   ]
  },
  {
   "cell_type": "code",
   "execution_count": 18,
   "id": "9f2920b5",
   "metadata": {},
   "outputs": [
    {
     "data": {
      "text/plain": [
       "<re.Match object; span=(3, 4), match='\\\\'>"
      ]
     },
     "execution_count": 18,
     "metadata": {},
     "output_type": "execute_result"
    }
   ],
   "source": [
    "re.search(r'\\\\', s)\n",
    "\n",
    "## Alternative way is use a raw string by using r'"
   ]
  },
  {
   "cell_type": "markdown",
   "id": "65aa553c",
   "metadata": {},
   "source": [
    "## Anchors"
   ]
  },
  {
   "cell_type": "code",
   "execution_count": 26,
   "id": "67399363",
   "metadata": {},
   "outputs": [
    {
     "data": {
      "text/plain": [
       "<re.Match object; span=(0, 3), match='foo'>"
      ]
     },
     "execution_count": 26,
     "metadata": {},
     "output_type": "execute_result"
    }
   ],
   "source": [
    "re.search('^foo', 'foobar')\n",
    "\n",
    "## ^ means that foo has to be in the query or won't generate and must be at start of string."
   ]
  },
  {
   "cell_type": "code",
   "execution_count": 24,
   "id": "808be2ae",
   "metadata": {},
   "outputs": [
    {
     "name": "stdout",
     "output_type": "stream",
     "text": [
      "None\n"
     ]
    }
   ],
   "source": [
    "print(re.search('^foo', 'barfoo'))\n",
    "\n",
    "## won't generate as not at start of string."
   ]
  },
  {
   "cell_type": "code",
   "execution_count": 30,
   "id": "8b242779",
   "metadata": {},
   "outputs": [
    {
     "data": {
      "text/plain": [
       "<re.Match object; span=(0, 3), match='foo'>"
      ]
     },
     "execution_count": 30,
     "metadata": {},
     "output_type": "execute_result"
    }
   ],
   "source": [
    "re.search('\\Afoo', 'foobar')\n",
    "\n",
    "## this does the same as above and searches if first entry in string"
   ]
  },
  {
   "cell_type": "code",
   "execution_count": 31,
   "id": "b816e372",
   "metadata": {},
   "outputs": [
    {
     "name": "stdout",
     "output_type": "stream",
     "text": [
      "None\n"
     ]
    }
   ],
   "source": [
    "print(re.search('\\Afoo', 'barfoo'))\n",
    "\n",
    "## This won't generate like above as foo isn't the start of string"
   ]
  },
  {
   "cell_type": "code",
   "execution_count": 32,
   "id": "cb74d890",
   "metadata": {},
   "outputs": [
    {
     "data": {
      "text/plain": [
       "<re.Match object; span=(3, 6), match='bar'>"
      ]
     },
     "execution_count": 32,
     "metadata": {},
     "output_type": "execute_result"
    }
   ],
   "source": [
    "re.search('bar$', 'foobar')\n",
    "\n",
    "## $ will search the end of the string"
   ]
  },
  {
   "cell_type": "code",
   "execution_count": 33,
   "id": "f59a4902",
   "metadata": {},
   "outputs": [
    {
     "name": "stdout",
     "output_type": "stream",
     "text": [
      "None\n"
     ]
    }
   ],
   "source": [
    "print(re.search('bar$', 'barfoo'))\n",
    "\n",
    "## won't work as foo is at end of string"
   ]
  },
  {
   "cell_type": "code",
   "execution_count": 34,
   "id": "202dea71",
   "metadata": {},
   "outputs": [
    {
     "data": {
      "text/plain": [
       "<re.Match object; span=(3, 6), match='bar'>"
      ]
     },
     "execution_count": 34,
     "metadata": {},
     "output_type": "execute_result"
    }
   ],
   "source": [
    "re.search('bar\\Z', 'foobar')\n",
    "\n",
    "## same as above but \\Z works like $"
   ]
  },
  {
   "cell_type": "code",
   "execution_count": 35,
   "id": "406178ee",
   "metadata": {},
   "outputs": [
    {
     "name": "stdout",
     "output_type": "stream",
     "text": [
      "None\n"
     ]
    }
   ],
   "source": [
    "print(re.search('bar\\Z', 'barfoo'))\n",
    "\n",
    "## won't work as foo is at end of string"
   ]
  },
  {
   "cell_type": "code",
   "execution_count": 36,
   "id": "5c17cf9b",
   "metadata": {},
   "outputs": [
    {
     "data": {
      "text/plain": [
       "<re.Match object; span=(3, 6), match='bar'>"
      ]
     },
     "execution_count": 36,
     "metadata": {},
     "output_type": "execute_result"
    }
   ],
   "source": [
    "re.search('bar$', 'foobar\\n')\n",
    "\n",
    "## $ but not \\Z also matches just before a single newline at the end of the search string"
   ]
  },
  {
   "cell_type": "code",
   "execution_count": 37,
   "id": "8ce6aa5e",
   "metadata": {},
   "outputs": [
    {
     "data": {
      "text/plain": [
       "<re.Match object; span=(4, 7), match='bar'>"
      ]
     },
     "execution_count": 37,
     "metadata": {},
     "output_type": "execute_result"
    }
   ],
   "source": [
    "re.search(r'\\bbar', 'foo bar')\n",
    "\n",
    "## \\b asserts that the regex parser’s current position must be at the beginning or end of a word."
   ]
  },
  {
   "cell_type": "code",
   "execution_count": 38,
   "id": "2acb6aeb",
   "metadata": {},
   "outputs": [
    {
     "data": {
      "text/plain": [
       "<re.Match object; span=(4, 7), match='bar'>"
      ]
     },
     "execution_count": 38,
     "metadata": {},
     "output_type": "execute_result"
    }
   ],
   "source": [
    "re.search(r'\\bbar', 'foo.bar')\n",
    "\n",
    "## \\b also recognizes the full stop and prints what is after it"
   ]
  },
  {
   "cell_type": "code",
   "execution_count": 39,
   "id": "1ff41d2f",
   "metadata": {},
   "outputs": [
    {
     "name": "stdout",
     "output_type": "stream",
     "text": [
      "None\n"
     ]
    }
   ],
   "source": [
    "print(re.search(r'\\bbar', 'foobar'))\n",
    "\n",
    "## Doesn't work as no gap between foo and bar"
   ]
  },
  {
   "cell_type": "code",
   "execution_count": 40,
   "id": "10554657",
   "metadata": {},
   "outputs": [
    {
     "data": {
      "text/plain": [
       "<re.Match object; span=(0, 3), match='foo'>"
      ]
     },
     "execution_count": 40,
     "metadata": {},
     "output_type": "execute_result"
    }
   ],
   "source": [
    "re.search(r'foo\\b', 'foo bar')\n",
    "\n",
    "## works as the boundary exists after the foo"
   ]
  },
  {
   "cell_type": "code",
   "execution_count": 41,
   "id": "68c50fea",
   "metadata": {},
   "outputs": [
    {
     "data": {
      "text/plain": [
       "<re.Match object; span=(0, 3), match='foo'>"
      ]
     },
     "execution_count": 41,
     "metadata": {},
     "output_type": "execute_result"
    }
   ],
   "source": [
    "re.search(r'foo\\b', 'foo.bar')\n",
    "\n",
    "## works due to location of \\b being after the foo"
   ]
  },
  {
   "cell_type": "code",
   "execution_count": 42,
   "id": "9a0c0154",
   "metadata": {},
   "outputs": [
    {
     "name": "stdout",
     "output_type": "stream",
     "text": [
      "None\n"
     ]
    }
   ],
   "source": [
    "print(re.search(r'foo\\b', 'foobar'))\n",
    "\n",
    "## doesn't work as no boundary between foo and bar"
   ]
  },
  {
   "cell_type": "code",
   "execution_count": 47,
   "id": "7787857a",
   "metadata": {},
   "outputs": [
    {
     "data": {
      "text/plain": [
       "<re.Match object; span=(4, 7), match='bar'>"
      ]
     },
     "execution_count": 47,
     "metadata": {},
     "output_type": "execute_result"
    }
   ],
   "source": [
    "re.search(r'\\bbar\\b', 'foo bar baz')\n",
    "\n",
    "## works as boundary between bar and is used as a raw string."
   ]
  },
  {
   "cell_type": "code",
   "execution_count": 44,
   "id": "351084a5",
   "metadata": {},
   "outputs": [
    {
     "data": {
      "text/plain": [
       "<re.Match object; span=(4, 7), match='bar'>"
      ]
     },
     "execution_count": 44,
     "metadata": {},
     "output_type": "execute_result"
    }
   ],
   "source": [
    "re.search(r'\\bbar\\b', 'foo(bar)baz')\n",
    "\n",
    "## works also as boundary between bar and allows the brackets"
   ]
  },
  {
   "cell_type": "code",
   "execution_count": 45,
   "id": "a8b0c891",
   "metadata": {},
   "outputs": [
    {
     "name": "stdout",
     "output_type": "stream",
     "text": [
      "None\n"
     ]
    }
   ],
   "source": [
    "print(re.search(r'\\bbar\\b', 'foobarbaz'))\n",
    "\n",
    "## doesn't work as no spaces or brackets"
   ]
  },
  {
   "cell_type": "code",
   "execution_count": 48,
   "id": "1225710d",
   "metadata": {},
   "outputs": [
    {
     "name": "stdout",
     "output_type": "stream",
     "text": [
      "<re.Match object; span=(4, 7), match='bar'>\n"
     ]
    }
   ],
   "source": [
    "print(re.search(r'\\bbar\\b', 'foo.bar.baz'))\n",
    "\n",
    "## also works with full stops"
   ]
  },
  {
   "cell_type": "code",
   "execution_count": 49,
   "id": "79c3aa11",
   "metadata": {},
   "outputs": [
    {
     "name": "stdout",
     "output_type": "stream",
     "text": [
      "None\n"
     ]
    }
   ],
   "source": [
    "print(re.search(r'\\Bfoo\\B', 'foo'))\n",
    "\n",
    "## \\B must not be at the start or end of a word which prints none"
   ]
  },
  {
   "cell_type": "code",
   "execution_count": 50,
   "id": "f549bc47",
   "metadata": {},
   "outputs": [
    {
     "name": "stdout",
     "output_type": "stream",
     "text": [
      "None\n"
     ]
    }
   ],
   "source": [
    "print(re.search(r'\\Bfoo\\B', '.foo.'))\n",
    "\n",
    "## \\B must not be at the start or end of a word which prints none, recognizes full stops"
   ]
  },
  {
   "cell_type": "code",
   "execution_count": 51,
   "id": "6d928be2",
   "metadata": {},
   "outputs": [
    {
     "data": {
      "text/plain": [
       "<re.Match object; span=(3, 6), match='foo'>"
      ]
     },
     "execution_count": 51,
     "metadata": {},
     "output_type": "execute_result"
    }
   ],
   "source": [
    "re.search(r'\\Bfoo\\B', 'barfoobaz')\n",
    "\n",
    "## works as no word boundary exists at the start or end of 'foo' in the search string 'barfoobaz"
   ]
  },
  {
   "cell_type": "markdown",
   "id": "bb3d3cca",
   "metadata": {},
   "source": [
    "## Quantifiers"
   ]
  },
  {
   "cell_type": "code",
   "execution_count": 5,
   "id": "cad7a194",
   "metadata": {},
   "outputs": [
    {
     "data": {
      "text/plain": [
       "<re.Match object; span=(0, 6), match='foobar'>"
      ]
     },
     "execution_count": 5,
     "metadata": {},
     "output_type": "execute_result"
    }
   ],
   "source": [
    "re.search('foo-*bar', 'foobar')   \n",
    "\n",
    "## * Matches zero or more repetitions of the preceding regex."
   ]
  },
  {
   "cell_type": "code",
   "execution_count": 6,
   "id": "9fdd6efe",
   "metadata": {},
   "outputs": [
    {
     "data": {
      "text/plain": [
       "<re.Match object; span=(0, 7), match='foo-bar'>"
      ]
     },
     "execution_count": 6,
     "metadata": {},
     "output_type": "execute_result"
    }
   ],
   "source": [
    "re.search('foo-*bar', 'foo-bar')  \n",
    "\n",
    "## prints all characters"
   ]
  },
  {
   "cell_type": "code",
   "execution_count": 7,
   "id": "8490e266",
   "metadata": {},
   "outputs": [
    {
     "data": {
      "text/plain": [
       "<re.Match object; span=(0, 8), match='foo--bar'>"
      ]
     },
     "execution_count": 7,
     "metadata": {},
     "output_type": "execute_result"
    }
   ],
   "source": [
    "re.search('foo-*bar', 'foo--bar') \n",
    "\n",
    "## prints all characters"
   ]
  },
  {
   "cell_type": "code",
   "execution_count": 8,
   "id": "e08f6b49",
   "metadata": {},
   "outputs": [
    {
     "data": {
      "text/plain": [
       "<re.Match object; span=(2, 23), match='foo $qux@grault % bar'>"
      ]
     },
     "execution_count": 8,
     "metadata": {},
     "output_type": "execute_result"
    }
   ],
   "source": [
    "re.search('foo.*bar', '# foo $qux@grault % bar #')\n",
    "\n",
    "## * matches everything between 'foo' and 'bar'. DOesn't print the first # and space"
   ]
  },
  {
   "cell_type": "code",
   "execution_count": 9,
   "id": "b1e464d5",
   "metadata": {},
   "outputs": [
    {
     "name": "stdout",
     "output_type": "stream",
     "text": [
      "None\n"
     ]
    }
   ],
   "source": [
    "print(re.search('foo-+bar', 'foobar'))              # Zero dashes\n",
    "\n",
    "## + Matches one or more repetitions of the preceding regex. Doesn't work as a -"
   ]
  },
  {
   "cell_type": "code",
   "execution_count": 12,
   "id": "37c40169",
   "metadata": {},
   "outputs": [
    {
     "data": {
      "text/plain": [
       "<re.Match object; span=(0, 7), match='foo-bar'>"
      ]
     },
     "execution_count": 12,
     "metadata": {},
     "output_type": "execute_result"
    }
   ],
   "source": [
    "re.search('foo-+bar', 'foo-bar')                    # One dash\n",
    "\n",
    "## prints as + gives a match"
   ]
  },
  {
   "cell_type": "code",
   "execution_count": 14,
   "id": "affc1d06",
   "metadata": {},
   "outputs": [
    {
     "data": {
      "text/plain": [
       "<re.Match object; span=(0, 9), match='foo---bar'>"
      ]
     },
     "execution_count": 14,
     "metadata": {},
     "output_type": "execute_result"
    }
   ],
   "source": [
    "re.search('foo-+bar', 'foo---bar') \n",
    "\n",
    "## This has a match as all as both the espression and string have the same parameters"
   ]
  },
  {
   "cell_type": "code",
   "execution_count": 15,
   "id": "e3f6f1dd",
   "metadata": {},
   "outputs": [
    {
     "data": {
      "text/plain": [
       "<re.Match object; span=(0, 6), match='foobar'>"
      ]
     },
     "execution_count": 15,
     "metadata": {},
     "output_type": "execute_result"
    }
   ],
   "source": [
    "re.search('foo-?bar', 'foobar')                     # Zero dashes\n",
    "\n",
    "## ? Matches zero or one repetitions of the preceding regex.This matches in both"
   ]
  },
  {
   "cell_type": "code",
   "execution_count": 16,
   "id": "b88febb4",
   "metadata": {},
   "outputs": [
    {
     "data": {
      "text/plain": [
       "<re.Match object; span=(0, 7), match='foo-bar'>"
      ]
     },
     "execution_count": 16,
     "metadata": {},
     "output_type": "execute_result"
    }
   ],
   "source": [
    "re.search('foo-?bar', 'foo-bar')   \n",
    "\n",
    "## this matches as both the same"
   ]
  },
  {
   "cell_type": "code",
   "execution_count": 17,
   "id": "341f0cce",
   "metadata": {},
   "outputs": [
    {
     "name": "stdout",
     "output_type": "stream",
     "text": [
      "None\n"
     ]
    }
   ],
   "source": [
    "print(re.search('foo-?bar', 'foo--bar'))  \n",
    "\n",
    "## this doesn't match due to the two --"
   ]
  },
  {
   "cell_type": "code",
   "execution_count": 18,
   "id": "4003f106",
   "metadata": {},
   "outputs": [
    {
     "data": {
      "text/plain": [
       "<re.Match object; span=(0, 6), match='foobar'>"
      ]
     },
     "execution_count": 18,
     "metadata": {},
     "output_type": "execute_result"
    }
   ],
   "source": [
    "re.match('foo[1-9]*bar', 'foobar')\n",
    "\n",
    "## quantified regex is the character class [1-9], * will print all"
   ]
  },
  {
   "cell_type": "code",
   "execution_count": 19,
   "id": "5445b3bc",
   "metadata": {},
   "outputs": [
    {
     "data": {
      "text/plain": [
       "<re.Match object; span=(0, 8), match='foo42bar'>"
      ]
     },
     "execution_count": 19,
     "metadata": {},
     "output_type": "execute_result"
    }
   ],
   "source": [
    "re.match('foo[1-9]*bar', 'foo42bar')\n",
    "\n",
    "## Same as above and prints all"
   ]
  },
  {
   "cell_type": "code",
   "execution_count": 24,
   "id": "0cc53d1a",
   "metadata": {},
   "outputs": [
    {
     "name": "stdout",
     "output_type": "stream",
     "text": [
      "None\n"
     ]
    }
   ],
   "source": [
    "print(re.match('foo[1-9]+bar', 'foobar'))\n",
    "\n",
    "## doesn't work as no number between foo and bar"
   ]
  },
  {
   "cell_type": "code",
   "execution_count": 25,
   "id": "2e0c57eb",
   "metadata": {},
   "outputs": [
    {
     "data": {
      "text/plain": [
       "<re.Match object; span=(0, 8), match='foo42bar'>"
      ]
     },
     "execution_count": 25,
     "metadata": {},
     "output_type": "execute_result"
    }
   ],
   "source": [
    "re.match('foo[1-9]+bar', 'foo42bar')\n",
    "\n",
    "## prints as number and combines because of +"
   ]
  },
  {
   "cell_type": "code",
   "execution_count": 27,
   "id": "390d78a5",
   "metadata": {},
   "outputs": [
    {
     "data": {
      "text/plain": [
       "<re.Match object; span=(0, 6), match='foobar'>"
      ]
     },
     "execution_count": 27,
     "metadata": {},
     "output_type": "execute_result"
    }
   ],
   "source": [
    "re.match('foo[1-9]?bar', 'foobar')\n",
    "\n",
    "## works due to ? as just used a check"
   ]
  },
  {
   "cell_type": "code",
   "execution_count": 35,
   "id": "bf81622d",
   "metadata": {},
   "outputs": [
    {
     "name": "stdout",
     "output_type": "stream",
     "text": [
      "None\n"
     ]
    }
   ],
   "source": [
    "print(re.match('foo[1-9]?bar', 'foo42bar'))\n",
    "\n",
    "## doesn't work as two digits in 42"
   ]
  },
  {
   "cell_type": "code",
   "execution_count": 36,
   "id": "1479b774",
   "metadata": {},
   "outputs": [
    {
     "data": {
      "text/plain": [
       "<re.Match object; span=(1, 18), match='<foo> <bar> <baz>'>"
      ]
     },
     "execution_count": 36,
     "metadata": {},
     "output_type": "execute_result"
    }
   ],
   "source": [
    "re.search('<.*>', '%<foo> <bar> <baz>%')\n",
    "\n",
    "## <.*>  means  any sequence of characters between the < > which will print from the first < to the last > "
   ]
  },
  {
   "cell_type": "code",
   "execution_count": 37,
   "id": "d7534cde",
   "metadata": {},
   "outputs": [
    {
     "data": {
      "text/plain": [
       "<re.Match object; span=(1, 6), match='<foo>'>"
      ]
     },
     "execution_count": 37,
     "metadata": {},
     "output_type": "execute_result"
    }
   ],
   "source": [
    "re.search('<.*?>', '%<foo> <bar> <baz>%')\n",
    "\n",
    "# ends after first > as it is a \"non-greedy metacharacter sequence\" and will only produce the first < >"
   ]
  },
  {
   "cell_type": "code",
   "execution_count": 38,
   "id": "4ab4ad6c",
   "metadata": {},
   "outputs": [
    {
     "data": {
      "text/plain": [
       "<re.Match object; span=(1, 18), match='<foo> <bar> <baz>'>"
      ]
     },
     "execution_count": 38,
     "metadata": {},
     "output_type": "execute_result"
    }
   ],
   "source": [
    "re.search('<.+>', '%<foo> <bar> <baz>%')\n",
    "\n",
    "## + will append them all together and include the spaces"
   ]
  },
  {
   "cell_type": "code",
   "execution_count": 39,
   "id": "566504bc",
   "metadata": {},
   "outputs": [
    {
     "data": {
      "text/plain": [
       "<re.Match object; span=(1, 6), match='<foo>'>"
      ]
     },
     "execution_count": 39,
     "metadata": {},
     "output_type": "execute_result"
    }
   ],
   "source": [
    "re.search('<.+?>', '%<foo> <bar> <baz>%')\n",
    "\n",
    "## ? will only generate the first example"
   ]
  },
  {
   "cell_type": "code",
   "execution_count": 40,
   "id": "b74d87d3",
   "metadata": {},
   "outputs": [
    {
     "data": {
      "text/plain": [
       "<re.Match object; span=(0, 2), match='ba'>"
      ]
     },
     "execution_count": 40,
     "metadata": {},
     "output_type": "execute_result"
    }
   ],
   "source": [
    "re.search('ba?', 'baaaa')\n",
    "\n",
    "## The greedy version, ?, matches one occurrence, so ba? matches 'b' followed by a single 'a'. "
   ]
  },
  {
   "cell_type": "code",
   "execution_count": 41,
   "id": "32a4c266",
   "metadata": {},
   "outputs": [
    {
     "data": {
      "text/plain": [
       "<re.Match object; span=(0, 1), match='b'>"
      ]
     },
     "execution_count": 41,
     "metadata": {},
     "output_type": "execute_result"
    }
   ],
   "source": [
    "re.search('ba??', 'baaaa')\n",
    "\n",
    "## The non-greedy version, ??, matches zero occurrences, so ba?? matches just 'b'."
   ]
  },
  {
   "cell_type": "code",
   "execution_count": 45,
   "id": "0dba62bb",
   "metadata": {},
   "outputs": [
    {
     "name": "stdout",
     "output_type": "stream",
     "text": [
      "None\n"
     ]
    }
   ],
   "source": [
    "print(re.search('x-{3}x', 'x--x'))   \n",
    "\n",
    "## Matches exactly m repetitions of the preceding regex, doesn't work as only two dashes"
   ]
  },
  {
   "cell_type": "code",
   "execution_count": 43,
   "id": "a361699c",
   "metadata": {},
   "outputs": [
    {
     "data": {
      "text/plain": [
       "<re.Match object; span=(0, 5), match='x---x'>"
      ]
     },
     "execution_count": 43,
     "metadata": {},
     "output_type": "execute_result"
    }
   ],
   "source": [
    "re.search('x-{3}x', 'x---x')\n",
    "\n",
    "## works as 3 dashes"
   ]
  },
  {
   "cell_type": "code",
   "execution_count": 46,
   "id": "fcf1591e",
   "metadata": {},
   "outputs": [
    {
     "name": "stdout",
     "output_type": "stream",
     "text": [
      "None\n"
     ]
    }
   ],
   "source": [
    "print(re.search('x-{3}x', 'x----x'))   \n",
    "\n",
    "## doesn't work as 4 dashes"
   ]
  },
  {
   "cell_type": "code",
   "execution_count": 47,
   "id": "f4dd225c",
   "metadata": {},
   "outputs": [
    {
     "name": "stdout",
     "output_type": "stream",
     "text": [
      "1  x-x        None\n",
      "2  x--x       <re.Match object; span=(0, 4), match='x--x'>\n",
      "3  x---x      <re.Match object; span=(0, 5), match='x---x'>\n",
      "4  x----x     <re.Match object; span=(0, 6), match='x----x'>\n",
      "5  x-----x    None\n"
     ]
    }
   ],
   "source": [
    "for i in range(1, 6):\n",
    "    s = f\"x{'-' * i}x\"\n",
    "    print(f'{i}  {s:10}', re.search('x-{2,4}x', s))\n",
    "    \n",
    "    ##  The match succeeds when there are two, three, or four dashes between the 'x' characters, 2,4 in code and then runs the result"
   ]
  },
  {
   "cell_type": "code",
   "execution_count": 52,
   "id": "20c550a7",
   "metadata": {},
   "outputs": [
    {
     "data": {
      "text/plain": [
       "<re.Match object; span=(0, 4), match='x{}y'>"
      ]
     },
     "execution_count": 52,
     "metadata": {},
     "output_type": "execute_result"
    }
   ],
   "source": [
    "re.search('x{}y', 'x{}y')\n",
    "\n",
    "## If you omit all of m, n, and the comma, then the curly braces no longer function as metacharacters. {} matches just the literal string '{}':"
   ]
  },
  {
   "cell_type": "code",
   "execution_count": 48,
   "id": "c801d81e",
   "metadata": {},
   "outputs": [
    {
     "data": {
      "text/plain": [
       "<re.Match object; span=(0, 7), match='x{foo}y'>"
      ]
     },
     "execution_count": 48,
     "metadata": {},
     "output_type": "execute_result"
    }
   ],
   "source": [
    "re.search('x{foo}y', 'x{foo}y')\n",
    "\n",
    "## matches literally"
   ]
  },
  {
   "cell_type": "code",
   "execution_count": 49,
   "id": "d433941b",
   "metadata": {},
   "outputs": [
    {
     "data": {
      "text/plain": [
       "<re.Match object; span=(0, 7), match='x{a:b}y'>"
      ]
     },
     "execution_count": 49,
     "metadata": {},
     "output_type": "execute_result"
    }
   ],
   "source": [
    "re.search('x{a:b}y', 'x{a:b}y')\n",
    "\n",
    "## matches literally"
   ]
  },
  {
   "cell_type": "code",
   "execution_count": 50,
   "id": "fe936dbf",
   "metadata": {},
   "outputs": [
    {
     "data": {
      "text/plain": [
       "<re.Match object; span=(0, 9), match='x{1,3,5}y'>"
      ]
     },
     "execution_count": 50,
     "metadata": {},
     "output_type": "execute_result"
    }
   ],
   "source": [
    "re.search('x{1,3,5}y', 'x{1,3,5}y')\n",
    "\n",
    "## matches literally"
   ]
  },
  {
   "cell_type": "code",
   "execution_count": 51,
   "id": "babfec5b",
   "metadata": {},
   "outputs": [
    {
     "data": {
      "text/plain": [
       "<re.Match object; span=(0, 11), match='x{foo,bar}y'>"
      ]
     },
     "execution_count": 51,
     "metadata": {},
     "output_type": "execute_result"
    }
   ],
   "source": [
    "re.search('x{foo,bar}y', 'x{foo,bar}y')\n",
    "\n",
    "## matches literally"
   ]
  },
  {
   "cell_type": "code",
   "execution_count": 53,
   "id": "79b7d103",
   "metadata": {},
   "outputs": [
    {
     "data": {
      "text/plain": [
       "<re.Match object; span=(0, 5), match='aaaaa'>"
      ]
     },
     "execution_count": 53,
     "metadata": {},
     "output_type": "execute_result"
    }
   ],
   "source": [
    "re.search('a{3,5}', 'aaaaaaaa')\n",
    "\n",
    "## In this case, a{3,5} produces the longest possible match, so it matches five 'a' characters"
   ]
  },
  {
   "cell_type": "code",
   "execution_count": 54,
   "id": "f8230599",
   "metadata": {},
   "outputs": [
    {
     "data": {
      "text/plain": [
       "<re.Match object; span=(0, 3), match='aaa'>"
      ]
     },
     "execution_count": 54,
     "metadata": {},
     "output_type": "execute_result"
    }
   ],
   "source": [
    "re.search('a{3,5}?', 'aaaaaaaa')\n",
    "\n",
    "## {3,5}? produces the shortest match, so it matches three."
   ]
  },
  {
   "cell_type": "markdown",
   "id": "ec0dc7c1",
   "metadata": {},
   "source": [
    "## Grouping Constructs and Backreferences"
   ]
  },
  {
   "cell_type": "code",
   "execution_count": 57,
   "id": "86ef7de0",
   "metadata": {},
   "outputs": [
    {
     "data": {
      "text/plain": [
       "<re.Match object; span=(4, 7), match='bar'>"
      ]
     },
     "execution_count": 57,
     "metadata": {},
     "output_type": "execute_result"
    }
   ],
   "source": [
    "re.search('(bar)', 'foo bar baz')\n",
    "\n",
    "## matches the contents of the parentheses"
   ]
  },
  {
   "cell_type": "code",
   "execution_count": 58,
   "id": "14b25e7c",
   "metadata": {},
   "outputs": [
    {
     "data": {
      "text/plain": [
       "<re.Match object; span=(4, 7), match='bar'>"
      ]
     },
     "execution_count": 58,
     "metadata": {},
     "output_type": "execute_result"
    }
   ],
   "source": [
    "re.search('bar', 'foo bar baz')\n",
    "\n",
    "## Also works with no brackets"
   ]
  },
  {
   "cell_type": "code",
   "execution_count": 61,
   "id": "7729b039",
   "metadata": {},
   "outputs": [
    {
     "data": {
      "text/plain": [
       "<re.Match object; span=(4, 7), match='bar'>"
      ]
     },
     "execution_count": 61,
     "metadata": {},
     "output_type": "execute_result"
    }
   ],
   "source": [
    "re.search('(bar)+', 'foo bar baz')\n",
    "\n",
    "## A quantifier metacharacter that follows a group operates on the entire subexpression specified in the group as a single unit."
   ]
  },
  {
   "cell_type": "code",
   "execution_count": 62,
   "id": "bfa4f7b9",
   "metadata": {},
   "outputs": [
    {
     "data": {
      "text/plain": [
       "<re.Match object; span=(4, 10), match='barbar'>"
      ]
     },
     "execution_count": 62,
     "metadata": {},
     "output_type": "execute_result"
    }
   ],
   "source": [
    "re.search('(bar)+', 'foo barbar baz')\n",
    "\n",
    "## Combines the parentheses and outputs both"
   ]
  },
  {
   "cell_type": "code",
   "execution_count": 63,
   "id": "e8f0680f",
   "metadata": {},
   "outputs": [
    {
     "data": {
      "text/plain": [
       "<re.Match object; span=(0, 12), match='bazbarbazqux'>"
      ]
     },
     "execution_count": 63,
     "metadata": {},
     "output_type": "execute_result"
    }
   ],
   "source": [
    "re.search('(ba[rz]){2,4}(qux)?', 'bazbarbazqux')\n",
    "\n",
    "## The regex (ba[rz]){2,4}(qux)? matches 2 to 4 occurrences of either 'bar' or 'baz', optionally followed by 'qux':"
   ]
  },
  {
   "cell_type": "code",
   "execution_count": 64,
   "id": "871e63b1",
   "metadata": {},
   "outputs": [
    {
     "data": {
      "text/plain": [
       "<re.Match object; span=(0, 6), match='barbar'>"
      ]
     },
     "execution_count": 64,
     "metadata": {},
     "output_type": "execute_result"
    }
   ],
   "source": [
    "re.search('(ba[rz]){2,4}(qux)?', 'barbar')\n",
    "\n",
    "## displays barbar as matches 2 to 4 occurances of word"
   ]
  },
  {
   "cell_type": "code",
   "execution_count": 66,
   "id": "3607da20",
   "metadata": {},
   "outputs": [
    {
     "data": {
      "text/plain": [
       "<re.Match object; span=(0, 9), match='foofoobar'>"
      ]
     },
     "execution_count": 66,
     "metadata": {},
     "output_type": "execute_result"
    }
   ],
   "source": [
    "re.search('(foo(bar)?)+(\\d\\d\\d)?', 'foofoobar')\n",
    "\n",
    "## nest grouping parentheses, \t'foo' optionally followed by 'bar', with One or more occurrences of the above, \\d"
   ]
  },
  {
   "cell_type": "code",
   "execution_count": 67,
   "id": "57208dcb",
   "metadata": {},
   "outputs": [
    {
     "data": {
      "text/plain": [
       "<re.Match object; span=(0, 12), match='foofoobar123'>"
      ]
     },
     "execution_count": 67,
     "metadata": {},
     "output_type": "execute_result"
    }
   ],
   "source": [
    "re.search('(foo(bar)?)+(\\d\\d\\d)?', 'foofoobar123')\n",
    "\n",
    "## nest grouping parentheses, (foo(bar)?)+ displays one or more, \\d displays Three decimal digit characters, (\\d\\d\\d)? - Zero or one occurrences of the above"
   ]
  },
  {
   "cell_type": "code",
   "execution_count": 68,
   "id": "a71860b1",
   "metadata": {},
   "outputs": [
    {
     "data": {
      "text/plain": [
       "<re.Match object; span=(0, 9), match='foofoo123'>"
      ]
     },
     "execution_count": 68,
     "metadata": {},
     "output_type": "execute_result"
    }
   ],
   "source": [
    "re.search('(foo(bar)?)+(\\d\\d\\d)?', 'foofoo123')\n",
    "\n",
    "## nest grouping parentheses, (foo(bar)?)+ displays one or more, \\d displays Three decimal digit characters, (\\d\\d\\d)? - Zero or one occurrences of the above"
   ]
  },
  {
   "cell_type": "code",
   "execution_count": 70,
   "id": "7d02f9cf",
   "metadata": {},
   "outputs": [],
   "source": [
    "m = re.search('(\\w+),(\\w+),(\\w+)', 'foo,quux,baz')\n",
    "m\n",
    "\n",
    "## Each of the three (\\w+) expressions matches a sequence of word characters. The full regex (\\w+),(\\w+),(\\w+) breaks the search string into three comma-separated tokens."
   ]
  },
  {
   "cell_type": "code",
   "execution_count": 76,
   "id": "4743c3fe",
   "metadata": {},
   "outputs": [
    {
     "data": {
      "text/plain": [
       "'foo'"
      ]
     },
     "execution_count": 76,
     "metadata": {},
     "output_type": "execute_result"
    }
   ],
   "source": [
    "m = re.search('(\\w+),(\\w+),(\\w+)', 'foo,quux,baz')\n",
    "\n",
    "m.group(1)\n",
    "\n",
    "## (\\w+) group can be used to group the 3 parameters into 3 different ones\n"
   ]
  },
  {
   "cell_type": "code",
   "execution_count": 74,
   "id": "d5d46247",
   "metadata": {},
   "outputs": [
    {
     "data": {
      "text/plain": [
       "'quux'"
      ]
     },
     "execution_count": 74,
     "metadata": {},
     "output_type": "execute_result"
    }
   ],
   "source": [
    "m.group(2)\n",
    "\n"
   ]
  },
  {
   "cell_type": "code",
   "execution_count": 75,
   "id": "171b1806",
   "metadata": {},
   "outputs": [
    {
     "data": {
      "text/plain": [
       "'baz'"
      ]
     },
     "execution_count": 75,
     "metadata": {},
     "output_type": "execute_result"
    }
   ],
   "source": [
    "m.group(3)\n"
   ]
  },
  {
   "cell_type": "code",
   "execution_count": 77,
   "id": "450e57b6",
   "metadata": {},
   "outputs": [
    {
     "data": {
      "text/plain": [
       "'foo,quux,baz'"
      ]
     },
     "execution_count": 77,
     "metadata": {},
     "output_type": "execute_result"
    }
   ],
   "source": [
    "m.group(0)\n",
    "\n",
    "## returns entire match"
   ]
  },
  {
   "cell_type": "code",
   "execution_count": 78,
   "id": "22bd58c6",
   "metadata": {},
   "outputs": [
    {
     "data": {
      "text/plain": [
       "('quux', 'baz')"
      ]
     },
     "execution_count": 78,
     "metadata": {},
     "output_type": "execute_result"
    }
   ],
   "source": [
    "m.group(2, 3)\n",
    "\n",
    "## Can also return specific groups"
   ]
  },
  {
   "cell_type": "code",
   "execution_count": 79,
   "id": "988909d9",
   "metadata": {},
   "outputs": [
    {
     "data": {
      "text/plain": [
       "('baz', 'quux', 'foo')"
      ]
     },
     "execution_count": 79,
     "metadata": {},
     "output_type": "execute_result"
    }
   ],
   "source": [
    "m.group(3, 2, 1)\n",
    "\n",
    "## or in a different order"
   ]
  },
  {
   "cell_type": "markdown",
   "id": "7632414c",
   "metadata": {},
   "source": [
    "## Backreferences"
   ]
  },
  {
   "cell_type": "code",
   "execution_count": 2,
   "id": "7546e08c",
   "metadata": {},
   "outputs": [
    {
     "data": {
      "text/plain": [
       "'foo'"
      ]
     },
     "execution_count": 2,
     "metadata": {},
     "output_type": "execute_result"
    }
   ],
   "source": [
    "regex = r'(\\w+),\\1'\n",
    "\n",
    "m = re.search(regex, 'foo,foo')\n",
    "m\n",
    "\n",
    "m.group(1)\n",
    "\n",
    "## <n>th eg 1 matches the contents of the <n>th captured group."
   ]
  },
  {
   "cell_type": "code",
   "execution_count": 6,
   "id": "2917062d",
   "metadata": {},
   "outputs": [
    {
     "data": {
      "text/plain": [
       "'qux'"
      ]
     },
     "execution_count": 6,
     "metadata": {},
     "output_type": "execute_result"
    }
   ],
   "source": [
    "m = re.search(regex, 'qux,qux')\n",
    "m\n",
    "\n",
    "m.group(1)\n",
    "\n",
    "## matches a word, followed by a comma, followed by the same word again"
   ]
  },
  {
   "cell_type": "code",
   "execution_count": 10,
   "id": "ed82624e",
   "metadata": {},
   "outputs": [
    {
     "name": "stdout",
     "output_type": "stream",
     "text": [
      "None\n"
     ]
    }
   ],
   "source": [
    "regex = r'(\\w+),\\1'\n",
    "\n",
    "m = re.search(regex, 'foo,qux')\n",
    "print(m)\n",
    "\n",
    "## doesn't match as word before first comma isn't the same as the one after"
   ]
  },
  {
   "cell_type": "code",
   "execution_count": 12,
   "id": "1124099d",
   "metadata": {},
   "outputs": [
    {
     "data": {
      "text/plain": [
       "<re.Match object; span=(0, 3), match='d#d'>"
      ]
     },
     "execution_count": 12,
     "metadata": {},
     "output_type": "execute_result"
    }
   ],
   "source": [
    "re.search(r'([a-z])#\\1', 'd#d')\n",
    "\n",
    "## Remember to consider using a raw string whenever your regex includes a metacharacter sequence containing a backslash."
   ]
  },
  {
   "cell_type": "markdown",
   "id": "7e33558c",
   "metadata": {},
   "source": [
    "## Other Grouping Constructs"
   ]
  },
  {
   "cell_type": "code",
   "execution_count": 13,
   "id": "27992722",
   "metadata": {},
   "outputs": [
    {
     "data": {
      "text/plain": [
       "('foo', 'quux', 'baz')"
      ]
     },
     "execution_count": 13,
     "metadata": {},
     "output_type": "execute_result"
    }
   ],
   "source": [
    "m = re.search('(\\w+),(\\w+),(\\w+)', 'foo,quux,baz')\n",
    "m.groups()\n",
    "\n",
    "\n",
    "m.group(1, 2, 3)\n",
    "\n",
    "## catches 3 groups and prints them out. "
   ]
  },
  {
   "cell_type": "code",
   "execution_count": 14,
   "id": "1d4f0de3",
   "metadata": {},
   "outputs": [
    {
     "data": {
      "text/plain": [
       "('foo', 'quux', 'baz')"
      ]
     },
     "execution_count": 14,
     "metadata": {},
     "output_type": "execute_result"
    }
   ],
   "source": [
    "m = re.search('(?P<w1>\\w+),(?P<w2>\\w+),(?P<w3>\\w+)', 'foo,quux,baz')\n",
    "m.groups()\n",
    "\n",
    "## This can also be done with symbolic names w1, w2, and w3:"
   ]
  },
  {
   "cell_type": "code",
   "execution_count": 15,
   "id": "21c176ad",
   "metadata": {},
   "outputs": [
    {
     "data": {
      "text/plain": [
       "'foo'"
      ]
     },
     "execution_count": 15,
     "metadata": {},
     "output_type": "execute_result"
    }
   ],
   "source": [
    "m = re.search('(?P<w1>\\w+),(?P<w2>\\w+),(?P<w3>\\w+)', 'foo,quux,baz')\n",
    "\n",
    "m.group('w1')\n",
    "\n",
    "m.group(1)\n",
    "\n",
    "## can also search by symbolic name"
   ]
  },
  {
   "cell_type": "code",
   "execution_count": 17,
   "id": "44567b62",
   "metadata": {},
   "outputs": [
    {
     "data": {
      "text/plain": [
       "('foo', 'quux', 'baz')"
      ]
     },
     "execution_count": 17,
     "metadata": {},
     "output_type": "execute_result"
    }
   ],
   "source": [
    "m.group('w1', 'w2', 'w3')\n",
    "\n",
    "## dipslay using w1, w2, w3"
   ]
  },
  {
   "cell_type": "code",
   "execution_count": 18,
   "id": "2c2aa0ec",
   "metadata": {},
   "outputs": [
    {
     "data": {
      "text/plain": [
       "('foo', 'quux', 'baz')"
      ]
     },
     "execution_count": 18,
     "metadata": {},
     "output_type": "execute_result"
    }
   ],
   "source": [
    "m.group(1, 2, 3)\n",
    "\n",
    "## Or by using 1,2 and 3."
   ]
  },
  {
   "cell_type": "code",
   "execution_count": 19,
   "id": "cb8c9008",
   "metadata": {},
   "outputs": [
    {
     "data": {
      "text/plain": [
       "'foo'"
      ]
     },
     "execution_count": 19,
     "metadata": {},
     "output_type": "execute_result"
    }
   ],
   "source": [
    "m = re.search(r'(\\w+),\\1', 'foo,foo')\n",
    "m\n",
    "\n",
    "m.group(1)\n",
    "\n",
    "## numbered backreference to match a word, followed by a comma, followed by the same word again"
   ]
  },
  {
   "cell_type": "code",
   "execution_count": 20,
   "id": "2fdb85f1",
   "metadata": {},
   "outputs": [
    {
     "data": {
      "text/plain": [
       "'foo'"
      ]
     },
     "execution_count": 20,
     "metadata": {},
     "output_type": "execute_result"
    }
   ],
   "source": [
    "m = re.search(r'(?P<word>\\w+),(?P=word)', 'foo,foo')\n",
    "m\n",
    "\n",
    "m.group('word')\n",
    "\n",
    "## (?P=<word>\\w+) matches 'foo' and saves it as a captured group named word. Again, the comma matches literally."
   ]
  },
  {
   "cell_type": "code",
   "execution_count": 22,
   "id": "50102bdd",
   "metadata": {},
   "outputs": [
    {
     "data": {
      "text/plain": [
       "('foo', 'baz')"
      ]
     },
     "execution_count": 22,
     "metadata": {},
     "output_type": "execute_result"
    }
   ],
   "source": [
    "m = re.search('(\\w+),(?:\\w+),(\\w+)', 'foo,quux,baz')\n",
    "m.groups()\n",
    "\n",
    "## 'quux' sits inside non-capturing parentheses so won't print"
   ]
  },
  {
   "cell_type": "code",
   "execution_count": 23,
   "id": "4a63f6f1",
   "metadata": {},
   "outputs": [
    {
     "data": {
      "text/plain": [
       "'foo'"
      ]
     },
     "execution_count": 23,
     "metadata": {},
     "output_type": "execute_result"
    }
   ],
   "source": [
    "m.group(1)"
   ]
  },
  {
   "cell_type": "code",
   "execution_count": 24,
   "id": "800a58fc",
   "metadata": {},
   "outputs": [
    {
     "data": {
      "text/plain": [
       "'baz'"
      ]
     },
     "execution_count": 24,
     "metadata": {},
     "output_type": "execute_result"
    }
   ],
   "source": [
    "m.group(2)"
   ]
  },
  {
   "cell_type": "code",
   "execution_count": 26,
   "id": "3726445d",
   "metadata": {},
   "outputs": [
    {
     "data": {
      "text/plain": [
       "<re.Match object; span=(0, 9), match='###foobar'>"
      ]
     },
     "execution_count": 26,
     "metadata": {},
     "output_type": "execute_result"
    }
   ],
   "source": [
    "re.search(regex, '###foobar')\n",
    "\n",
    "## The search string '###foobar' does start with '###', so the parser creates a group numbered 1.\n",
    "## The conditional match is then against 'bar', which matches."
   ]
  },
  {
   "cell_type": "code",
   "execution_count": 27,
   "id": "d37da092",
   "metadata": {},
   "outputs": [
    {
     "name": "stdout",
     "output_type": "stream",
     "text": [
      "None\n"
     ]
    }
   ],
   "source": [
    "print(re.search(regex, '###foobaz'))\n",
    "\n",
    "## The search string '###foobaz' does start with '###', so the parser creates a group numbered 1. \n",
    "## The conditional match is then against 'bar', which doesn’t match so will print none."
   ]
  },
  {
   "cell_type": "code",
   "execution_count": 28,
   "id": "a29f7b08",
   "metadata": {},
   "outputs": [
    {
     "name": "stdout",
     "output_type": "stream",
     "text": [
      "None\n"
     ]
    }
   ],
   "source": [
    "print(re.search(regex, 'foobar'))\n",
    "\n",
    "## The search string 'foobar' doesn’t start with '###', so there isn’t a group numbered 1.\n",
    "\n",
    "## This means that it will print none as no match"
   ]
  },
  {
   "cell_type": "code",
   "execution_count": 29,
   "id": "adf8d8ca",
   "metadata": {},
   "outputs": [
    {
     "data": {
      "text/plain": [
       "<re.Match object; span=(0, 6), match='foobaz'>"
      ]
     },
     "execution_count": 29,
     "metadata": {},
     "output_type": "execute_result"
    }
   ],
   "source": [
    "re.search(regex, 'foobaz')\n",
    "\n",
    "## The search string 'foobaz' doesn’t start with '###', so there isn’t a group numbered 1. \n",
    "\n",
    "## The conditional match is then against 'baz', which matches."
   ]
  },
  {
   "cell_type": "markdown",
   "id": "1b7d207c",
   "metadata": {},
   "source": [
    "## Regex Searches Examples \n",
    "\n",
    "If a non-word character precedes 'foo', then the parser creates a group named ch which contains that character. The conditional match then matches against <yes-regex>, which is (?P=ch), the same character again. That means the same character must also follow 'foo' for the entire match to succeed.\n",
    "    \n",
    "Here are some examples:"
   ]
  },
  {
   "cell_type": "code",
   "execution_count": 31,
   "id": "d47f8641",
   "metadata": {},
   "outputs": [
    {
     "data": {
      "text/plain": [
       "<re.Match object; span=(0, 3), match='foo'>"
      ]
     },
     "execution_count": 31,
     "metadata": {},
     "output_type": "execute_result"
    }
   ],
   "source": [
    "regex = r'^(?P<ch>\\W)?foo(?(ch)(?P=ch)|)$'\n",
    "\n",
    "re.search(regex, 'foo')"
   ]
  },
  {
   "cell_type": "code",
   "execution_count": 32,
   "id": "c6c4e0a2",
   "metadata": {},
   "outputs": [
    {
     "data": {
      "text/plain": [
       "<re.Match object; span=(0, 5), match='#foo#'>"
      ]
     },
     "execution_count": 32,
     "metadata": {},
     "output_type": "execute_result"
    }
   ],
   "source": [
    "re.search(regex, '#foo#')"
   ]
  },
  {
   "cell_type": "code",
   "execution_count": 33,
   "id": "3d6e6a0d",
   "metadata": {},
   "outputs": [
    {
     "data": {
      "text/plain": [
       "<re.Match object; span=(0, 5), match='@foo@'>"
      ]
     },
     "execution_count": 33,
     "metadata": {},
     "output_type": "execute_result"
    }
   ],
   "source": [
    "re.search(regex, '@foo@')"
   ]
  },
  {
   "cell_type": "markdown",
   "id": "2d455397",
   "metadata": {},
   "source": [
    "These 4 examples won't work"
   ]
  },
  {
   "cell_type": "code",
   "execution_count": 34,
   "id": "ea7dd712",
   "metadata": {},
   "outputs": [
    {
     "name": "stdout",
     "output_type": "stream",
     "text": [
      "None\n"
     ]
    }
   ],
   "source": [
    "print(re.search(regex, '#foo'))"
   ]
  },
  {
   "cell_type": "code",
   "execution_count": 35,
   "id": "b787afa2",
   "metadata": {},
   "outputs": [
    {
     "name": "stdout",
     "output_type": "stream",
     "text": [
      "None\n"
     ]
    }
   ],
   "source": [
    "print(re.search(regex, 'foo@'))"
   ]
  },
  {
   "cell_type": "code",
   "execution_count": 36,
   "id": "c1400618",
   "metadata": {},
   "outputs": [
    {
     "name": "stdout",
     "output_type": "stream",
     "text": [
      "None\n"
     ]
    }
   ],
   "source": [
    "print(re.search(regex, '#foo@'))"
   ]
  },
  {
   "cell_type": "code",
   "execution_count": 37,
   "id": "82fc592f",
   "metadata": {},
   "outputs": [
    {
     "name": "stdout",
     "output_type": "stream",
     "text": [
      "None\n"
     ]
    }
   ],
   "source": [
    "print(re.search(regex, '@foo#'))"
   ]
  },
  {
   "cell_type": "markdown",
   "id": "4d46e198",
   "metadata": {},
   "source": [
    "Conditional regexes in Python are pretty esoteric and challenging to work through. If you ever do find a reason to use one, then you could probably accomplish the same goal with multiple separate re.search() calls, and your code would be less complicated to read and understand."
   ]
  },
  {
   "cell_type": "markdown",
   "id": "f8266bac",
   "metadata": {},
   "source": [
    "## Lookahead and Lookbehind Assertions"
   ]
  },
  {
   "cell_type": "code",
   "execution_count": 38,
   "id": "ddac769a",
   "metadata": {},
   "outputs": [
    {
     "data": {
      "text/plain": [
       "<re.Match object; span=(0, 3), match='foo'>"
      ]
     },
     "execution_count": 38,
     "metadata": {},
     "output_type": "execute_result"
    }
   ],
   "source": [
    "re.search('foo(?=[a-z])', 'foobar')\n",
    "\n",
    "## The lookahead assertion (?=[a-z]) specifies that what follows 'foo' must be a lowercase alphabetic character. \n",
    "\n",
    "## In this case, it’s the character 'b', so a match is found."
   ]
  },
  {
   "cell_type": "code",
   "execution_count": 39,
   "id": "bea2e6b4",
   "metadata": {},
   "outputs": [
    {
     "name": "stdout",
     "output_type": "stream",
     "text": [
      "None\n"
     ]
    }
   ],
   "source": [
    "print(re.search('foo(?=[a-z])', 'foo123'))\n",
    "\n",
    "## This will fail as next character is 1."
   ]
  },
  {
   "cell_type": "code",
   "execution_count": 41,
   "id": "356cbf32",
   "metadata": {},
   "outputs": [
    {
     "data": {
      "text/plain": [
       "<re.Match object; span=(0, 4), match='foob'>"
      ]
     },
     "execution_count": 41,
     "metadata": {},
     "output_type": "execute_result"
    }
   ],
   "source": [
    "re.search('foo([a-z])', 'foobar')\n",
    "\n",
    "## This will work and the lookahead assertion  will print the b"
   ]
  },
  {
   "cell_type": "code",
   "execution_count": 42,
   "id": "8f7e92ed",
   "metadata": {},
   "outputs": [
    {
     "name": "stdout",
     "output_type": "stream",
     "text": [
      "None\n"
     ]
    }
   ],
   "source": [
    "print(re.search('foo(?=[a-z])', 'foo123'))\n",
    "\n",
    "## This won't work as after foo is a number"
   ]
  },
  {
   "cell_type": "code",
   "execution_count": 44,
   "id": "83bc3519",
   "metadata": {},
   "outputs": [
    {
     "data": {
      "text/plain": [
       "<re.Match object; span=(0, 4), match='foob'>"
      ]
     },
     "execution_count": 44,
     "metadata": {},
     "output_type": "execute_result"
    }
   ],
   "source": [
    "re.search('foo([a-z])', 'foobar')"
   ]
  },
  {
   "cell_type": "code",
   "execution_count": 45,
   "id": "922a1cb7",
   "metadata": {},
   "outputs": [
    {
     "data": {
      "text/plain": [
       "'b'"
      ]
     },
     "execution_count": 45,
     "metadata": {},
     "output_type": "execute_result"
    }
   ],
   "source": [
    "m = re.search('foo(?=[a-z])(?P<ch>.)', 'foobar')\n",
    "m.group('ch')"
   ]
  },
  {
   "cell_type": "markdown",
   "id": "c713b3b3",
   "metadata": {},
   "source": [
    "1. The first portion of the regex, foo, matches and consumes 'foo' from the search string 'foobar'.\n",
    "\n",
    "2. The next portion, (?=[a-z]), is a lookahead that matches 'b', but the parser doesn’t advance past the 'b'.\n",
    "\n",
    "3. Lastly, (?P<ch>.) matches the next single character available, which is 'b', and captures it in a group named ch."
   ]
  },
  {
   "cell_type": "code",
   "execution_count": 49,
   "id": "ddf96ea4",
   "metadata": {},
   "outputs": [
    {
     "data": {
      "text/plain": [
       "<re.Match object; span=(3, 6), match='bar'>"
      ]
     },
     "execution_count": 49,
     "metadata": {},
     "output_type": "execute_result"
    }
   ],
   "source": [
    "re.search('(?<=foo)bar', 'foobar')\n",
    "\n",
    "## It can also be done in reverse with the lookbehind assertion specifies that 'foo' must precede 'bar'"
   ]
  },
  {
   "cell_type": "code",
   "execution_count": 50,
   "id": "fa78a9a6",
   "metadata": {},
   "outputs": [
    {
     "name": "stdout",
     "output_type": "stream",
     "text": [
      "None\n"
     ]
    }
   ],
   "source": [
    "print(re.search('(?<=qux)bar', 'foobar'))\n",
    "\n",
    "## This won't work as qux is the lookbehind assertion"
   ]
  },
  {
   "cell_type": "code",
   "execution_count": 51,
   "id": "692158b7",
   "metadata": {},
   "outputs": [
    {
     "data": {
      "text/plain": [
       "<re.Match object; span=(3, 6), match='def'>"
      ]
     },
     "execution_count": 51,
     "metadata": {},
     "output_type": "execute_result"
    }
   ],
   "source": [
    "re.search('(?<=a{3})def', 'aaadef')\n",
    "\n",
    "## Anything that matches a{3} will have a fixed length of three, so a{3} is valid in a lookbehind assertion."
   ]
  },
  {
   "cell_type": "code",
   "execution_count": 56,
   "id": "ad7b58d8",
   "metadata": {},
   "outputs": [
    {
     "name": "stdout",
     "output_type": "stream",
     "text": [
      "None\n"
     ]
    }
   ],
   "source": [
    "print(re.search('(?<!foo)bar', 'foobar'))\n",
    "\n",
    "## ?<! Creates a negative look behind assertion\n",
    "\n",
    "## This won't work as foo matches the result"
   ]
  },
  {
   "cell_type": "code",
   "execution_count": 57,
   "id": "f8f06404",
   "metadata": {},
   "outputs": [
    {
     "data": {
      "text/plain": [
       "<re.Match object; span=(3, 6), match='bar'>"
      ]
     },
     "execution_count": 57,
     "metadata": {},
     "output_type": "execute_result"
    }
   ],
   "source": [
    "re.search('(?<!qux)bar', 'foobar')\n",
    "\n",
    "## this will work as result is different"
   ]
  },
  {
   "cell_type": "markdown",
   "id": "60bdce9d",
   "metadata": {},
   "source": [
    "## Miscellaneous Metacharacters"
   ]
  },
  {
   "cell_type": "code",
   "execution_count": 58,
   "id": "ce41fa0d",
   "metadata": {},
   "outputs": [
    {
     "data": {
      "text/plain": [
       "<re.Match object; span=(4, 11), match='bar baz'>"
      ]
     },
     "execution_count": 58,
     "metadata": {},
     "output_type": "execute_result"
    }
   ],
   "source": [
    "re.search('bar(?#This is a comment) *baz', 'foo bar baz qux')\n",
    "\n",
    "## The regex parser ignores anything contained in the sequence (?#...)\n",
    "\n"
   ]
  },
  {
   "cell_type": "markdown",
   "id": "d22bab57",
   "metadata": {},
   "source": [
    "### Vertical bar, or pipe (|)"
   ]
  },
  {
   "cell_type": "code",
   "execution_count": 59,
   "id": "034a5584",
   "metadata": {},
   "outputs": [
    {
     "data": {
      "text/plain": [
       "<re.Match object; span=(0, 3), match='bar'>"
      ]
     },
     "execution_count": 59,
     "metadata": {},
     "output_type": "execute_result"
    }
   ],
   "source": [
    "re.search('foo|bar|baz', 'bar')\n",
    "\n",
    "# first expression will match the second and then output"
   ]
  },
  {
   "cell_type": "code",
   "execution_count": 60,
   "id": "417521b4",
   "metadata": {},
   "outputs": [
    {
     "name": "stdout",
     "output_type": "stream",
     "text": [
      "None\n"
     ]
    }
   ],
   "source": [
    "print(re.search('foo|bar|baz', 'quux'))\n",
    "\n",
    "## if result doesn't exist, it will print \"none\""
   ]
  },
  {
   "cell_type": "code",
   "execution_count": 61,
   "id": "77943747",
   "metadata": {},
   "outputs": [
    {
     "data": {
      "text/plain": [
       "<re.Match object; span=(0, 3), match='foo'>"
      ]
     },
     "execution_count": 61,
     "metadata": {},
     "output_type": "execute_result"
    }
   ],
   "source": [
    "re.search('foo', 'foograult')\n",
    "\n",
    "## search works to find a expression within another"
   ]
  },
  {
   "cell_type": "code",
   "execution_count": 62,
   "id": "3952b11a",
   "metadata": {},
   "outputs": [
    {
     "data": {
      "text/plain": [
       "<re.Match object; span=(0, 3), match='foo'>"
      ]
     },
     "execution_count": 62,
     "metadata": {},
     "output_type": "execute_result"
    }
   ],
   "source": [
    "re.search('foo|grault', 'foograult')\n",
    "\n",
    "## 'foo|grault', would match on either 'foo' or 'grault'. The match returned is 'foo' because that appears first when scanning from left to right, \n",
    "\n",
    "## 'grault' would be a longer match but still prints foo."
   ]
  },
  {
   "cell_type": "code",
   "execution_count": 63,
   "id": "6c3ae99d",
   "metadata": {},
   "outputs": [
    {
     "data": {
      "text/plain": [
       "<re.Match object; span=(0, 3), match='foo'>"
      ]
     },
     "execution_count": 63,
     "metadata": {},
     "output_type": "execute_result"
    }
   ],
   "source": [
    "re.search('grault|foo', 'foograult')\n",
    "\n",
    "## also works in reverse but will still print foo"
   ]
  },
  {
   "cell_type": "code",
   "execution_count": 64,
   "id": "efe6088e",
   "metadata": {},
   "outputs": [
    {
     "data": {
      "text/plain": [
       "<re.Match object; span=(0, 9), match='foofoofoo'>"
      ]
     },
     "execution_count": 64,
     "metadata": {},
     "output_type": "execute_result"
    }
   ],
   "source": [
    "re.search('(foo|bar|baz)+', 'foofoofoo')\n",
    "\n",
    "## can also be used on a longer expression"
   ]
  },
  {
   "cell_type": "code",
   "execution_count": 68,
   "id": "825362de",
   "metadata": {},
   "outputs": [
    {
     "data": {
      "text/plain": [
       "<re.Match object; span=(0, 9), match='barbazfoo'>"
      ]
     },
     "execution_count": 68,
     "metadata": {},
     "output_type": "execute_result"
    }
   ],
   "source": [
    "re.search('(foo|bar|baz)+', 'barbazfoo')\n",
    "\n",
    "## can also be used in non concecutive order and print."
   ]
  },
  {
   "cell_type": "code",
   "execution_count": 69,
   "id": "cd83b21b",
   "metadata": {},
   "outputs": [
    {
     "data": {
      "text/plain": [
       "<re.Match object; span=(0, 3), match='456'>"
      ]
     },
     "execution_count": 69,
     "metadata": {},
     "output_type": "execute_result"
    }
   ],
   "source": [
    "re.search('([0-9]+|[a-f]+)', '456')\n",
    "\n",
    "## ([0-9]+|[a-f]+) means a sequence of one or more decimal digit characters or a sequence of one or more of the characters 'a-f':\n",
    "\n"
   ]
  },
  {
   "cell_type": "code",
   "execution_count": 70,
   "id": "76689977",
   "metadata": {},
   "outputs": [
    {
     "data": {
      "text/plain": [
       "<re.Match object; span=(0, 4), match='ffda'>"
      ]
     },
     "execution_count": 70,
     "metadata": {},
     "output_type": "execute_result"
    }
   ],
   "source": [
    "re.search('([0-9]+|[a-f]+)', 'ffda')\n",
    "\n",
    "## this also works with letters\n"
   ]
  },
  {
   "cell_type": "markdown",
   "id": "6d97cdf0",
   "metadata": {},
   "source": [
    "# Google for Education"
   ]
  },
  {
   "cell_type": "markdown",
   "id": "605bc7e2",
   "metadata": {},
   "source": [
    "Source Used:\n",
    "\n",
    "https://developers.google.com/edu/python/regular-expressions"
   ]
  },
  {
   "cell_type": "markdown",
   "id": "c2ae276a",
   "metadata": {},
   "source": [
    "### Basic Examples of regex:"
   ]
  },
  {
   "cell_type": "code",
   "execution_count": 17,
   "id": "fa392d82",
   "metadata": {},
   "outputs": [
    {
     "name": "stdout",
     "output_type": "stream",
     "text": [
      "found word:cat\n"
     ]
    }
   ],
   "source": [
    "str = 'an example word:cat!!'\n",
    "match = re.search(r'word:\\w\\w\\w', str)\n",
    "# If-statement after search() tests if it succeeded\n",
    "if match:\n",
    "  print('found', match.group()) ## 'found word:cat'\n",
    "else:\n",
    "  print('did not find')"
   ]
  },
  {
   "cell_type": "code",
   "execution_count": 24,
   "id": "d702c258",
   "metadata": {},
   "outputs": [
    {
     "name": "stdout",
     "output_type": "stream",
     "text": [
      "did not find\n"
     ]
    }
   ],
   "source": [
    "str = 'an example word:!!' ## changing to a blank example will print \"did not find\"\n",
    "match = re.search(r'word:\\w\\w\\w', str)\n",
    "# If-statement after search() tests if it succeeded\n",
    "if match:\n",
    "  print('found', match.group()) ## 'found word:cat'\n",
    "else:\n",
    "  print('did not find')"
   ]
  },
  {
   "cell_type": "code",
   "execution_count": 6,
   "id": "d14748b7",
   "metadata": {},
   "outputs": [
    {
     "data": {
      "text/plain": [
       "<re.Match object; span=(0, 4), match='piii'>"
      ]
     },
     "execution_count": 6,
     "metadata": {},
     "output_type": "execute_result"
    }
   ],
   "source": [
    "## i+ = one or more i's, as many as possible.\n",
    "match = re.search(r'pi+', 'piiig') # found, match.group() == \"piii\"\n",
    "\n",
    "match"
   ]
  },
  {
   "cell_type": "code",
   "execution_count": 7,
   "id": "afeb9d7f",
   "metadata": {},
   "outputs": [
    {
     "data": {
      "text/plain": [
       "<re.Match object; span=(1, 3), match='ii'>"
      ]
     },
     "execution_count": 7,
     "metadata": {},
     "output_type": "execute_result"
    }
   ],
   "source": [
    "## Finds the first/leftmost solution, and within it drives the +\n",
    "## as far as possible (aka 'leftmost and largest').\n",
    "## In this example, note that it does not get to the second set of i's.\n",
    "match = re.search(r'i+', 'piigiiii') # found, match.group() == \"ii\"\n",
    "\n",
    "match"
   ]
  },
  {
   "cell_type": "code",
   "execution_count": 13,
   "id": "8033bdfa",
   "metadata": {},
   "outputs": [
    {
     "data": {
      "text/plain": [
       "<re.Match object; span=(2, 9), match='1 2   3'>"
      ]
     },
     "execution_count": 13,
     "metadata": {},
     "output_type": "execute_result"
    }
   ],
   "source": [
    "match = re.search(r'\\d\\s*\\d\\s*\\d', 'xx1 2   3xx') # found, match.group() == \"1 2   3\"\n",
    "\n",
    "match\n",
    "\n",
    "## digits are separated by white spaces, match will match the numbers and give the full span of where \"1\" starts"
   ]
  },
  {
   "cell_type": "code",
   "execution_count": 14,
   "id": "ee184443",
   "metadata": {},
   "outputs": [
    {
     "data": {
      "text/plain": [
       "<re.Match object; span=(2, 7), match='12  3'>"
      ]
     },
     "execution_count": 14,
     "metadata": {},
     "output_type": "execute_result"
    }
   ],
   "source": [
    "match = re.search(r'\\d\\s*\\d\\s*\\d', 'xx12  3xx') # found, match.group() == \"12  3\"\n",
    "\n",
    "match"
   ]
  },
  {
   "cell_type": "code",
   "execution_count": 16,
   "id": "2e76ff2a",
   "metadata": {},
   "outputs": [
    {
     "data": {
      "text/plain": [
       "<re.Match object; span=(2, 5), match='123'>"
      ]
     },
     "execution_count": 16,
     "metadata": {},
     "output_type": "execute_result"
    }
   ],
   "source": [
    "match = re.search(r'\\d\\s*\\d\\s*\\d', 'xx123xx') # found, match.group() == \"123\"\n",
    "\n",
    "match"
   ]
  },
  {
   "cell_type": "code",
   "execution_count": 12,
   "id": "a588cbcf",
   "metadata": {},
   "outputs": [
    {
     "name": "stdout",
     "output_type": "stream",
     "text": [
      "None\n"
     ]
    }
   ],
   "source": [
    "## ^ = matches the start of string, so this fails:\n",
    "match = re.search(r'^b\\w+', 'foobar') # not found, match == None\n",
    "\n",
    "print (match)"
   ]
  },
  {
   "cell_type": "code",
   "execution_count": 11,
   "id": "705bdaeb",
   "metadata": {},
   "outputs": [
    {
     "data": {
      "text/plain": [
       "<re.Match object; span=(3, 6), match='bar'>"
      ]
     },
     "execution_count": 11,
     "metadata": {},
     "output_type": "execute_result"
    }
   ],
   "source": [
    "## but without the ^ it succeeds:\n",
    "match = re.search(r'b\\w+', 'foobar') # found, match.group() == \"bar\"\n",
    "\n",
    "match"
   ]
  },
  {
   "cell_type": "markdown",
   "id": "90ed5d66",
   "metadata": {},
   "source": [
    "## Emails Example"
   ]
  },
  {
   "cell_type": "code",
   "execution_count": 11,
   "id": "e9c45d4a",
   "metadata": {},
   "outputs": [
    {
     "name": "stdout",
     "output_type": "stream",
     "text": [
      "b@google\n"
     ]
    }
   ],
   "source": [
    "str = 'purple alice-b@google.com monkey dishwasher'\n",
    "## Shows a random string\n",
    "match = re.search(r'\\w+@\\w+', str)\n",
    "## search looks for any characters before and after the @ symbol, or after the special character\n",
    "if match:\n",
    "    print(match.group())  ## 'b@google'"
   ]
  },
  {
   "cell_type": "code",
   "execution_count": 12,
   "id": "891445bd",
   "metadata": {},
   "outputs": [
    {
     "name": "stdout",
     "output_type": "stream",
     "text": [
      "basas@google\n"
     ]
    }
   ],
   "source": [
    "str2 = 'purple alice-basas@google.com monkey dishwasher'\n",
    "## Shows a random string\n",
    "match = re.search(r'\\w+@\\w+', str2)\n",
    "## search looks for any characters before and after the @ symbol\n",
    "if match:\n",
    "    print(match.group())  ## 'b@google'\n",
    "    \n",
    "## prints all after special character    "
   ]
  },
  {
   "cell_type": "markdown",
   "id": "6bbc34a7",
   "metadata": {},
   "source": [
    "### Square Brackets\n",
    "\n",
    "Square brackets can be used to indicate a set of chars, so [abc] matches 'a' or 'b' or 'c'."
   ]
  },
  {
   "cell_type": "code",
   "execution_count": 13,
   "id": "c952d8c1",
   "metadata": {},
   "outputs": [
    {
     "name": "stdout",
     "output_type": "stream",
     "text": [
      "alice-b@google.com\n"
     ]
    }
   ],
   "source": [
    "match = re.search(r'[\\w.-]+@[\\w.-]+', str)\n",
    "if match:\n",
    "    print(match.group())  ## 'alice-b@google.com'\n",
    "    \n",
    "## takes str from above and takes all words before and after in the string"
   ]
  },
  {
   "cell_type": "markdown",
   "id": "f76511ed",
   "metadata": {},
   "source": [
    "### Group Extraction\n",
    "\n",
    "The \"group\" feature of a regular expression allows you to pick out parts of the matching text."
   ]
  },
  {
   "cell_type": "code",
   "execution_count": 17,
   "id": "4cdaab6c",
   "metadata": {},
   "outputs": [
    {
     "name": "stdout",
     "output_type": "stream",
     "text": [
      "alice-b@google.com\n",
      "alice-b\n",
      "google.com\n"
     ]
    }
   ],
   "source": [
    "str = 'purple alice-b@google.com monkey dishwasher'\n",
    "match = re.search(r'([\\w.-]+)@([\\w.-]+)', str)\n",
    "if match:\n",
    "    print(match.group())   ## 'alice-b@google.com' (the whole match)\n",
    "    ## This will print the full email as it matches the words before and after the @ symbol\n",
    "    print(match.group(1))  ## 'alice-b' (the username, group 1)\n",
    "    ## match group will split and just print the username\n",
    "    print(match.group(2))  ## 'google.com' (the host, group 2)\n",
    "    ## match 2 will print after the @ "
   ]
  },
  {
   "cell_type": "markdown",
   "id": "901f08c0",
   "metadata": {},
   "source": [
    "### Findall\n",
    "\n",
    "findall() is probably the single most powerful function in the re module. Above we used re.search() to find the first match for a pattern. findall() finds *all* the matches and returns them as a list of strings, with each string representing one match."
   ]
  },
  {
   "cell_type": "code",
   "execution_count": 19,
   "id": "13a6f85c",
   "metadata": {},
   "outputs": [
    {
     "name": "stdout",
     "output_type": "stream",
     "text": [
      "alice@google.com\n",
      "bob@abc.com\n",
      "bob323@blah.com\n"
     ]
    }
   ],
   "source": [
    "## Suppose we have a text with many email addresses\n",
    "str = 'purple alice@google.com, blah monkey bob@abc.com blah dishwasher bob323@blah.com'\n",
    "\n",
    "## this will also so work with numbers and will print all matched included in a string\n",
    "\n",
    "## Here re.findall() returns a list of all the found email strings\n",
    "emails = re.findall(r'[\\w\\.-]+@[\\w\\.-]+', str) ## ['alice@google.com', 'bob@abc.com']\n",
    "for email in emails:\n",
    "    # do something with each found email string\n",
    "    print(email)"
   ]
  },
  {
   "cell_type": "markdown",
   "id": "2a85c271",
   "metadata": {},
   "source": [
    "### findall with files\n",
    "\n",
    "For files, you may be in the habit of writing a loop to iterate over the lines of the file, and you could then call findall() on each line. Instead, let findall() do the iteration for you -- much better! Just feed the whole file text into findall() and let it return a list of all the matches in a single step (recall that f.read() returns the whole text of a file in a single string)\n",
    "\n",
    "I created a file called \"test.txt\" which I have included in the data folder.\n",
    "\n",
    "I used https://www.loremipzum.com/en/text-generator to just generate a random text file."
   ]
  },
  {
   "cell_type": "code",
   "execution_count": 37,
   "id": "f4fde476",
   "metadata": {},
   "outputs": [
    {
     "name": "stdout",
     "output_type": "stream",
     "text": [
      "['Lorem ipsum']\n"
     ]
    }
   ],
   "source": [
    "# Open file\n",
    "f = open(r'C:\\Users\\Kenne\\OneDrive\\Desktop\\Programming\\funddata-assessment\\data\\test.txt')\n",
    "# Feed the file text into findall(); it returns a list of all the found strings\n",
    "strings = re.findall(r'Lorem ipsum', f.read())\n",
    "print (strings)\n",
    "\n",
    "## This is useful as you go through a lot of data to seek out a result"
   ]
  },
  {
   "cell_type": "markdown",
   "id": "6da220fa",
   "metadata": {},
   "source": [
    "### findall and Groups\n",
    "\n",
    "The parenthesis ( ) group mechanism can be combined with findall(). If the pattern includes 2 or more parenthesis groups, then instead of returning a list of strings, findall() returns a list of *tuples*. Each tuple represents one match of the pattern, and inside the tuple is the group(1), group(2) .. data. So if 2 parenthesis groups are added to the email pattern, then findall() returns a list of tuples, each length 2 containing the username and host, e.g. ('alice', 'google.com')."
   ]
  },
  {
   "cell_type": "code",
   "execution_count": 43,
   "id": "ceeded08",
   "metadata": {},
   "outputs": [
    {
     "name": "stdout",
     "output_type": "stream",
     "text": [
      "[('alice', 'google.com'), ('bob', 'abc.com')]\n"
     ]
    }
   ],
   "source": [
    "str = 'purple alice@google.com, blah monkey bob@abc.com blah dishwasher'\n",
    "tuples = re.findall(r'([\\w\\.-]+)@([\\w\\.-]+)', str)\n",
    "print(tuples)  ## [('alice', 'google.com'), ('bob', 'abc.com')]\n",
    "## separates all of the values before and after the @ sign"
   ]
  },
  {
   "cell_type": "code",
   "execution_count": 46,
   "id": "04f375df",
   "metadata": {},
   "outputs": [
    {
     "name": "stdout",
     "output_type": "stream",
     "text": [
      "alice\n",
      "split\n",
      "google.com\n",
      "bob\n",
      "split\n",
      "abc.com\n"
     ]
    }
   ],
   "source": [
    "for tuple in tuples:\n",
    "    print(tuple[0])  ## username\n",
    "    print (\"split\")\n",
    "    ## I added a split to just show the print cycles through the info and splits it\n",
    "    print(tuple[1])  ## host"
   ]
  },
  {
   "cell_type": "markdown",
   "id": "fd16bc17",
   "metadata": {},
   "source": [
    "### Substitution"
   ]
  },
  {
   "cell_type": "code",
   "execution_count": 6,
   "id": "799b942f",
   "metadata": {},
   "outputs": [
    {
     "name": "stdout",
     "output_type": "stream",
     "text": [
      "purple alice@yo-yo-dyne.com, blah monkey bob@yo-yo-dyne.com blah dishwasher\n"
     ]
    }
   ],
   "source": [
    "str = 'purple alice@google.com, blah monkey bob@abc.com blah dishwasher'\n",
    "## \\1 is group(1), \\2 group(2) in the replacement\n",
    "print(re.sub(r'([\\w\\.-]+)@([\\w\\.-]+)', r'\\1@yo-yo-dyne.com', str))\n",
    "\n",
    "## purple alice@yo-yo-dyne.com, blah monkey bob@yo-yo-dyne.com blah dishwasher\n",
    "    \n",
    "## subs the email address with the email address in string.    "
   ]
  },
  {
   "cell_type": "markdown",
   "id": "7b2e45be",
   "metadata": {},
   "source": [
    "## Exercise\n",
    "\n",
    "Write a Python function to remove all non-alphanumeric characters from a string?"
   ]
  },
  {
   "cell_type": "code",
   "execution_count": 37,
   "id": "69a4e71f",
   "metadata": {},
   "outputs": [
    {
     "data": {
      "text/plain": [
       "'Test434123'"
      ]
     },
     "execution_count": 37,
     "metadata": {},
     "output_type": "execute_result"
    }
   ],
   "source": [
    "string = (\"Test!!??''''434!  123\")\n",
    "\n",
    "## I tested the string by just adding a lot of random characters\n",
    "\n",
    "re.sub(r'\\W+', '', string)\n",
    "\n",
    "## \\W matches any character which is not a word character."
   ]
  },
  {
   "cell_type": "code",
   "execution_count": 39,
   "id": "230d45ce",
   "metadata": {},
   "outputs": [
    {
     "data": {
      "text/plain": [
       "'Test434123'"
      ]
     },
     "execution_count": 39,
     "metadata": {},
     "output_type": "execute_result"
    }
   ],
   "source": [
    "string = (\"Test!!??''''434___!  123\")\n",
    "\n",
    "## I tested the string by just adding a lot of random characters\n",
    "\n",
    "re.sub(r'[^a-zA-Z0-9]', '', string)\n",
    "\n",
    "## It could also be done like this [^a-zA-Z0-9]  which excludes all numbers and letters along with underscores."
   ]
  },
  {
   "cell_type": "code",
   "execution_count": 49,
   "id": "5eb39478",
   "metadata": {},
   "outputs": [
    {
     "name": "stdout",
     "output_type": "stream",
     "text": [
      "True123 is alphanumeric True\n"
     ]
    }
   ],
   "source": [
    "string = \"True123\"\n",
    "\n",
    "print(string, \"is alphanumeric\", string.isalnum())  \n",
    "\n",
    "## isalnum is a built in function to python that display true/false if alphanumeric\n",
    "\n",
    "## Adapted the code from geekforgeeks - https://www.geeksforgeeks.org/python-string-isalnum-method/"
   ]
  },
  {
   "cell_type": "markdown",
   "id": "539e90d1",
   "metadata": {},
   "source": [
    "## Second Part of Real Python's Regexes"
   ]
  },
  {
   "cell_type": "markdown",
   "id": "0f3ae2cd",
   "metadata": {},
   "source": [
    "Source Used:\n",
    "\n",
    "https://realpython.com/regex-python-part-2/"
   ]
  },
  {
   "cell_type": "markdown",
   "id": "fad032ee",
   "metadata": {},
   "source": [
    "## Searching Functions"
   ]
  },
  {
   "cell_type": "markdown",
   "id": "5b256e50",
   "metadata": {},
   "source": [
    "### Re.Search Function"
   ]
  },
  {
   "cell_type": "code",
   "execution_count": 5,
   "id": "6af78b1f",
   "metadata": {},
   "outputs": [
    {
     "data": {
      "text/plain": [
       "<re.Match object; span=(3, 6), match='123'>"
      ]
     },
     "execution_count": 5,
     "metadata": {},
     "output_type": "execute_result"
    }
   ],
   "source": [
    "re.search(r'(\\d+)', 'foo123bar')\n",
    "\n",
    "## \\d+ match one or more digits. It shows 123 and a span of 3 and 6 due to location of numbers in foo123bar"
   ]
  },
  {
   "cell_type": "code",
   "execution_count": 8,
   "id": "d3d1c72b",
   "metadata": {},
   "outputs": [
    {
     "data": {
      "text/plain": [
       "<re.Match object; span=(3, 6), match='FOO'>"
      ]
     },
     "execution_count": 8,
     "metadata": {},
     "output_type": "execute_result"
    }
   ],
   "source": [
    "re.search(r'[a-z]+', '123FOO456', flags=re.IGNORECASE)\n",
    "\n",
    "## matches any letters between a-z and shows the span. re.IGNORECASE will allow any case"
   ]
  },
  {
   "cell_type": "code",
   "execution_count": 11,
   "id": "9ab24016",
   "metadata": {},
   "outputs": [
    {
     "name": "stdout",
     "output_type": "stream",
     "text": [
      "None\n"
     ]
    }
   ],
   "source": [
    "print(re.search(r'[a-z]+', '123FOO456'))\n",
    " \n",
    "## matches any letters between a-z and shows the span. \n",
    "\n",
    "## re.IGNORECASE if removed won't work"
   ]
  },
  {
   "cell_type": "code",
   "execution_count": 13,
   "id": "d19a2a3f",
   "metadata": {},
   "outputs": [
    {
     "name": "stdout",
     "output_type": "stream",
     "text": [
      "<re.Match object; span=(3, 6), match='FOO'>\n"
     ]
    }
   ],
   "source": [
    "print(re.search(r'[a-zA-Z]+', '123FOO456', flags=re.IGNORECASE))\n",
    " \n",
    "## matches any letters between a-z and shows the span. \n",
    "\n",
    "## another way around would be to use both the lower and higher case characters"
   ]
  },
  {
   "cell_type": "code",
   "execution_count": 16,
   "id": "50a1f4e6",
   "metadata": {},
   "outputs": [
    {
     "name": "stdout",
     "output_type": "stream",
     "text": [
      "<re.Match object; span=(6, 7), match='2'>\n"
     ]
    }
   ],
   "source": [
    "print(re.search(r'\\d+', 'foo.bar'))\n",
    "\n",
    "## this will look for a digit but won't print as no digit in foo.bar"
   ]
  },
  {
   "cell_type": "code",
   "execution_count": 17,
   "id": "484c7d85",
   "metadata": {},
   "outputs": [
    {
     "data": {
      "text/plain": [
       "<re.Match object; span=(0, 3), match='123'>"
      ]
     },
     "execution_count": 17,
     "metadata": {},
     "output_type": "execute_result"
    }
   ],
   "source": [
    "re.search(r'\\d+', '123foobar')\n",
    "\n",
    "## search will match as start of string and give span of 0-3 and the match of 123"
   ]
  },
  {
   "cell_type": "code",
   "execution_count": 18,
   "id": "34f3f373",
   "metadata": {},
   "outputs": [
    {
     "data": {
      "text/plain": [
       "<re.Match object; span=(3, 6), match='123'>"
      ]
     },
     "execution_count": 18,
     "metadata": {},
     "output_type": "execute_result"
    }
   ],
   "source": [
    "re.search(r'\\d+', 'foo123bar')\n",
    "\n",
    "## works similar to above and matches as 123 in the string"
   ]
  },
  {
   "cell_type": "code",
   "execution_count": 19,
   "id": "fcb4c280",
   "metadata": {},
   "outputs": [
    {
     "data": {
      "text/plain": [
       "<re.Match object; span=(0, 3), match='123'>"
      ]
     },
     "execution_count": 19,
     "metadata": {},
     "output_type": "execute_result"
    }
   ],
   "source": [
    "re.match(r'\\d+', '123foobar')\n",
    "\n",
    "## does same as above as 123 is at start of the string"
   ]
  },
  {
   "cell_type": "code",
   "execution_count": 22,
   "id": "554a6a2c",
   "metadata": {},
   "outputs": [
    {
     "name": "stdout",
     "output_type": "stream",
     "text": [
      "None\n"
     ]
    }
   ],
   "source": [
    "print(re.match(r'\\d+', 'foo123bar'))\n",
    "\n",
    "## doesn't work as 123 is not at start of string."
   ]
  },
  {
   "cell_type": "code",
   "execution_count": 23,
   "id": "41871fea",
   "metadata": {},
   "outputs": [
    {
     "data": {
      "text/plain": [
       "<re.Match object; span=(0, 3), match='foo'>"
      ]
     },
     "execution_count": 23,
     "metadata": {},
     "output_type": "execute_result"
    }
   ],
   "source": [
    "s = 'foo\\nbar\\nbaz'\n",
    "\n",
    "re.search('^foo', s)\n",
    "\n",
    "## searchs for foo, gives span of location and shows the match"
   ]
  },
  {
   "cell_type": "code",
   "execution_count": 24,
   "id": "7f312c49",
   "metadata": {},
   "outputs": [
    {
     "data": {
      "text/plain": [
       "<re.Match object; span=(4, 7), match='bar'>"
      ]
     },
     "execution_count": 24,
     "metadata": {},
     "output_type": "execute_result"
    }
   ],
   "source": [
    "re.search('^bar', s, re.MULTILINE)\n",
    "\n",
    "## searches s string from above and shows the location of bar in the string\n",
    "\n",
    "## multiline allows for a match at beginning and the end of the string"
   ]
  },
  {
   "cell_type": "code",
   "execution_count": 26,
   "id": "0e08fb36",
   "metadata": {},
   "outputs": [
    {
     "name": "stdout",
     "output_type": "stream",
     "text": [
      "None\n"
     ]
    }
   ],
   "source": [
    "print(re.search('^bar', s))\n",
    "\n",
    "## searches s string from above and shows the location of bar in the string\n",
    "\n",
    "## multiline allows for a match at beginning and the end of the string and won't print in search regex if not included."
   ]
  },
  {
   "cell_type": "markdown",
   "id": "dae48bfb",
   "metadata": {},
   "source": [
    "### Full-Match Function"
   ]
  },
  {
   "cell_type": "code",
   "execution_count": 27,
   "id": "ccf76112",
   "metadata": {},
   "outputs": [
    {
     "name": "stdout",
     "output_type": "stream",
     "text": [
      "None\n"
     ]
    }
   ],
   "source": [
    "print(re.fullmatch(r'\\d+', '123foo'))\n",
    "\n",
    "## re.fullmatch() returns a match only if <regex> matches <string> in its entirety\n",
    "\n",
    "## This won't work due to letters in the string"
   ]
  },
  {
   "cell_type": "code",
   "execution_count": 28,
   "id": "d532430a",
   "metadata": {},
   "outputs": [
    {
     "name": "stdout",
     "output_type": "stream",
     "text": [
      "None\n"
     ]
    }
   ],
   "source": [
    "print(re.fullmatch(r'\\d+', 'foo123'))\n",
    "\n",
    "## same as above, location doesn't matter of the numbers"
   ]
  },
  {
   "cell_type": "code",
   "execution_count": 30,
   "id": "1a9a9e20",
   "metadata": {},
   "outputs": [
    {
     "name": "stdout",
     "output_type": "stream",
     "text": [
      "None\n"
     ]
    }
   ],
   "source": [
    "print(re.fullmatch(r'\\d+', 'foo123bar'))\n",
    "\n",
    "## this won't work as above also"
   ]
  },
  {
   "cell_type": "code",
   "execution_count": 31,
   "id": "85c2cee9",
   "metadata": {},
   "outputs": [
    {
     "data": {
      "text/plain": [
       "<re.Match object; span=(0, 3), match='123'>"
      ]
     },
     "execution_count": 31,
     "metadata": {},
     "output_type": "execute_result"
    }
   ],
   "source": [
    "re.fullmatch(r'\\d+', '123')\n",
    "\n",
    "## This will work as only digits are being output"
   ]
  },
  {
   "cell_type": "code",
   "execution_count": 32,
   "id": "7d71050a",
   "metadata": {},
   "outputs": [
    {
     "data": {
      "text/plain": [
       "<re.Match object; span=(0, 3), match='123'>"
      ]
     },
     "execution_count": 32,
     "metadata": {},
     "output_type": "execute_result"
    }
   ],
   "source": [
    "re.search(r'^\\d+$', '123')"
   ]
  },
  {
   "cell_type": "code",
   "execution_count": 35,
   "id": "180ea945",
   "metadata": {},
   "outputs": [
    {
     "data": {
      "text/plain": [
       "<re.Match object; span=(0, 3), match='123'>"
      ]
     },
     "execution_count": 35,
     "metadata": {},
     "output_type": "execute_result"
    }
   ],
   "source": [
    "re.search(r'^\\d+', '123foobar')\n",
    "\n",
    "## ^ runs as 123 is at the start of the string"
   ]
  },
  {
   "cell_type": "code",
   "execution_count": 37,
   "id": "ca51a793",
   "metadata": {},
   "outputs": [
    {
     "name": "stdout",
     "output_type": "stream",
     "text": [
      "None\n"
     ]
    }
   ],
   "source": [
    "print(re.search(r'^\\d+', 'foo123bar'))\n",
    "\n",
    "## ^ won't run as 123 is at the start of the string"
   ]
  },
  {
   "cell_type": "code",
   "execution_count": 40,
   "id": "fe64a737",
   "metadata": {},
   "outputs": [
    {
     "data": {
      "text/plain": [
       "<re.Match object; span=(0, 3), match='123'>"
      ]
     },
     "execution_count": 40,
     "metadata": {},
     "output_type": "execute_result"
    }
   ],
   "source": [
    "re.search(r'^\\d+$', '123')\n",
    "\n",
    "## d+ regex is explicitly anchored at the start and end of the search string which allows it to run\n",
    "\n",
    "## ^ and $ are anchors as they match start and end"
   ]
  },
  {
   "cell_type": "markdown",
   "id": "32d8372d",
   "metadata": {},
   "source": [
    "### Re.Findall "
   ]
  },
  {
   "cell_type": "code",
   "execution_count": 43,
   "id": "ed67d3d5",
   "metadata": {},
   "outputs": [
    {
     "data": {
      "text/plain": [
       "['foo', 'bar', 'baz']"
      ]
     },
     "execution_count": 43,
     "metadata": {},
     "output_type": "execute_result"
    }
   ],
   "source": [
    "re.findall(r'\\w+', '...foo,,,,bar:%$baz//|')\n",
    "\n",
    "## searchs a string and displays all words combined"
   ]
  },
  {
   "cell_type": "code",
   "execution_count": 44,
   "id": "e72f84fb",
   "metadata": {},
   "outputs": [
    {
     "data": {
      "text/plain": [
       "['f', 'o', 'o', 'b', 'a', 'r', 'b', 'a', 'z']"
      ]
     },
     "execution_count": 44,
     "metadata": {},
     "output_type": "execute_result"
    }
   ],
   "source": [
    "re.findall(r'\\w', '...foo,,,,bar:%$baz//|')\n",
    "\n",
    "## if you removed the + it would separate the letters"
   ]
  },
  {
   "cell_type": "code",
   "execution_count": 48,
   "id": "0f606f1b",
   "metadata": {},
   "outputs": [
    {
     "data": {
      "text/plain": [
       "['foo', 'bar', 'baz']"
      ]
     },
     "execution_count": 48,
     "metadata": {},
     "output_type": "execute_result"
    }
   ],
   "source": [
    "re.findall(r'#(\\w+)#', '#foo#.#bar#.#baz#')\n",
    "\n",
    "## It will return all words inside the ## but without the ## due to w+ only displaying words"
   ]
  },
  {
   "cell_type": "code",
   "execution_count": 49,
   "id": "768a5d74",
   "metadata": {},
   "outputs": [
    {
     "data": {
      "text/plain": [
       "<re.Match object; span=(0, 3), match='123'>"
      ]
     },
     "execution_count": 49,
     "metadata": {},
     "output_type": "execute_result"
    }
   ],
   "source": [
    "re.match(r'\\d+', '123foo456bar789')\n",
    "\n",
    "## prints as 123 at start of string"
   ]
  },
  {
   "cell_type": "code",
   "execution_count": 51,
   "id": "2f9aacdf",
   "metadata": {},
   "outputs": [
    {
     "name": "stdout",
     "output_type": "stream",
     "text": [
      "None\n"
     ]
    }
   ],
   "source": [
    "print(re.fullmatch(r'\\d+', '123foo456bar789'))\n",
    "\n",
    "## won't print as not a full match"
   ]
  },
  {
   "cell_type": "code",
   "execution_count": 52,
   "id": "360941ba",
   "metadata": {},
   "outputs": [
    {
     "data": {
      "text/plain": [
       "['123', '456', '789']"
      ]
     },
     "execution_count": 52,
     "metadata": {},
     "output_type": "execute_result"
    }
   ],
   "source": [
    "re.findall(r'\\d+', '123foo456bar789')\n",
    "\n",
    "## whereas this will print all numbers and remove the words"
   ]
  },
  {
   "cell_type": "code",
   "execution_count": 54,
   "id": "ebe4c706",
   "metadata": {},
   "outputs": [
    {
     "data": {
      "text/plain": [
       "[('foo', 'bar'), ('baz', 'qux')]"
      ]
     },
     "execution_count": 54,
     "metadata": {},
     "output_type": "execute_result"
    }
   ],
   "source": [
    "re.findall(r'(\\w+),(\\w+)', 'foo,bar,baz,qux,quux,corge')\n",
    "\n",
    "## it can also be used to separate tuples into the captured group way"
   ]
  },
  {
   "cell_type": "code",
   "execution_count": 55,
   "id": "f11d2468",
   "metadata": {},
   "outputs": [
    {
     "data": {
      "text/plain": [
       "[('foo', 'bar', 'baz'), ('qux', 'quux', 'corge')]"
      ]
     },
     "execution_count": 55,
     "metadata": {},
     "output_type": "execute_result"
    }
   ],
   "source": [
    "re.findall(r'(\\w+),(\\w+),(\\w+)', 'foo,bar,baz,qux,quux,corge')\n",
    "\n",
    "## This separates into three  two-tuples"
   ]
  },
  {
   "cell_type": "markdown",
   "id": "4e32336c",
   "metadata": {},
   "source": [
    "### Re Finditer"
   ]
  },
  {
   "cell_type": "code",
   "execution_count": 57,
   "id": "f86f62fb",
   "metadata": {},
   "outputs": [
    {
     "data": {
      "text/plain": [
       "<re.Match object; span=(3, 6), match='foo'>"
      ]
     },
     "execution_count": 57,
     "metadata": {},
     "output_type": "execute_result"
    }
   ],
   "source": [
    "it = re.finditer(r'\\w+', '...foo,,,,bar:%$baz//|')\n",
    "next(it)\n",
    "\n",
    "## This will find the first iteration of a word"
   ]
  },
  {
   "cell_type": "code",
   "execution_count": 58,
   "id": "3574bab6",
   "metadata": {},
   "outputs": [
    {
     "data": {
      "text/plain": [
       "<re.Match object; span=(10, 13), match='bar'>"
      ]
     },
     "execution_count": 58,
     "metadata": {},
     "output_type": "execute_result"
    }
   ],
   "source": [
    "next(it)\n",
    "\n",
    "## then can use next(it) to find next iteration"
   ]
  },
  {
   "cell_type": "code",
   "execution_count": 59,
   "id": "9561fc7a",
   "metadata": {},
   "outputs": [
    {
     "data": {
      "text/plain": [
       "<re.Match object; span=(16, 19), match='baz'>"
      ]
     },
     "execution_count": 59,
     "metadata": {},
     "output_type": "execute_result"
    }
   ],
   "source": [
    "next(it)\n",
    "\n",
    "## then can use next(it) to find next iteration"
   ]
  },
  {
   "cell_type": "code",
   "execution_count": 62,
   "id": "c2dbe7fc",
   "metadata": {},
   "outputs": [
    {
     "name": "stdout",
     "output_type": "stream",
     "text": [
      "<re.Match object; span=(3, 6), match='foo'>\n",
      "<re.Match object; span=(10, 13), match='bar'>\n",
      "<re.Match object; span=(16, 19), match='baz'>\n"
     ]
    }
   ],
   "source": [
    "for i in re.finditer(r'\\w+', '...foo,,,,bar:%$baz//|'):\n",
    "    print(i)\n",
    "    ## this will print all iterations and separate similar to findall, but different in that findall returns a list"
   ]
  },
  {
   "cell_type": "markdown",
   "id": "4695506c",
   "metadata": {},
   "source": [
    "### Re Sub"
   ]
  },
  {
   "cell_type": "code",
   "execution_count": 63,
   "id": "5a11ca7e",
   "metadata": {},
   "outputs": [
    {
     "data": {
      "text/plain": [
       "'foo.#.bar.#.baz'"
      ]
     },
     "execution_count": 63,
     "metadata": {},
     "output_type": "execute_result"
    }
   ],
   "source": [
    "s = 'foo.123.bar.789.baz'\n",
    "\n",
    "re.sub(r'\\d+', '#', s)\n",
    "\n",
    "## This will swap the digits with the # in the string"
   ]
  },
  {
   "cell_type": "code",
   "execution_count": 64,
   "id": "7ff8ec87",
   "metadata": {},
   "outputs": [
    {
     "data": {
      "text/plain": [
       "'(*).123.(*).789.(*)'"
      ]
     },
     "execution_count": 64,
     "metadata": {},
     "output_type": "execute_result"
    }
   ],
   "source": [
    "re.sub('[a-z]+', '(*)', s)\n",
    "\n",
    "## this will swap any undercase letter full words with a *"
   ]
  },
  {
   "cell_type": "code",
   "execution_count": 65,
   "id": "7f779c8a",
   "metadata": {},
   "outputs": [
    {
     "data": {
      "text/plain": [
       "'F(*).123.(*).789.(*)'"
      ]
     },
     "execution_count": 65,
     "metadata": {},
     "output_type": "execute_result"
    }
   ],
   "source": [
    "s2 = 'Foo.123.bar.789.baz'\n",
    "\n",
    "re.sub('[a-z]+', '(*)', s2)\n",
    "\n",
    "## all upper case characters will stay and not be replaced"
   ]
  },
  {
   "cell_type": "code",
   "execution_count": 66,
   "id": "bc61ec59",
   "metadata": {},
   "outputs": [
    {
     "data": {
      "text/plain": [
       "'F(*)(*).123.(*)(*)(*).789.(*)(*)(*)'"
      ]
     },
     "execution_count": 66,
     "metadata": {},
     "output_type": "execute_result"
    }
   ],
   "source": [
    "s3 = 'Foo.123.bar.789.baz'\n",
    "\n",
    "re.sub('[a-z]', '(*)', s3)\n",
    "\n",
    "## all upper case characters will stay and not be replaced and removing the plus will separate the letters."
   ]
  },
  {
   "cell_type": "code",
   "execution_count": 67,
   "id": "bf2ade1a",
   "metadata": {},
   "outputs": [
    {
     "data": {
      "text/plain": [
       "'qux,bar,baz,foo'"
      ]
     },
     "execution_count": 67,
     "metadata": {},
     "output_type": "execute_result"
    }
   ],
   "source": [
    "re.sub(r'(\\w+),bar,baz,(\\w+)', r'\\2,bar,baz,\\1', 'foo,bar,baz,qux')\n",
    "\n",
    "## 'foo' replaces \\1 and 'qux' replaces \\2, they will swap places and then reprint the string.\n",
    "\n",
    "## (\\w+) grabs whatever the match was and asking the expression to remember"
   ]
  },
  {
   "cell_type": "code",
   "execution_count": 72,
   "id": "3c813d16",
   "metadata": {},
   "outputs": [
    {
     "data": {
      "text/plain": [
       "'123foo'"
      ]
     },
     "execution_count": 72,
     "metadata": {},
     "output_type": "execute_result"
    }
   ],
   "source": [
    "re.sub(r'([a-z]+)([0-9]+)' ,r'\\2\\1' ,'foo123')\n",
    "\n",
    "## this will swap the numbers with the letters, based on the code"
   ]
  },
  {
   "cell_type": "code",
   "execution_count": 73,
   "id": "4fb65920",
   "metadata": {},
   "outputs": [
    {
     "data": {
      "text/plain": [
       "'123foo456bar'"
      ]
     },
     "execution_count": 73,
     "metadata": {},
     "output_type": "execute_result"
    }
   ],
   "source": [
    "re.sub(r'([a-z]+)([0-9]+)' ,r'\\2\\1' ,'foo123bar456')\n",
    "\n",
    "## this will swap the numbers with the letters, based on the code"
   ]
  },
  {
   "cell_type": "code",
   "execution_count": 74,
   "id": "f309d3d7",
   "metadata": {},
   "outputs": [
    {
     "data": {
      "text/plain": [
       "'foo,baz,bar,qux'"
      ]
     },
     "execution_count": 74,
     "metadata": {},
     "output_type": "execute_result"
    }
   ],
   "source": [
    "re.sub(r'foo,(?P<w1>\\w+),(?P<w2>\\w+),qux', r'foo,\\g<w2>,\\g<w1>,qux', 'foo,bar,baz,qux')\n",
    "\n",
    "## subs g\\<w2> and g<w1> and then will print the string."
   ]
  },
  {
   "cell_type": "code",
   "execution_count": 75,
   "id": "59b1df89",
   "metadata": {},
   "outputs": [
    {
     "data": {
      "text/plain": [
       "'foo 1230 bar'"
      ]
     },
     "execution_count": 75,
     "metadata": {},
     "output_type": "execute_result"
    }
   ],
   "source": [
    "re.sub(r'(\\d+)', r'\\g<1>0', 'foo 123 bar')\n",
    "\n",
    "## g<1> can be used to refer to a number in a string and then add a 0 to it"
   ]
  },
  {
   "cell_type": "code",
   "execution_count": 77,
   "id": "2ca6a353",
   "metadata": {},
   "outputs": [
    {
     "data": {
      "text/plain": [
       "'foo 1230 bar 4560, 880'"
      ]
     },
     "execution_count": 77,
     "metadata": {},
     "output_type": "execute_result"
    }
   ],
   "source": [
    "re.sub(r'(\\d+)', r'\\g<1>0', 'foo 123 bar 456, 88')\n",
    "\n",
    "## g<1> can be used to refer to a number in a string and then add a 0 to it"
   ]
  },
  {
   "cell_type": "code",
   "execution_count": 78,
   "id": "7e1ed462",
   "metadata": {},
   "outputs": [
    {
     "data": {
      "text/plain": [
       "'foo /123/ bar'"
      ]
     },
     "execution_count": 78,
     "metadata": {},
     "output_type": "execute_result"
    }
   ],
   "source": [
    "re.sub(r'\\d+', '/\\g<0>/', 'foo 123 bar')\n",
    "\n",
    "## adds // between any numbers"
   ]
  },
  {
   "cell_type": "code",
   "execution_count": 79,
   "id": "80861b14",
   "metadata": {},
   "outputs": [
    {
     "data": {
      "text/plain": [
       "'foo /123/ bar /456/'"
      ]
     },
     "execution_count": 79,
     "metadata": {},
     "output_type": "execute_result"
    }
   ],
   "source": [
    "re.sub(r'\\d+', '/\\g<0>/', 'foo 123 bar 456')\n",
    "\n",
    "## adds // between any numbers"
   ]
  },
  {
   "cell_type": "code",
   "execution_count": 81,
   "id": "19b79d5c",
   "metadata": {},
   "outputs": [
    {
     "data": {
      "text/plain": [
       "'-f-o-o-3-2-3-'"
      ]
     },
     "execution_count": 81,
     "metadata": {},
     "output_type": "execute_result"
    }
   ],
   "source": [
    "re.sub('x*', '-', 'foo323')\n",
    "\n",
    "## adds - between all characters"
   ]
  },
  {
   "cell_type": "code",
   "execution_count": 82,
   "id": "d666847f",
   "metadata": {},
   "outputs": [
    {
     "data": {
      "text/plain": [
       "'FOO.100.BAR.200.BAZ.300'"
      ]
     },
     "execution_count": 82,
     "metadata": {},
     "output_type": "execute_result"
    }
   ],
   "source": [
    "## substitution by function\n",
    "\n",
    "def f(match_obj):\n",
    "    s = match_obj.group(0)  # The matching string\n",
    "\n",
    "    # s.isdigit() returns True if all characters in s are digits\n",
    "    if s.isdigit():\n",
    "        return str(int(s) * 10)\n",
    "    else:\n",
    "        return s.upper()\n",
    "\n",
    "re.sub(r'\\w+', f, 'foo.10.bar.20.baz.30')\n",
    "\n",
    "## changes string to uppercase and also multiplies any integers by 10"
   ]
  },
  {
   "cell_type": "code",
   "execution_count": 83,
   "id": "f84e4fb6",
   "metadata": {},
   "outputs": [
    {
     "data": {
      "text/plain": [
       "'xxx.xxx.xxx.xxx'"
      ]
     },
     "execution_count": 83,
     "metadata": {},
     "output_type": "execute_result"
    }
   ],
   "source": [
    "## Limiting the Number of Replacemants\n",
    "\n",
    "re.sub(r'\\w+', 'xxx', 'foo.bar.baz.qux')\n",
    "\n",
    "## replaces all the values to xxx"
   ]
  },
  {
   "cell_type": "code",
   "execution_count": 84,
   "id": "3c782b1b",
   "metadata": {},
   "outputs": [
    {
     "data": {
      "text/plain": [
       "'xxx.xxx.baz.qux'"
      ]
     },
     "execution_count": 84,
     "metadata": {},
     "output_type": "execute_result"
    }
   ],
   "source": [
    "re.sub(r'\\w+', 'xxx', 'foo.bar.baz.qux', count=2)\n",
    "\n",
    "## will only replace the first 2 values to xxx"
   ]
  },
  {
   "cell_type": "code",
   "execution_count": 85,
   "id": "547fd396",
   "metadata": {},
   "outputs": [
    {
     "data": {
      "text/plain": [
       "('xxx.xxx.xxx.xxx', 4)"
      ]
     },
     "execution_count": 85,
     "metadata": {},
     "output_type": "execute_result"
    }
   ],
   "source": [
    "re.subn(r'\\w+', 'xxx', 'foo.bar.baz.qux')\n",
    "\n",
    "## re.subn returns a two-tuple consisting of the modified string and the number of substitutions made"
   ]
  },
  {
   "cell_type": "code",
   "execution_count": 86,
   "id": "be0a2468",
   "metadata": {},
   "outputs": [
    {
     "data": {
      "text/plain": [
       "('xxx.xxx.baz.qux', 2)"
      ]
     },
     "execution_count": 86,
     "metadata": {},
     "output_type": "execute_result"
    }
   ],
   "source": [
    "re.subn(r'\\w+', 'xxx', 'foo.bar.baz.qux', count=2)\n",
    "\n",
    "## replaces first two and shows how many swaps are done"
   ]
  },
  {
   "cell_type": "code",
   "execution_count": 87,
   "id": "25bc34ca",
   "metadata": {},
   "outputs": [
    {
     "data": {
      "text/plain": [
       "('FOO.100.BAR.200.BAZ.300', 6)"
      ]
     },
     "execution_count": 87,
     "metadata": {},
     "output_type": "execute_result"
    }
   ],
   "source": [
    "def f(match_obj):\n",
    "    m = match_obj.group(0)\n",
    "    if m.isdigit():\n",
    "        return str(int(m) * 10)\n",
    "    else:\n",
    "        return m.upper()\n",
    "\n",
    "re.subn(r'\\w+', f, 'foo.10.bar.20.baz.30')\n",
    "\n",
    "## modified "
   ]
  },
  {
   "cell_type": "markdown",
   "id": "bdf68529",
   "metadata": {},
   "source": [
    "## Utility Functions"
   ]
  },
  {
   "cell_type": "markdown",
   "id": "5b6539b3",
   "metadata": {},
   "source": [
    "### Re.Split"
   ]
  },
  {
   "cell_type": "code",
   "execution_count": 2,
   "id": "b3804afb",
   "metadata": {},
   "outputs": [
    {
     "data": {
      "text/plain": [
       "['foo', 'bar', 'baz', 'qux']"
      ]
     },
     "execution_count": 2,
     "metadata": {},
     "output_type": "execute_result"
    }
   ],
   "source": [
    "re.split('\\s*[,;/]\\s*', 'foo,bar  ;  baz / qux') \n",
    "\n",
    "## splits the specified string into substrings delimited by a comma "
   ]
  },
  {
   "cell_type": "code",
   "execution_count": 3,
   "id": "f7611920",
   "metadata": {},
   "outputs": [
    {
     "data": {
      "text/plain": [
       "['foo', ',', 'bar', '  ;  ', 'baz', ' / ', 'qux']"
      ]
     },
     "execution_count": 3,
     "metadata": {},
     "output_type": "execute_result"
    }
   ],
   "source": [
    "string = 'foo,bar  ;  baz / qux'\n",
    "regex = r'(\\s*[,;/]\\s*)'\n",
    "a = re.split(regex, string)\n",
    "\n",
    "# List of tokens and delimiters\n",
    "a\n",
    "\n",
    "## splits both word and special characters and prints all out separately"
   ]
  },
  {
   "cell_type": "code",
   "execution_count": 5,
   "id": "548f3fdc",
   "metadata": {},
   "outputs": [
    {
     "data": {
      "text/plain": [
       "'<foo>,<bar>  ;  <baz> / <qux>'"
      ]
     },
     "execution_count": 5,
     "metadata": {},
     "output_type": "execute_result"
    }
   ],
   "source": [
    "string = 'foo,bar  ;  baz / qux'\n",
    "regex = r'(\\s*[,;/]\\s*)'\n",
    "a = re.split(regex, string)\n",
    "\n",
    "# List of tokens and delimiters\n",
    "a\n",
    "\n",
    "## splits both word and special characters and prints all out separately\n",
    "\n",
    "# Enclose each token in <>'s\n",
    "for i, s in enumerate(a):\n",
    "\n",
    "    # This will be True for the tokens but not the delimiters\n",
    "    if not re.fullmatch(regex, s):\n",
    "        a[i] = f'<{s}>'\n",
    "\n",
    "\n",
    "# Put the tokens back together using the same delimiters\n",
    "''.join(a)\n",
    "\n",
    "## displays and joins all values between <>"
   ]
  },
  {
   "cell_type": "code",
   "execution_count": 6,
   "id": "9ddae6c6",
   "metadata": {},
   "outputs": [
    {
     "data": {
      "text/plain": [
       "['foo', 'bar', 'baz', 'qux']"
      ]
     },
     "execution_count": 6,
     "metadata": {},
     "output_type": "execute_result"
    }
   ],
   "source": [
    "string = 'foo,bar  ;  baz / qux'\n",
    "regex = r'(?:\\s*[,;/]\\s*)'\n",
    "re.split(regex, string)\n",
    "\n",
    "## "
   ]
  },
  {
   "cell_type": "code",
   "execution_count": 7,
   "id": "ef5d5a36",
   "metadata": {},
   "outputs": [
    {
     "data": {
      "text/plain": [
       "['foo', 'bar', 'baz', 'qux, quux, corge']"
      ]
     },
     "execution_count": 7,
     "metadata": {},
     "output_type": "execute_result"
    }
   ],
   "source": [
    "s = 'foo, bar, baz, qux, quux, corge'\n",
    "\n",
    "re.split(r',\\s*', s)\n",
    "\n",
    "re.split(r',\\s*', s, maxsplit=3)\n",
    "\n",
    "## maxsplit will limit the amount which will be added to the split"
   ]
  },
  {
   "cell_type": "code",
   "execution_count": 8,
   "id": "f1eb6def",
   "metadata": {},
   "outputs": [
    {
     "data": {
      "text/plain": [
       "['', '/', 'foo', '/', 'bar', '/', 'baz', '/', '']"
      ]
     },
     "execution_count": 8,
     "metadata": {},
     "output_type": "execute_result"
    }
   ],
   "source": [
    "re.split('(/)', '/foo/bar/baz/')\n",
    "\n",
    "## splits all cells. re.split() places empty strings as the first and last elements of the return list."
   ]
  },
  {
   "cell_type": "markdown",
   "id": "debc3175",
   "metadata": {},
   "source": [
    "### Re Escape"
   ]
  },
  {
   "cell_type": "code",
   "execution_count": 10,
   "id": "3d182a5f",
   "metadata": {},
   "outputs": [
    {
     "data": {
      "text/plain": [
       "True"
      ]
     },
     "execution_count": 10,
     "metadata": {},
     "output_type": "execute_result"
    }
   ],
   "source": [
    "re.escape('foo^bar(baz)|qux') == 'foo\\^bar\\(baz\\)\\|qux'\n",
    "\n",
    "## checks if the first string matches the next"
   ]
  },
  {
   "cell_type": "code",
   "execution_count": 13,
   "id": "d12152c0",
   "metadata": {},
   "outputs": [
    {
     "data": {
      "text/plain": [
       "<re.Match object; span=(0, 16), match='foo^bar(baz)|qux'>"
      ]
     },
     "execution_count": 13,
     "metadata": {},
     "output_type": "execute_result"
    }
   ],
   "source": [
    "re.match(re.escape('foo^bar(baz)|qux'), 'foo^bar(baz)|qux')\n",
    "\n",
    "## checks if the first string matches the next"
   ]
  },
  {
   "cell_type": "markdown",
   "id": "7a53a213",
   "metadata": {},
   "source": [
    "# Compiled Regex Functions in Python"
   ]
  },
  {
   "cell_type": "code",
   "execution_count": 14,
   "id": "d58bfe7e",
   "metadata": {},
   "outputs": [
    {
     "data": {
      "text/plain": [
       "<re.Match object; span=(3, 6), match='123'>"
      ]
     },
     "execution_count": 14,
     "metadata": {},
     "output_type": "execute_result"
    }
   ],
   "source": [
    "re.search(r'(\\d+)', 'foo123bar')"
   ]
  },
  {
   "cell_type": "code",
   "execution_count": 15,
   "id": "5f942225",
   "metadata": {},
   "outputs": [
    {
     "data": {
      "text/plain": [
       "<re.Match object; span=(3, 6), match='123'>"
      ]
     },
     "execution_count": 15,
     "metadata": {},
     "output_type": "execute_result"
    }
   ],
   "source": [
    "re_obj = re.compile(r'(\\d+)')\n",
    "re.search(re_obj, 'foo123bar')"
   ]
  },
  {
   "cell_type": "code",
   "execution_count": 18,
   "id": "c9cb8d1e",
   "metadata": {},
   "outputs": [
    {
     "data": {
      "text/plain": [
       "<re.Match object; span=(3, 6), match='123'>"
      ]
     },
     "execution_count": 18,
     "metadata": {},
     "output_type": "execute_result"
    }
   ],
   "source": [
    "re_obj.search('foo123bar')\n",
    "\n",
    "## You can also invoke a method directly from a regular expression object"
   ]
  },
  {
   "cell_type": "code",
   "execution_count": 19,
   "id": "8aeab4b8",
   "metadata": {},
   "outputs": [
    {
     "data": {
      "text/plain": [
       "<re.Match object; span=(3, 8), match='12334'>"
      ]
     },
     "execution_count": 19,
     "metadata": {},
     "output_type": "execute_result"
    }
   ],
   "source": [
    "re_obj.search('foo12334bar')\n",
    "\n",
    "## This would allow to set multiple different regex quickly as you can keep making new strings"
   ]
  },
  {
   "cell_type": "code",
   "execution_count": 20,
   "id": "686f0eb6",
   "metadata": {},
   "outputs": [],
   "source": [
    "r1 = re.search('ba[rz]', 'FOOBARBAZ', flags=re.I)\n",
    "\n",
    "re_obj = re.compile('ba[rz]', flags=re.I)\n",
    "r2 = re.search(re_obj, 'FOOBARBAZ')\n",
    "r3 = re_obj.search('FOOBARBAZ')\n",
    "\n",
    "## this is 3 different ways to compile a string that gives the same answer as seen below"
   ]
  },
  {
   "cell_type": "code",
   "execution_count": 21,
   "id": "aa0b42f8",
   "metadata": {},
   "outputs": [
    {
     "data": {
      "text/plain": [
       "<re.Match object; span=(3, 6), match='BAR'>"
      ]
     },
     "execution_count": 21,
     "metadata": {},
     "output_type": "execute_result"
    }
   ],
   "source": [
    "r1"
   ]
  },
  {
   "cell_type": "code",
   "execution_count": 22,
   "id": "196365fe",
   "metadata": {},
   "outputs": [
    {
     "data": {
      "text/plain": [
       "<re.Match object; span=(3, 6), match='BAR'>"
      ]
     },
     "execution_count": 22,
     "metadata": {},
     "output_type": "execute_result"
    }
   ],
   "source": [
    "r2"
   ]
  },
  {
   "cell_type": "code",
   "execution_count": 23,
   "id": "7f53b065",
   "metadata": {},
   "outputs": [
    {
     "data": {
      "text/plain": [
       "<re.Match object; span=(3, 6), match='BAR'>"
      ]
     },
     "execution_count": 23,
     "metadata": {},
     "output_type": "execute_result"
    }
   ],
   "source": [
    "r3"
   ]
  },
  {
   "cell_type": "code",
   "execution_count": 30,
   "id": "6ba3c16e",
   "metadata": {},
   "outputs": [],
   "source": [
    "s1, s2, s3, s4 = 'foo.bar', 'foo123bar', 'baz99', 'qux & grault'\n",
    "re_obj = re.compile('\\d+')\n",
    "\n",
    "## The following is more modular and more maintainable as you can keep all data together and can be moved"
   ]
  },
  {
   "cell_type": "code",
   "execution_count": 32,
   "id": "4c7d6481",
   "metadata": {},
   "outputs": [
    {
     "data": {
      "text/plain": [
       "'foo.bar'"
      ]
     },
     "execution_count": 32,
     "metadata": {},
     "output_type": "execute_result"
    }
   ],
   "source": [
    "re_obj.search(s1)\n",
    "\n",
    "s1"
   ]
  },
  {
   "cell_type": "code",
   "execution_count": 33,
   "id": "a99eca6b",
   "metadata": {},
   "outputs": [
    {
     "data": {
      "text/plain": [
       "'foo123bar'"
      ]
     },
     "execution_count": 33,
     "metadata": {},
     "output_type": "execute_result"
    }
   ],
   "source": [
    "re_obj.search(s2)\n",
    "\n",
    "s2"
   ]
  },
  {
   "cell_type": "code",
   "execution_count": 34,
   "id": "a6b04283",
   "metadata": {},
   "outputs": [
    {
     "data": {
      "text/plain": [
       "'baz99'"
      ]
     },
     "execution_count": 34,
     "metadata": {},
     "output_type": "execute_result"
    }
   ],
   "source": [
    "re_obj.search(s3)\n",
    "\n",
    "s3"
   ]
  },
  {
   "cell_type": "code",
   "execution_count": 35,
   "id": "649fed52",
   "metadata": {},
   "outputs": [
    {
     "data": {
      "text/plain": [
       "'qux & grault'"
      ]
     },
     "execution_count": 35,
     "metadata": {},
     "output_type": "execute_result"
    }
   ],
   "source": [
    "re_obj.search(s4)\n",
    "\n",
    "s4"
   ]
  },
  {
   "cell_type": "code",
   "execution_count": 36,
   "id": "a44435dc",
   "metadata": {},
   "outputs": [],
   "source": [
    "## You could alternatively do it this way\n",
    "\n",
    "s1, s2, s3, s4 = 'foo.bar', 'foo123bar', 'baz99', 'qux & grault'\n",
    "regex = '\\d+'\n",
    "\n",
    "## re module compiles and caches a regex when it’s used in a function call."
   ]
  },
  {
   "cell_type": "code",
   "execution_count": 37,
   "id": "5b9f4f07",
   "metadata": {},
   "outputs": [
    {
     "data": {
      "text/plain": [
       "'foo.bar'"
      ]
     },
     "execution_count": 37,
     "metadata": {},
     "output_type": "execute_result"
    }
   ],
   "source": [
    "re.search(regex, s1)\n",
    "\n",
    "s1"
   ]
  },
  {
   "cell_type": "code",
   "execution_count": 38,
   "id": "1c25834c",
   "metadata": {},
   "outputs": [
    {
     "data": {
      "text/plain": [
       "'foo123bar'"
      ]
     },
     "execution_count": 38,
     "metadata": {},
     "output_type": "execute_result"
    }
   ],
   "source": [
    "re.search(regex, s2)\n",
    "\n",
    "s2"
   ]
  },
  {
   "cell_type": "code",
   "execution_count": 39,
   "id": "cb75c0b5",
   "metadata": {},
   "outputs": [
    {
     "data": {
      "text/plain": [
       "'baz99'"
      ]
     },
     "execution_count": 39,
     "metadata": {},
     "output_type": "execute_result"
    }
   ],
   "source": [
    "re.search(regex, s3)\n",
    "\n",
    "s3"
   ]
  },
  {
   "cell_type": "code",
   "execution_count": 40,
   "id": "b345295c",
   "metadata": {},
   "outputs": [
    {
     "data": {
      "text/plain": [
       "'qux & grault'"
      ]
     },
     "execution_count": 40,
     "metadata": {},
     "output_type": "execute_result"
    }
   ],
   "source": [
    "re.search(regex, s4)\n",
    "\n",
    "s4"
   ]
  },
  {
   "cell_type": "code",
   "execution_count": 42,
   "id": "75d426a8",
   "metadata": {},
   "outputs": [],
   "source": [
    "my_regex = re.compile(r'([0-9]+)')"
   ]
  },
  {
   "cell_type": "code",
   "execution_count": 43,
   "id": "9366bcfd",
   "metadata": {},
   "outputs": [
    {
     "data": {
      "text/plain": [
       "re.compile(r'([0-9]+)', re.UNICODE)"
      ]
     },
     "execution_count": 43,
     "metadata": {},
     "output_type": "execute_result"
    }
   ],
   "source": [
    "my_regex"
   ]
  },
  {
   "cell_type": "code",
   "execution_count": 44,
   "id": "e1203feb",
   "metadata": {},
   "outputs": [
    {
     "data": {
      "text/plain": [
       "<re.Match object; span=(3, 6), match='123'>"
      ]
     },
     "execution_count": 44,
     "metadata": {},
     "output_type": "execute_result"
    }
   ],
   "source": [
    "my_regex.search('foo123bar456')"
   ]
  },
  {
   "cell_type": "code",
   "execution_count": 45,
   "id": "734f7e11",
   "metadata": {},
   "outputs": [
    {
     "data": {
      "text/plain": [
       "['123', '456']"
      ]
     },
     "execution_count": 45,
     "metadata": {},
     "output_type": "execute_result"
    }
   ],
   "source": [
    "my_regex.findall('foo123bar456')"
   ]
  },
  {
   "cell_type": "code",
   "execution_count": 46,
   "id": "69cef52f",
   "metadata": {},
   "outputs": [
    {
     "data": {
      "text/plain": [
       "'foo...bar...'"
      ]
     },
     "execution_count": 46,
     "metadata": {},
     "output_type": "execute_result"
    }
   ],
   "source": [
    "my_regex.sub(r'...', 'foo123bar456')"
   ]
  },
  {
   "cell_type": "markdown",
   "id": "c64afff0",
   "metadata": {},
   "source": [
    "# Regular Expressions on the Iris Dataset"
   ]
  },
  {
   "cell_type": "code",
   "execution_count": 47,
   "id": "4ff5ff37",
   "metadata": {},
   "outputs": [
    {
     "data": {
      "text/plain": [
       "['5.1,3.5,1.4,0.2,Iris-setosa',\n",
       " '4.9,3.0,1.4,0.2,Iris-setosa',\n",
       " '4.7,3.2,1.3,0.2,Iris-setosa',\n",
       " '4.6,3.1,1.5,0.2,Iris-setosa',\n",
       " '5.0,3.6,1.4,0.2,Iris-setosa',\n",
       " '5.4,3.9,1.7,0.4,Iris-setosa',\n",
       " '4.6,3.4,1.4,0.3,Iris-setosa',\n",
       " '5.0,3.4,1.5,0.2,Iris-setosa',\n",
       " '4.4,2.9,1.4,0.2,Iris-setosa',\n",
       " '4.9,3.1,1.5,0.1,Iris-setosa',\n",
       " '5.4,3.7,1.5,0.2,Iris-setosa',\n",
       " '4.8,3.4,1.6,0.2,Iris-setosa',\n",
       " '4.8,3.0,1.4,0.1,Iris-setosa',\n",
       " '4.3,3.0,1.1,0.1,Iris-setosa',\n",
       " '5.8,4.0,1.2,0.2,Iris-setosa',\n",
       " '5.7,4.4,1.5,0.4,Iris-setosa',\n",
       " '5.4,3.9,1.3,0.4,Iris-setosa',\n",
       " '5.1,3.5,1.4,0.3,Iris-setosa',\n",
       " '5.7,3.8,1.7,0.3,Iris-setosa',\n",
       " '5.1,3.8,1.5,0.3,Iris-setosa',\n",
       " '5.4,3.4,1.7,0.2,Iris-setosa',\n",
       " '5.1,3.7,1.5,0.4,Iris-setosa',\n",
       " '4.6,3.6,1.0,0.2,Iris-setosa',\n",
       " '5.1,3.3,1.7,0.5,Iris-setosa',\n",
       " '4.8,3.4,1.9,0.2,Iris-setosa',\n",
       " '5.0,3.0,1.6,0.2,Iris-setosa',\n",
       " '5.0,3.4,1.6,0.4,Iris-setosa',\n",
       " '5.2,3.5,1.5,0.2,Iris-setosa',\n",
       " '5.2,3.4,1.4,0.2,Iris-setosa',\n",
       " '4.7,3.2,1.6,0.2,Iris-setosa',\n",
       " '4.8,3.1,1.6,0.2,Iris-setosa',\n",
       " '5.4,3.4,1.5,0.4,Iris-setosa',\n",
       " '5.2,4.1,1.5,0.1,Iris-setosa',\n",
       " '5.5,4.2,1.4,0.2,Iris-setosa',\n",
       " '4.9,3.1,1.5,0.1,Iris-setosa',\n",
       " '5.0,3.2,1.2,0.2,Iris-setosa',\n",
       " '5.5,3.5,1.3,0.2,Iris-setosa',\n",
       " '4.9,3.1,1.5,0.1,Iris-setosa',\n",
       " '4.4,3.0,1.3,0.2,Iris-setosa',\n",
       " '5.1,3.4,1.5,0.2,Iris-setosa',\n",
       " '5.0,3.5,1.3,0.3,Iris-setosa',\n",
       " '4.5,2.3,1.3,0.3,Iris-setosa',\n",
       " '4.4,3.2,1.3,0.2,Iris-setosa',\n",
       " '5.0,3.5,1.6,0.6,Iris-setosa',\n",
       " '5.1,3.8,1.9,0.4,Iris-setosa',\n",
       " '4.8,3.0,1.4,0.3,Iris-setosa',\n",
       " '5.1,3.8,1.6,0.2,Iris-setosa',\n",
       " '4.6,3.2,1.4,0.2,Iris-setosa',\n",
       " '5.3,3.7,1.5,0.2,Iris-setosa',\n",
       " '5.0,3.3,1.4,0.2,Iris-setosa',\n",
       " '7.0,3.2,4.7,1.4,Iris-versicolor',\n",
       " '6.4,3.2,4.5,1.5,Iris-versicolor',\n",
       " '6.9,3.1,4.9,1.5,Iris-versicolor',\n",
       " '5.5,2.3,4.0,1.3,Iris-versicolor',\n",
       " '6.5,2.8,4.6,1.5,Iris-versicolor',\n",
       " '5.7,2.8,4.5,1.3,Iris-versicolor',\n",
       " '6.3,3.3,4.7,1.6,Iris-versicolor',\n",
       " '4.9,2.4,3.3,1.0,Iris-versicolor',\n",
       " '6.6,2.9,4.6,1.3,Iris-versicolor',\n",
       " '5.2,2.7,3.9,1.4,Iris-versicolor',\n",
       " '5.0,2.0,3.5,1.0,Iris-versicolor',\n",
       " '5.9,3.0,4.2,1.5,Iris-versicolor',\n",
       " '6.0,2.2,4.0,1.0,Iris-versicolor',\n",
       " '6.1,2.9,4.7,1.4,Iris-versicolor',\n",
       " '5.6,2.9,3.6,1.3,Iris-versicolor',\n",
       " '6.7,3.1,4.4,1.4,Iris-versicolor',\n",
       " '5.6,3.0,4.5,1.5,Iris-versicolor',\n",
       " '5.8,2.7,4.1,1.0,Iris-versicolor',\n",
       " '6.2,2.2,4.5,1.5,Iris-versicolor',\n",
       " '5.6,2.5,3.9,1.1,Iris-versicolor',\n",
       " '5.9,3.2,4.8,1.8,Iris-versicolor',\n",
       " '6.1,2.8,4.0,1.3,Iris-versicolor',\n",
       " '6.3,2.5,4.9,1.5,Iris-versicolor',\n",
       " '6.1,2.8,4.7,1.2,Iris-versicolor',\n",
       " '6.4,2.9,4.3,1.3,Iris-versicolor',\n",
       " '6.6,3.0,4.4,1.4,Iris-versicolor',\n",
       " '6.8,2.8,4.8,1.4,Iris-versicolor',\n",
       " '6.7,3.0,5.0,1.7,Iris-versicolor',\n",
       " '6.0,2.9,4.5,1.5,Iris-versicolor',\n",
       " '5.7,2.6,3.5,1.0,Iris-versicolor',\n",
       " '5.5,2.4,3.8,1.1,Iris-versicolor',\n",
       " '5.5,2.4,3.7,1.0,Iris-versicolor',\n",
       " '5.8,2.7,3.9,1.2,Iris-versicolor',\n",
       " '6.0,2.7,5.1,1.6,Iris-versicolor',\n",
       " '5.4,3.0,4.5,1.5,Iris-versicolor',\n",
       " '6.0,3.4,4.5,1.6,Iris-versicolor',\n",
       " '6.7,3.1,4.7,1.5,Iris-versicolor',\n",
       " '6.3,2.3,4.4,1.3,Iris-versicolor',\n",
       " '5.6,3.0,4.1,1.3,Iris-versicolor',\n",
       " '5.5,2.5,4.0,1.3,Iris-versicolor',\n",
       " '5.5,2.6,4.4,1.2,Iris-versicolor',\n",
       " '6.1,3.0,4.6,1.4,Iris-versicolor',\n",
       " '5.8,2.6,4.0,1.2,Iris-versicolor',\n",
       " '5.0,2.3,3.3,1.0,Iris-versicolor',\n",
       " '5.6,2.7,4.2,1.3,Iris-versicolor',\n",
       " '5.7,3.0,4.2,1.2,Iris-versicolor',\n",
       " '5.7,2.9,4.2,1.3,Iris-versicolor',\n",
       " '6.2,2.9,4.3,1.3,Iris-versicolor',\n",
       " '5.1,2.5,3.0,1.1,Iris-versicolor',\n",
       " '5.7,2.8,4.1,1.3,Iris-versicolor',\n",
       " '6.3,3.3,6.0,2.5,Iris-virginica',\n",
       " '5.8,2.7,5.1,1.9,Iris-virginica',\n",
       " '7.1,3.0,5.9,2.1,Iris-virginica',\n",
       " '6.3,2.9,5.6,1.8,Iris-virginica',\n",
       " '6.5,3.0,5.8,2.2,Iris-virginica',\n",
       " '7.6,3.0,6.6,2.1,Iris-virginica',\n",
       " '4.9,2.5,4.5,1.7,Iris-virginica',\n",
       " '7.3,2.9,6.3,1.8,Iris-virginica',\n",
       " '6.7,2.5,5.8,1.8,Iris-virginica',\n",
       " '7.2,3.6,6.1,2.5,Iris-virginica',\n",
       " '6.5,3.2,5.1,2.0,Iris-virginica',\n",
       " '6.4,2.7,5.3,1.9,Iris-virginica',\n",
       " '6.8,3.0,5.5,2.1,Iris-virginica',\n",
       " '5.7,2.5,5.0,2.0,Iris-virginica',\n",
       " '5.8,2.8,5.1,2.4,Iris-virginica',\n",
       " '6.4,3.2,5.3,2.3,Iris-virginica',\n",
       " '6.5,3.0,5.5,1.8,Iris-virginica',\n",
       " '7.7,3.8,6.7,2.2,Iris-virginica',\n",
       " '7.7,2.6,6.9,2.3,Iris-virginica',\n",
       " '6.0,2.2,5.0,1.5,Iris-virginica',\n",
       " '6.9,3.2,5.7,2.3,Iris-virginica',\n",
       " '5.6,2.8,4.9,2.0,Iris-virginica',\n",
       " '7.7,2.8,6.7,2.0,Iris-virginica',\n",
       " '6.3,2.7,4.9,1.8,Iris-virginica',\n",
       " '6.7,3.3,5.7,2.1,Iris-virginica',\n",
       " '7.2,3.2,6.0,1.8,Iris-virginica',\n",
       " '6.2,2.8,4.8,1.8,Iris-virginica',\n",
       " '6.1,3.0,4.9,1.8,Iris-virginica',\n",
       " '6.4,2.8,5.6,2.1,Iris-virginica',\n",
       " '7.2,3.0,5.8,1.6,Iris-virginica',\n",
       " '7.4,2.8,6.1,1.9,Iris-virginica',\n",
       " '7.9,3.8,6.4,2.0,Iris-virginica',\n",
       " '6.4,2.8,5.6,2.2,Iris-virginica',\n",
       " '6.3,2.8,5.1,1.5,Iris-virginica',\n",
       " '6.1,2.6,5.6,1.4,Iris-virginica',\n",
       " '7.7,3.0,6.1,2.3,Iris-virginica',\n",
       " '6.3,3.4,5.6,2.4,Iris-virginica',\n",
       " '6.4,3.1,5.5,1.8,Iris-virginica',\n",
       " '6.0,3.0,4.8,1.8,Iris-virginica',\n",
       " '6.9,3.1,5.4,2.1,Iris-virginica',\n",
       " '6.7,3.1,5.6,2.4,Iris-virginica',\n",
       " '6.9,3.1,5.1,2.3,Iris-virginica',\n",
       " '5.8,2.7,5.1,1.9,Iris-virginica',\n",
       " '6.8,3.2,5.9,2.3,Iris-virginica',\n",
       " '6.7,3.3,5.7,2.5,Iris-virginica',\n",
       " '6.7,3.0,5.2,2.3,Iris-virginica',\n",
       " '6.3,2.5,5.0,1.9,Iris-virginica',\n",
       " '6.5,3.0,5.2,2.0,Iris-virginica',\n",
       " '6.2,3.4,5.4,2.3,Iris-virginica',\n",
       " '5.9,3.0,5.1,1.8,Iris-virginica',\n",
       " '']"
      ]
     },
     "execution_count": 47,
     "metadata": {},
     "output_type": "execute_result"
    }
   ],
   "source": [
    "# https://stackoverflow.com/a/1393367\n",
    "\n",
    "url = r'https://archive.ics.uci.edu/ml/machine-learning-databases/iris/iris.data'\n",
    "\n",
    "iris = [line.decode('utf-8').strip() for line in urllib.request.urlopen(url)]\n",
    "\n",
    "iris"
   ]
  },
  {
   "cell_type": "code",
   "execution_count": 123,
   "id": "167a491f",
   "metadata": {},
   "outputs": [],
   "source": [
    "strip_iris = re.compile(r'([0-9]\\.[0-9]),([0-9]\\.[0-9]),([0-9]\\.[0-9]),([0-9]\\.[0-9]),Iris-([a-z]+)')"
   ]
  },
  {
   "cell_type": "code",
   "execution_count": 124,
   "id": "9372975c",
   "metadata": {},
   "outputs": [
    {
     "data": {
      "text/plain": [
       "['setosa,0.2,1.4,3.5,5.1',\n",
       " 'setosa,0.2,1.4,3.0,4.9',\n",
       " 'setosa,0.2,1.3,3.2,4.7',\n",
       " 'setosa,0.2,1.5,3.1,4.6',\n",
       " 'setosa,0.2,1.4,3.6,5.0',\n",
       " 'setosa,0.4,1.7,3.9,5.4',\n",
       " 'setosa,0.3,1.4,3.4,4.6',\n",
       " 'setosa,0.2,1.5,3.4,5.0',\n",
       " 'setosa,0.2,1.4,2.9,4.4',\n",
       " 'setosa,0.1,1.5,3.1,4.9',\n",
       " 'setosa,0.2,1.5,3.7,5.4',\n",
       " 'setosa,0.2,1.6,3.4,4.8',\n",
       " 'setosa,0.1,1.4,3.0,4.8',\n",
       " 'setosa,0.1,1.1,3.0,4.3',\n",
       " 'setosa,0.2,1.2,4.0,5.8',\n",
       " 'setosa,0.4,1.5,4.4,5.7',\n",
       " 'setosa,0.4,1.3,3.9,5.4',\n",
       " 'setosa,0.3,1.4,3.5,5.1',\n",
       " 'setosa,0.3,1.7,3.8,5.7',\n",
       " 'setosa,0.3,1.5,3.8,5.1',\n",
       " 'setosa,0.2,1.7,3.4,5.4',\n",
       " 'setosa,0.4,1.5,3.7,5.1',\n",
       " 'setosa,0.2,1.0,3.6,4.6',\n",
       " 'setosa,0.5,1.7,3.3,5.1',\n",
       " 'setosa,0.2,1.9,3.4,4.8',\n",
       " 'setosa,0.2,1.6,3.0,5.0',\n",
       " 'setosa,0.4,1.6,3.4,5.0',\n",
       " 'setosa,0.2,1.5,3.5,5.2',\n",
       " 'setosa,0.2,1.4,3.4,5.2',\n",
       " 'setosa,0.2,1.6,3.2,4.7',\n",
       " 'setosa,0.2,1.6,3.1,4.8',\n",
       " 'setosa,0.4,1.5,3.4,5.4',\n",
       " 'setosa,0.1,1.5,4.1,5.2',\n",
       " 'setosa,0.2,1.4,4.2,5.5',\n",
       " 'setosa,0.1,1.5,3.1,4.9',\n",
       " 'setosa,0.2,1.2,3.2,5.0',\n",
       " 'setosa,0.2,1.3,3.5,5.5',\n",
       " 'setosa,0.1,1.5,3.1,4.9',\n",
       " 'setosa,0.2,1.3,3.0,4.4',\n",
       " 'setosa,0.2,1.5,3.4,5.1',\n",
       " 'setosa,0.3,1.3,3.5,5.0',\n",
       " 'setosa,0.3,1.3,2.3,4.5',\n",
       " 'setosa,0.2,1.3,3.2,4.4',\n",
       " 'setosa,0.6,1.6,3.5,5.0',\n",
       " 'setosa,0.4,1.9,3.8,5.1',\n",
       " 'setosa,0.3,1.4,3.0,4.8',\n",
       " 'setosa,0.2,1.6,3.8,5.1',\n",
       " 'setosa,0.2,1.4,3.2,4.6',\n",
       " 'setosa,0.2,1.5,3.7,5.3',\n",
       " 'setosa,0.2,1.4,3.3,5.0',\n",
       " 'versicolor,1.4,4.7,3.2,7.0',\n",
       " 'versicolor,1.5,4.5,3.2,6.4',\n",
       " 'versicolor,1.5,4.9,3.1,6.9',\n",
       " 'versicolor,1.3,4.0,2.3,5.5',\n",
       " 'versicolor,1.5,4.6,2.8,6.5',\n",
       " 'versicolor,1.3,4.5,2.8,5.7',\n",
       " 'versicolor,1.6,4.7,3.3,6.3',\n",
       " 'versicolor,1.0,3.3,2.4,4.9',\n",
       " 'versicolor,1.3,4.6,2.9,6.6',\n",
       " 'versicolor,1.4,3.9,2.7,5.2',\n",
       " 'versicolor,1.0,3.5,2.0,5.0',\n",
       " 'versicolor,1.5,4.2,3.0,5.9',\n",
       " 'versicolor,1.0,4.0,2.2,6.0',\n",
       " 'versicolor,1.4,4.7,2.9,6.1',\n",
       " 'versicolor,1.3,3.6,2.9,5.6',\n",
       " 'versicolor,1.4,4.4,3.1,6.7',\n",
       " 'versicolor,1.5,4.5,3.0,5.6',\n",
       " 'versicolor,1.0,4.1,2.7,5.8',\n",
       " 'versicolor,1.5,4.5,2.2,6.2',\n",
       " 'versicolor,1.1,3.9,2.5,5.6',\n",
       " 'versicolor,1.8,4.8,3.2,5.9',\n",
       " 'versicolor,1.3,4.0,2.8,6.1',\n",
       " 'versicolor,1.5,4.9,2.5,6.3',\n",
       " 'versicolor,1.2,4.7,2.8,6.1',\n",
       " 'versicolor,1.3,4.3,2.9,6.4',\n",
       " 'versicolor,1.4,4.4,3.0,6.6',\n",
       " 'versicolor,1.4,4.8,2.8,6.8',\n",
       " 'versicolor,1.7,5.0,3.0,6.7',\n",
       " 'versicolor,1.5,4.5,2.9,6.0',\n",
       " 'versicolor,1.0,3.5,2.6,5.7',\n",
       " 'versicolor,1.1,3.8,2.4,5.5',\n",
       " 'versicolor,1.0,3.7,2.4,5.5',\n",
       " 'versicolor,1.2,3.9,2.7,5.8',\n",
       " 'versicolor,1.6,5.1,2.7,6.0',\n",
       " 'versicolor,1.5,4.5,3.0,5.4',\n",
       " 'versicolor,1.6,4.5,3.4,6.0',\n",
       " 'versicolor,1.5,4.7,3.1,6.7',\n",
       " 'versicolor,1.3,4.4,2.3,6.3',\n",
       " 'versicolor,1.3,4.1,3.0,5.6',\n",
       " 'versicolor,1.3,4.0,2.5,5.5',\n",
       " 'versicolor,1.2,4.4,2.6,5.5',\n",
       " 'versicolor,1.4,4.6,3.0,6.1',\n",
       " 'versicolor,1.2,4.0,2.6,5.8',\n",
       " 'versicolor,1.0,3.3,2.3,5.0',\n",
       " 'versicolor,1.3,4.2,2.7,5.6',\n",
       " 'versicolor,1.2,4.2,3.0,5.7',\n",
       " 'versicolor,1.3,4.2,2.9,5.7',\n",
       " 'versicolor,1.3,4.3,2.9,6.2',\n",
       " 'versicolor,1.1,3.0,2.5,5.1',\n",
       " 'versicolor,1.3,4.1,2.8,5.7',\n",
       " 'virginica,2.5,6.0,3.3,6.3',\n",
       " 'virginica,1.9,5.1,2.7,5.8',\n",
       " 'virginica,2.1,5.9,3.0,7.1',\n",
       " 'virginica,1.8,5.6,2.9,6.3',\n",
       " 'virginica,2.2,5.8,3.0,6.5',\n",
       " 'virginica,2.1,6.6,3.0,7.6',\n",
       " 'virginica,1.7,4.5,2.5,4.9',\n",
       " 'virginica,1.8,6.3,2.9,7.3',\n",
       " 'virginica,1.8,5.8,2.5,6.7',\n",
       " 'virginica,2.5,6.1,3.6,7.2',\n",
       " 'virginica,2.0,5.1,3.2,6.5',\n",
       " 'virginica,1.9,5.3,2.7,6.4',\n",
       " 'virginica,2.1,5.5,3.0,6.8',\n",
       " 'virginica,2.0,5.0,2.5,5.7',\n",
       " 'virginica,2.4,5.1,2.8,5.8',\n",
       " 'virginica,2.3,5.3,3.2,6.4',\n",
       " 'virginica,1.8,5.5,3.0,6.5',\n",
       " 'virginica,2.2,6.7,3.8,7.7',\n",
       " 'virginica,2.3,6.9,2.6,7.7',\n",
       " 'virginica,1.5,5.0,2.2,6.0',\n",
       " 'virginica,2.3,5.7,3.2,6.9',\n",
       " 'virginica,2.0,4.9,2.8,5.6',\n",
       " 'virginica,2.0,6.7,2.8,7.7',\n",
       " 'virginica,1.8,4.9,2.7,6.3',\n",
       " 'virginica,2.1,5.7,3.3,6.7',\n",
       " 'virginica,1.8,6.0,3.2,7.2',\n",
       " 'virginica,1.8,4.8,2.8,6.2',\n",
       " 'virginica,1.8,4.9,3.0,6.1',\n",
       " 'virginica,2.1,5.6,2.8,6.4',\n",
       " 'virginica,1.6,5.8,3.0,7.2',\n",
       " 'virginica,1.9,6.1,2.8,7.4',\n",
       " 'virginica,2.0,6.4,3.8,7.9',\n",
       " 'virginica,2.2,5.6,2.8,6.4',\n",
       " 'virginica,1.5,5.1,2.8,6.3',\n",
       " 'virginica,1.4,5.6,2.6,6.1',\n",
       " 'virginica,2.3,6.1,3.0,7.7',\n",
       " 'virginica,2.4,5.6,3.4,6.3',\n",
       " 'virginica,1.8,5.5,3.1,6.4',\n",
       " 'virginica,1.8,4.8,3.0,6.0',\n",
       " 'virginica,2.1,5.4,3.1,6.9',\n",
       " 'virginica,2.4,5.6,3.1,6.7',\n",
       " 'virginica,2.3,5.1,3.1,6.9',\n",
       " 'virginica,1.9,5.1,2.7,5.8',\n",
       " 'virginica,2.3,5.9,3.2,6.8',\n",
       " 'virginica,2.5,5.7,3.3,6.7',\n",
       " 'virginica,2.3,5.2,3.0,6.7',\n",
       " 'virginica,1.9,5.0,2.5,6.3',\n",
       " 'virginica,2.0,5.2,3.0,6.5',\n",
       " 'virginica,2.3,5.4,3.4,6.2',\n",
       " 'virginica,1.8,5.1,3.0,5.9']"
      ]
     },
     "execution_count": 124,
     "metadata": {},
     "output_type": "execute_result"
    }
   ],
   "source": [
    "[strip_iris.sub(r'\\5,\\4,\\3,\\2,\\1', line) for line in iris if line]"
   ]
  },
  {
   "cell_type": "code",
   "execution_count": null,
   "id": "64107e09",
   "metadata": {},
   "outputs": [],
   "source": []
  }
 ],
 "metadata": {
  "kernelspec": {
   "display_name": "Python 3 (ipykernel)",
   "language": "python",
   "name": "python3"
  },
  "language_info": {
   "codemirror_mode": {
    "name": "ipython",
    "version": 3
   },
   "file_extension": ".py",
   "mimetype": "text/x-python",
   "name": "python",
   "nbconvert_exporter": "python",
   "pygments_lexer": "ipython3",
   "version": "3.9.7"
  }
 },
 "nbformat": 4,
 "nbformat_minor": 5
}
