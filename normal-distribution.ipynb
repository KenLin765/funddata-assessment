{
 "cells": [
  {
   "cell_type": "markdown",
   "id": "b996bc95",
   "metadata": {},
   "source": [
    "# Normal Distribution"
   ]
  },
  {
   "cell_type": "markdown",
   "id": "4690ef01",
   "metadata": {},
   "source": [
    "This is the probability density function in latex."
   ]
  },
  {
   "cell_type": "markdown",
   "id": "e91ab80c",
   "metadata": {},
   "source": [
    "$ \\frac{1} {\\sigma \\sqrt { 2 \\pi }} e -\\frac{1}{2}  (\\frac{ x - \\mu } {\\sigma})^2 \\\\[1ex] $ "
   ]
  },
  {
   "cell_type": "code",
   "execution_count": 5,
   "id": "43281f49",
   "metadata": {},
   "outputs": [],
   "source": [
    "import numpy as np\n",
    "import matplotlib.pyplot as plt\n",
    "from scipy.stats import norm\n",
    "from scipy.stats import binom\n",
    "from scipy import stats"
   ]
  },
  {
   "cell_type": "markdown",
   "id": "857e5a63",
   "metadata": {},
   "source": [
    "A Normal Distribution is also known as a Gaussian distribution or famously Bell Curve. People use both words interchangeably, but it means the same thing. It is a continuous probability distribution.[1]\n",
    "\n",
    "I firstly used numpy random to draw random samples from a normal (Gaussian) distribution. The probability density function of the normal distribution, first derived by De Moivre and 200 years later by both Gauss and Laplace independently, is often called the bell curve because of its characteristic shape (see the example below).The normal distributions occurs often in nature. For example, it describes the commonly occurring distribution of samples influenced by a large number of tiny, random disturbances, each with its own unique distribution [2]."
   ]
  },
  {
   "cell_type": "markdown",
   "id": "3393ed1a",
   "metadata": {},
   "source": [
    "Probability Density Function for Gaussian distribution in Latex:"
   ]
  },
  {
   "cell_type": "markdown",
   "id": "519fcf26",
   "metadata": {},
   "source": [
    "$ p(x) = \\frac{1} {\\sqrt { 2 \\pi \\sigma^2 }} e - (\\frac{ (x - \\mu) ^2 } {2\\sigma^2}) \\\\[1ex] $ "
   ]
  },
  {
   "cell_type": "code",
   "execution_count": 11,
   "id": "95aee7a8",
   "metadata": {},
   "outputs": [
    {
     "name": "stdout",
     "output_type": "stream",
     "text": [
      "[-5.72491126e-02 -4.08048716e-02  6.26461483e-02 -1.67179429e-01\n",
      "  5.66310444e-02  1.36068921e-02  9.96917975e-02 -3.53372859e-02\n",
      " -7.17544691e-02  3.45388386e-02 -1.43403621e-01  1.05727427e-01\n",
      "  3.78052872e-02  8.78765079e-03  1.11747658e-01 -3.77508603e-02\n",
      "  6.74064387e-02 -4.13510093e-02  4.30687390e-02 -6.53710906e-02\n",
      " -1.12613283e-03 -1.04008980e-01  4.68519177e-02 -1.17923454e-02\n",
      "  1.36707256e-01  1.78398297e-01 -4.00827652e-02  2.20823713e-02\n",
      "  1.20661757e-01 -2.96376097e-02 -6.43366773e-02 -2.82714466e-01\n",
      " -2.68384972e-02  5.12850051e-02 -8.39838336e-02  7.35495824e-02\n",
      "  2.43601616e-01  1.64556643e-01 -9.16176332e-02 -5.20009148e-02\n",
      "  2.31677527e-01 -1.67665848e-01  7.81149864e-02  8.64955920e-02\n",
      " -1.98974358e-01  1.03588155e-01 -7.77799401e-02  5.31921827e-02\n",
      " -4.96860482e-02  2.05254243e-01  1.99950032e-01  2.00528690e-02\n",
      "  3.78242225e-02 -5.38279759e-02  1.77762864e-02 -4.19716921e-02\n",
      "  2.76179720e-02 -2.30539216e-03  5.63651521e-02 -5.18375237e-02\n",
      "  8.91402456e-02 -2.55677111e-02 -1.97904104e-02  1.20399450e-01\n",
      " -2.19861369e-02 -7.70866766e-02 -1.89274161e-01  1.73967689e-01\n",
      "  5.03917060e-02  5.42392412e-02 -1.00385735e-01 -2.37616446e-02\n",
      " -5.71896783e-02 -1.89240046e-01 -4.35538054e-02 -1.45670265e-01\n",
      " -1.17099008e-02  1.02040824e-02  3.84900099e-02  2.35932115e-02\n",
      " -2.75540481e-02  7.99467197e-02  3.14494130e-02  7.75898493e-03\n",
      "  2.01341274e-02 -4.33338057e-02 -6.33691107e-02  4.76471215e-02\n",
      "  1.00240011e-01 -4.63801694e-02 -7.99560940e-02  1.70543254e-02\n",
      " -5.56373611e-02  7.79229520e-02 -3.77443054e-02  3.99770263e-02\n",
      "  2.68204660e-01 -2.70485246e-03  5.93956760e-02 -1.77463976e-02\n",
      "  6.16572387e-02 -1.69523181e-02  2.12496388e-01 -1.88200995e-02\n",
      " -3.98674227e-02  1.28232657e-02 -1.94677223e-01  9.18164390e-03\n",
      "  1.10713822e-02  2.38769539e-02 -5.07217685e-02  1.50566987e-01\n",
      "  1.17920505e-01 -6.62772374e-02 -1.13508211e-01 -1.73736915e-02\n",
      "  1.52275498e-01  8.37123753e-02  8.09118109e-02  2.18530770e-02\n",
      " -4.92740915e-02  2.81148657e-02  2.01782142e-01  1.03911779e-01\n",
      "  1.16213172e-01  7.86902786e-05  1.57571758e-01 -2.13253685e-01\n",
      "  2.37105295e-01 -1.03692165e-01  5.28723229e-02  3.92894460e-02\n",
      " -5.75451686e-02 -8.64283251e-02 -1.16688238e-01  1.31947911e-01\n",
      " -2.20342178e-02 -1.81356355e-01 -6.13980348e-02  4.52691408e-02\n",
      "  2.96553953e-02  5.96746556e-02 -1.05912892e-01  8.84345876e-02\n",
      "  5.57025118e-02  2.60723909e-02 -1.39901674e-01  1.22441201e-01\n",
      " -8.65791504e-02  3.72240314e-02  2.35764351e-02  9.50978153e-02\n",
      "  4.97086011e-02  1.01285295e-01  7.68352311e-02 -1.09538878e-01\n",
      " -1.31617107e-01  3.44203405e-02 -8.66419838e-03 -9.69684939e-02\n",
      " -4.33637786e-02  5.09355374e-02 -6.21258473e-02  3.46775592e-02\n",
      " -1.22877457e-01  5.35369666e-02 -5.91561493e-02  1.72211048e-01\n",
      "  1.31888353e-01  8.10073936e-02 -1.12359251e-01 -1.00425312e-01\n",
      "  3.02986341e-02  1.20422520e-01 -8.23280858e-02 -1.91294729e-01\n",
      " -6.37148981e-04  1.06101118e-01  9.46162227e-02  7.18739882e-02\n",
      " -3.57088632e-02 -1.57444321e-01  8.88759778e-04 -2.33019580e-02\n",
      " -4.45462931e-02  5.16800558e-02 -3.41672989e-02  8.65961339e-03\n",
      " -6.71307205e-02 -1.80107146e-02 -1.79826474e-01 -1.76704863e-03\n",
      " -1.58928926e-01  7.32407299e-02  9.43481950e-02  1.59950653e-01\n",
      "  6.37133340e-02  1.02909443e-01 -8.40076566e-03 -9.02820376e-03\n",
      " -4.13411665e-02 -1.23036436e-01  6.42184373e-02  1.52112689e-01\n",
      "  3.52090568e-02 -8.67294876e-02  6.82688048e-03  5.28209903e-03\n",
      "  5.38027337e-02 -9.73106904e-02 -4.68520913e-02 -1.38202089e-01\n",
      "  5.33791276e-02  4.48755490e-02  1.05833112e-02 -5.32908568e-02\n",
      "  2.78345587e-03  5.61271710e-02 -1.78518548e-01 -3.27986591e-02\n",
      "  1.31607251e-01  4.88792112e-02 -2.10522222e-02 -6.43561607e-02\n",
      " -5.44906122e-02 -4.49191740e-02  5.34121018e-02 -1.18072782e-01\n",
      " -9.44096946e-02 -5.94662037e-02 -2.41702279e-02 -9.44628460e-02\n",
      "  4.15374053e-02 -2.82999028e-02  9.96552270e-02 -5.94929109e-03\n",
      " -1.72315448e-02 -4.52290345e-02 -1.88820236e-01  2.75120151e-02\n",
      "  9.45908836e-02  5.69632639e-02  1.81710891e-01 -9.18325000e-03\n",
      " -8.18633359e-02  1.33135727e-02  3.94036172e-02 -2.06529779e-02\n",
      "  6.82656872e-03  8.13347141e-02 -9.16278760e-02 -5.95648460e-02\n",
      " -8.52395287e-02 -9.12415360e-02  9.03119982e-04 -4.79468960e-02\n",
      " -8.52732755e-02 -1.74199286e-02 -4.88974250e-02 -7.16788012e-02\n",
      "  6.33199196e-02 -1.58537894e-01 -1.58633074e-02  1.86170043e-01\n",
      "  1.48286508e-01  1.09292958e-01 -4.29880753e-02  3.92813800e-02\n",
      " -4.89908746e-02  1.14971038e-01  6.72610074e-02 -6.77876595e-02\n",
      "  4.05788931e-02  1.37757118e-01 -1.53872002e-01 -7.20991663e-02\n",
      "  8.80831369e-02 -1.39425211e-02  1.41697739e-01  4.22060783e-02\n",
      "  4.21995093e-02  8.15755310e-03 -2.77134391e-02 -7.40107466e-02\n",
      " -2.69190330e-02 -5.75626008e-02  5.18055436e-02  1.05474211e-01\n",
      " -6.58198175e-02  9.29663170e-03 -2.40568744e-02  4.18978096e-02\n",
      " -1.55371834e-01  1.11631731e-01  7.52850865e-02  1.22645185e-01\n",
      " -6.17970078e-02 -3.46007508e-02  2.40054588e-04 -1.08389142e-02\n",
      " -1.68310715e-01 -1.23511917e-01 -4.69073334e-02  4.58306795e-02\n",
      "  4.35540309e-02 -7.14664246e-02 -1.71364018e-01  1.66225800e-02\n",
      "  3.87102952e-02  5.68938252e-02  4.78376197e-02  1.24384005e-01\n",
      " -2.94190489e-01  8.81668801e-02 -3.66674180e-02  1.49050744e-02\n",
      "  1.53440297e-01 -1.61702010e-01  1.76322064e-01  5.53409339e-02\n",
      " -8.04593387e-02  6.20073427e-02  4.17831474e-02  1.04709151e-01\n",
      "  6.49273292e-02  5.26644653e-02  6.94187496e-03 -1.02031465e-01\n",
      " -1.70186137e-01 -7.50858419e-02  1.89112550e-03 -1.61389084e-01\n",
      " -1.23309800e-01 -1.04264765e-01  3.83431409e-02 -1.10331403e-01\n",
      "  6.62558677e-02 -2.01851849e-01 -3.01506433e-02  1.22294692e-02\n",
      " -1.20236680e-01  2.23691649e-02 -9.71590988e-02  2.05225102e-02\n",
      "  6.63064380e-02  8.95254179e-03  8.98750880e-02  7.95326110e-02\n",
      " -1.27685770e-01 -4.55519647e-02  4.78098835e-02 -5.69522817e-02\n",
      " -4.18385434e-02 -1.50528128e-01 -2.19165262e-01  1.03679078e-02\n",
      " -2.43170331e-02  9.73427927e-03 -1.73971194e-01 -2.72853595e-02\n",
      " -1.03798412e-01 -1.89792141e-01 -2.27054374e-01  1.03107645e-02\n",
      " -8.68105708e-02 -1.91710807e-01  1.33304542e-01 -4.57273469e-03\n",
      "  3.23785622e-02 -8.78765570e-02  7.71620109e-02 -4.97046535e-02\n",
      "  3.80772118e-02  8.37166245e-02 -1.42811436e-01  3.00244695e-02\n",
      "  8.92450178e-02 -4.59854172e-02 -8.30283354e-02 -1.24235772e-01\n",
      "  3.77618687e-02  6.48889393e-02  4.29597618e-04 -4.02879071e-02\n",
      " -1.15060869e-01  1.92881524e-01  2.98160904e-01  7.60946224e-03\n",
      "  6.43334472e-02  1.16861651e-01  1.04120304e-03  7.57446329e-02\n",
      " -1.41802218e-01  5.19897892e-02 -1.71172005e-01  1.25014637e-01\n",
      " -6.71676340e-02  1.10165281e-01 -6.22125253e-03 -3.48526688e-01\n",
      " -6.58859320e-02  1.94299219e-01  1.61074587e-02  1.25986688e-01\n",
      " -7.60934282e-02 -6.80255337e-02 -1.09819350e-01 -4.88352753e-02\n",
      "  1.53843871e-01  1.23689755e-01 -3.84291952e-02  1.31174649e-03\n",
      " -1.72788607e-01 -4.38067032e-03 -1.19690637e-01  1.14843267e-01\n",
      "  7.27308391e-02  3.53791954e-02 -4.90400178e-02 -1.45213893e-01\n",
      " -2.27737014e-02  1.14415053e-01 -1.86070858e-01  1.90180185e-02\n",
      "  5.66279451e-03 -5.32825048e-02 -8.01459948e-02  2.47435153e-01\n",
      " -7.52064906e-02  1.15881980e-01 -3.10233043e-02  7.35544718e-02\n",
      " -3.81062068e-02  6.12246189e-02  1.76643697e-01 -1.18500522e-01\n",
      "  2.10358442e-01 -2.84401518e-02  4.03097202e-02  1.25159905e-01\n",
      " -7.21057383e-02  1.43605938e-01 -1.84976124e-01 -8.03368473e-02\n",
      " -2.43682287e-02  2.12391955e-02 -6.49041747e-02 -6.09667069e-02\n",
      " -4.35973202e-02  2.02125754e-02 -1.44718412e-01  4.45733979e-02\n",
      " -8.18016426e-02 -2.93260507e-03 -6.73498796e-02 -1.79023876e-01\n",
      "  5.90662646e-02 -9.47074874e-03 -3.71318296e-02  6.60610646e-02\n",
      " -7.07258075e-02  2.07558476e-02  3.09056942e-01 -2.13768535e-02\n",
      "  2.17461326e-01 -5.48042055e-02 -1.32081424e-01 -1.73664904e-01\n",
      " -2.94490782e-02  3.68252272e-02  4.83715800e-02 -2.77877202e-02\n",
      " -8.05489821e-02 -2.24399737e-01  9.97898552e-02 -4.66639133e-02\n",
      "  3.15261441e-02 -3.23570730e-02 -5.61289001e-02  1.12449633e-01\n",
      " -6.70180767e-02 -1.00540201e-01 -6.77692396e-02  1.78181176e-01\n",
      " -2.39811922e-02  9.02876708e-02 -8.91580566e-02 -6.11034647e-02\n",
      " -6.55489289e-02  8.88087891e-02  2.22772513e-02  7.39060962e-02\n",
      "  2.90035906e-02 -1.15359029e-01 -1.20576977e-01  1.16724506e-01\n",
      " -2.76965995e-02  9.24192045e-02 -6.61795895e-04 -8.94256709e-02\n",
      " -1.18735903e-01 -2.03243535e-02 -1.34049620e-02 -1.81015320e-01\n",
      " -9.38050739e-02 -2.90275101e-02  2.90344729e-02 -2.53630504e-02\n",
      " -1.82268194e-01  1.44477714e-02 -9.92892603e-02 -9.13119947e-02\n",
      " -1.19774765e-02  1.20761703e-02  1.13883085e-01 -2.43411884e-02\n",
      "  8.34133383e-02  7.85472967e-02  2.01549085e-02  1.60234994e-01\n",
      " -6.93630014e-02 -1.07297152e-01  2.59908982e-01 -4.96192815e-02\n",
      " -1.84089153e-01 -3.94958481e-02  2.75348986e-02 -4.77076919e-02\n",
      "  1.84999980e-02 -6.06169794e-02  2.39494724e-01  1.19697324e-01\n",
      " -1.04206666e-01 -1.04743298e-01 -1.18893031e-01  2.37416233e-02\n",
      " -4.55138291e-02 -1.73041924e-01 -6.76867673e-02  8.93970835e-02\n",
      "  9.38792804e-02  1.83521319e-02 -1.11622633e-01 -1.26241883e-01\n",
      " -1.42895548e-01  1.29409602e-03 -8.25041301e-03  6.71737232e-02\n",
      "  1.97673677e-01 -6.61118149e-02 -7.21873675e-02  4.42114963e-02\n",
      "  4.53712477e-02 -4.54248692e-02 -1.60601682e-02  9.39570582e-02\n",
      "  2.33157130e-01 -9.85740087e-02  1.45486315e-01 -7.44921452e-02\n",
      " -9.01994164e-02 -4.19053553e-02 -7.59936619e-03  6.45734489e-02\n",
      " -2.15641560e-02  8.93122176e-03 -2.54877500e-02  8.71518813e-02\n",
      "  5.70216891e-02 -5.73896271e-02  1.31282440e-01 -2.24628108e-02\n",
      " -6.54642906e-02  1.01822370e-01 -7.92821681e-03  2.96971346e-02\n",
      " -9.83336281e-02 -9.10075999e-02 -1.61309880e-01 -1.09345940e-01\n",
      " -2.46059745e-01 -7.76756983e-02  2.46513042e-02 -1.37962829e-02\n",
      " -3.66894528e-02 -3.53119821e-03  2.53422431e-02 -6.49397662e-02\n",
      " -1.04656088e-01  1.58311078e-03  1.06175778e-02 -6.35167481e-02\n",
      "  8.99207983e-02 -4.20090545e-02 -3.42038286e-01 -1.11662545e-01\n",
      "  1.97791314e-02  1.66521799e-01  1.14067602e-01  6.59295519e-02\n",
      " -1.40524795e-01  6.09633662e-02 -5.98725413e-02 -5.09254296e-02\n",
      " -2.06835488e-01  7.49909375e-02  2.49635053e-02 -7.75823502e-02\n",
      " -1.29800046e-01 -1.46184165e-01  1.36791135e-01  2.30508277e-01\n",
      "  1.21150170e-02  4.86444944e-02 -6.34201649e-02  1.96959125e-03\n",
      "  1.31397266e-01 -2.91704074e-02 -5.55210125e-02  1.76056472e-02\n",
      " -4.23314866e-03  1.03499639e-01  1.31241452e-01  1.08765021e-01\n",
      " -7.10681835e-02  1.75964863e-03  1.11074617e-01  3.67168818e-02\n",
      " -1.00687890e-01 -1.68592828e-02  2.11543164e-02  6.43609190e-03\n",
      "  2.43640191e-02 -4.45709071e-02  1.26566112e-01 -1.13697594e-01\n",
      "  6.38441739e-02  8.63090691e-02  1.11717996e-01 -3.84527927e-02\n",
      "  5.15367617e-02 -1.70001977e-01 -2.21854278e-02 -4.17566679e-02\n",
      "  8.71526961e-02 -1.06432504e-01  1.78286417e-01 -1.58379905e-01\n",
      "  8.60658635e-02  1.14178105e-01 -5.47201050e-02 -1.03200891e-01\n",
      " -1.36596298e-01 -1.71627022e-01 -7.37133527e-02  6.56600762e-03\n",
      "  6.97445435e-02  1.68962657e-02  6.62104453e-03  1.44586024e-02\n",
      "  3.56686728e-02 -3.78919667e-02 -6.19282288e-02  5.15127513e-02\n",
      "  1.54578248e-03 -7.43966778e-02  4.19940825e-02 -6.59659198e-02\n",
      " -7.18788863e-02  2.29351156e-01 -5.44262693e-02 -5.02377867e-03\n",
      "  2.65312608e-01 -2.12452304e-01 -2.30380540e-01 -3.62411760e-02\n",
      "  2.81036404e-02 -1.77794533e-01 -1.97067291e-01 -1.22606778e-01\n",
      " -2.22116739e-02  4.22872326e-02 -1.75429319e-02 -3.69814110e-02\n",
      " -1.56915172e-01 -2.73732569e-02 -4.53625521e-02  7.14669730e-02\n",
      " -9.27123289e-02 -1.12488128e-01  1.10132615e-02 -4.02433827e-02\n",
      "  8.83445598e-02 -4.35066204e-02  1.37685288e-01  2.30560870e-02\n",
      "  1.39427070e-01  2.32175867e-02 -6.85986667e-02 -5.85216296e-02\n",
      " -4.81554013e-02  6.49401609e-02 -5.03220485e-02  8.75685409e-02\n",
      " -1.54952555e-01 -2.52245148e-02  8.82627342e-02 -2.58130852e-02\n",
      "  9.41825122e-02 -1.12282113e-01 -7.61242047e-02 -5.24827870e-02\n",
      " -1.52271792e-01  1.92414598e-01 -1.83362856e-02 -8.27037123e-02\n",
      " -1.54517022e-02 -1.04852658e-01 -3.09326868e-02 -2.10465666e-02\n",
      "  1.71742341e-01 -1.64109058e-01  8.02244662e-02  4.21107607e-02\n",
      "  4.80944292e-02 -5.52545219e-02 -8.33426208e-02  1.90826251e-02\n",
      "  2.33846127e-02 -5.79474867e-02 -1.82932490e-02  6.99191961e-02\n",
      "  5.20475067e-02  2.70465267e-02  1.24060226e-01  1.01057815e-01\n",
      "  9.43286276e-02 -1.23466000e-01  8.55698704e-03 -1.86258787e-01\n",
      " -7.63923751e-03  1.75914881e-01  7.27678629e-02 -3.85913330e-02\n",
      "  3.04912037e-02 -1.49793207e-01  1.55086912e-01  1.25651667e-02\n",
      " -3.68320857e-02  1.05231304e-01 -2.05659610e-01 -4.45189941e-02\n",
      "  6.00151103e-02  1.64869700e-02 -1.00655551e-01  9.17898648e-02\n",
      "  3.75817672e-03  1.06667106e-01 -7.81367821e-02 -7.45409635e-02\n",
      " -9.56044732e-02  7.99756615e-02  1.02054760e-01  1.97892735e-02\n",
      "  2.89832330e-03  2.77499945e-02 -3.98078008e-02  6.81978874e-02\n",
      " -4.04291697e-02 -1.19205498e-01  7.66919242e-03  8.88784176e-02\n",
      "  1.39057071e-01  9.47832826e-02 -7.98435180e-02  2.56496472e-01\n",
      " -3.25596496e-04 -1.38322856e-01 -1.04092984e-01 -8.26216390e-02\n",
      " -3.93437768e-02  9.29142341e-02  9.06014893e-02  6.47001200e-02\n",
      " -7.20106107e-02 -7.65635619e-02 -2.45784803e-03 -8.65922228e-02\n",
      " -4.10223712e-02 -3.94572521e-02 -5.68084779e-02  7.73529538e-02\n",
      " -1.85220264e-02 -1.76570399e-01  1.89689178e-01  6.38263939e-02\n",
      "  8.52395714e-02  1.29277127e-01 -5.75638333e-02 -5.41693825e-02\n",
      " -7.60728996e-02  1.02953104e-01  1.12817231e-01 -8.22877125e-02\n",
      " -5.97746942e-02  2.16620749e-02  6.55314575e-02  1.19944391e-01\n",
      " -1.46940172e-02  8.82480701e-02  1.38691794e-01 -3.48198074e-02\n",
      " -3.89992664e-03  1.36184601e-01 -1.80375321e-01 -1.86160345e-01\n",
      " -1.20029168e-02 -2.36709384e-02  1.16615200e-01  3.32378916e-03\n",
      " -5.34058772e-02  8.05054157e-03 -1.61148145e-01  8.21389053e-02\n",
      " -6.81484264e-02  3.28003059e-02  8.39574114e-02 -1.41485407e-01\n",
      "  1.06781303e-01  9.02087279e-02 -1.22593840e-03 -2.49926924e-02\n",
      "  5.54411869e-02  1.44731193e-01  8.97469951e-02 -6.06961093e-02\n",
      " -4.10583199e-02 -4.81692859e-02 -6.59576660e-02  1.33317605e-01\n",
      " -1.90906395e-02 -1.59474849e-01  8.85082927e-02  1.05177902e-01\n",
      " -1.01360043e-01 -7.65235164e-02 -2.76479514e-02 -9.78244369e-02\n",
      "  1.14379476e-01  1.06948271e-01  9.03209544e-02 -1.16797217e-01\n",
      "  1.06823929e-01 -2.49150358e-01 -1.09420529e-01  5.32268898e-02\n",
      "  1.91318349e-01  1.53907873e-01  4.72100568e-02  2.95583708e-01\n",
      "  8.94286237e-02 -5.22004338e-02  3.17509739e-02 -1.14985242e-01\n",
      " -2.75148989e-02  1.38665977e-01 -1.64826014e-02 -1.21436724e-01\n",
      " -1.06307271e-01 -1.08372993e-01 -2.84410617e-02  9.44681635e-02\n",
      " -1.17063817e-01  3.11713710e-02  1.49229867e-01 -2.34390472e-01\n",
      " -3.86953629e-02  3.89102290e-02  6.08334549e-03  8.31286605e-02\n",
      "  8.22150913e-02  2.79921083e-02 -1.02820976e-01 -6.78851785e-02\n",
      "  2.57455454e-02  9.90638367e-02 -1.37197516e-01  8.18997172e-02\n",
      " -8.89049793e-02  9.67755909e-02 -2.12274936e-01 -5.48435212e-02\n",
      " -7.21979166e-03 -8.58171242e-02 -2.53360530e-02 -5.03929123e-02\n",
      "  3.98129136e-02  2.31412997e-01  3.11103509e-02  3.31543196e-01\n",
      " -6.27547357e-02 -1.85610970e-01 -1.33632364e-01  8.29485419e-02\n",
      " -1.27536912e-01  2.89598885e-02  2.70014714e-02 -7.30864130e-02\n",
      "  2.48177515e-02  8.16453015e-02  4.52537594e-02 -3.97694949e-02\n",
      "  5.22481718e-02 -1.45631782e-01 -1.99065193e-01  1.10717775e-01\n",
      " -1.98434064e-01  9.47631317e-02  8.55686610e-02 -1.08918380e-01\n",
      " -5.53591958e-02  6.73280297e-02  7.11306715e-02  9.95254568e-02\n",
      " -4.53763194e-02 -7.55682569e-02 -1.55014148e-01 -1.07626941e-01\n",
      " -1.76697909e-02  1.71927016e-02 -3.48615124e-02  4.00297516e-02\n",
      " -7.84878072e-02  1.50597845e-01  6.94788691e-02  1.22656670e-01\n",
      "  2.79426970e-02 -1.33833281e-01 -8.41275711e-02 -2.16589617e-01\n",
      " -1.91612964e-01  7.25043147e-02  5.07074648e-02  1.12653660e-01\n",
      " -9.99481943e-02 -3.21922456e-02  4.95958424e-02  2.38316293e-03\n",
      "  5.66151508e-02  5.51243213e-02 -1.40384355e-02  6.60474864e-02\n",
      "  8.53668994e-02 -2.48938952e-02 -1.13775198e-01  6.91454667e-02\n",
      " -4.97017583e-02 -1.33591004e-01  7.18757023e-02 -4.43486909e-02\n",
      "  1.79342672e-01  3.06320669e-02 -1.35165098e-02  1.68877146e-01\n",
      " -9.23729374e-02  7.94818316e-02 -2.16732290e-01 -8.72487777e-02\n",
      " -1.32391869e-01 -6.02675340e-02 -1.29241472e-03  8.56952013e-03\n",
      "  9.63814014e-02 -1.50944387e-01  1.67540045e-01 -7.37031646e-02\n",
      "  1.02632513e-01 -4.55131598e-02  6.24565783e-02  9.26763053e-02\n",
      " -1.56054912e-01  4.29555364e-02 -6.56171178e-02  1.34074131e-01\n",
      " -2.86269522e-02  3.18684333e-02  5.99948190e-02 -7.17230477e-02\n",
      "  4.98444237e-02 -3.59021389e-02  4.23059359e-02  5.27333700e-02\n",
      " -2.10159309e-02 -2.78689963e-02  1.28388448e-01  5.11022413e-02\n",
      "  5.78652823e-02  9.35624364e-03  9.06361893e-02  6.60664495e-02]\n"
     ]
    }
   ],
   "source": [
    "mu, sigma = 0, 0.1 # mean and standard deviation\n",
    "s = np.random.normal(mu, sigma, 1000)\n",
    "## generates a hundred numbers based on sigma\n",
    "\n",
    "print (s)"
   ]
  },
  {
   "cell_type": "code",
   "execution_count": 12,
   "id": "afcafa22",
   "metadata": {},
   "outputs": [
    {
     "data": {
      "text/plain": [
       "0.0036791226065646053"
      ]
     },
     "execution_count": 12,
     "metadata": {},
     "output_type": "execute_result"
    }
   ],
   "source": [
    "abs(mu - np.mean(s))\n",
    "\n",
    "## abs returns the absolute value of the specified number\n",
    "\n",
    "## verifies the mean and the variance of the numbers above"
   ]
  },
  {
   "cell_type": "code",
   "execution_count": 13,
   "id": "f5d27ada",
   "metadata": {},
   "outputs": [
    {
     "data": {
      "text/plain": [
       "0.0004326913127604276"
      ]
     },
     "execution_count": 13,
     "metadata": {},
     "output_type": "execute_result"
    }
   ],
   "source": [
    "abs(sigma - np.std(s, ddof=1))\n",
    "\n",
    "## ddof=1 provides an unbiased estimator of the variance of the infinite population.\n",
    "\n",
    "## generates the sigma - standard deviation "
   ]
  },
  {
   "cell_type": "code",
   "execution_count": 17,
   "id": "757f4a85",
   "metadata": {},
   "outputs": [
    {
     "data": {
      "image/png": "[encoded data removed]",
      "text/plain": [
       "<Figure size 432x288 with 1 Axes>"
      ]
     },
     "metadata": {
      "needs_background": "light"
     },
     "output_type": "display_data"
    }
   ],
   "source": [
    "## code adapted from https://numpy.org/doc/stable/reference/random/generated/numpy.random.normal.html\n",
    "\n",
    "count, bins, ignored = plt.hist(s, 20, density=True)\n",
    "plt.plot(bins, 1/(sigma * np.sqrt(2 * np.pi)) *\n",
    "               np.exp( - (bins - mu)**2 / (2 * sigma**2) ),\n",
    "         ## standard deviation formula based on the latex formula from above\n",
    "         linewidth=2, color='g')\n",
    "plt.show()"
   ]
  },
  {
   "cell_type": "markdown",
   "id": "b26ed82c",
   "metadata": {},
   "source": [
    "This will display a histogram of the samples in the probability density function.\n",
    "\n",
    "It looks like a bell curve based on the formula which we used above based on the derivation by De Moivre."
   ]
  },
  {
   "cell_type": "markdown",
   "id": "dc7d59f8",
   "metadata": {},
   "source": [
    "## Scipy stats and comparing a Normal and Frozen CDF \n",
    "\n",
    "There is also a built in scipy variable that I will also investigate further. Scipy allows you to shift and/or scale the distribution use the loc and scale parameters and then test whether the values will result in a normal distribution. \n",
    "\n",
    "The below example uses Percent-Point Function (PPF) and allows us to compare it to the Cumulative Distribution Function (CDF).\n",
    "\n",
    "Cumulative Distribution Function (CDF) is used to describe the probability distribution of random variables. It can be used to describe the probability for a discrete, continuous or mixed variable. It is obtained by summing up the probability density function and getting the cumulative probability for a random variable. [4]\n",
    "\n",
    "Probability Point Function or PPF is the inverse of the CDF which is why it is being used in the example below but I will quickly explain what it is used for.The probability density function is a derivative of the distribution function, which characterizes the density with which the values of the random variable are distributed at a given point. [5]\n",
    "\n",
    "The example below shows us how valuable scipy is for developing graphs and how built in functions allow us to test whether the graph has a normal CDF."
   ]
  },
  {
   "cell_type": "code",
   "execution_count": 55,
   "id": "28681154",
   "metadata": {},
   "outputs": [
    {
     "data": {
      "text/plain": [
       "[<matplotlib.lines.Line2D at 0x1b3f510ec10>]"
      ]
     },
     "execution_count": 55,
     "metadata": {},
     "output_type": "execute_result"
    },
    {
     "data": {
      "image/png": "[encoded data removed]",
      "text/plain": [
       "<Figure size 432x288 with 1 Axes>"
      ]
     },
     "metadata": {
      "needs_background": "light"
     },
     "output_type": "display_data"
    }
   ],
   "source": [
    "## code adapted from https://docs.scipy.org/doc/scipy/reference/generated/scipy.stats.norm.html\n",
    "\n",
    "fig, ax = plt.subplots(1, 1)\n",
    "\n",
    "## creates a plot\n",
    "\n",
    "mean, var, skew, kurt = norm.stats(moments='mvsk')\n",
    "\n",
    "## Takes the first 4 moments\n",
    "\n",
    "x = np.linspace(norm.ppf(0.02),\n",
    "                norm.ppf(0.99), 50)\n",
    "ax.plot(x, norm.pdf(x),\n",
    "       'r-', lw=5, alpha=0.9, label='norm pdf')\n",
    "\n",
    "## Displays the PDF\n",
    "\n",
    "## alpha changes the thickness and colour of line, 0.9 makes line thicker"
   ]
  },
  {
   "cell_type": "code",
   "execution_count": 35,
   "id": "fa71c22d",
   "metadata": {},
   "outputs": [
    {
     "data": {
      "text/plain": [
       "[<matplotlib.lines.Line2D at 0x1b3f54549d0>]"
      ]
     },
     "execution_count": 35,
     "metadata": {},
     "output_type": "execute_result"
    },
    {
     "data": {
      "image/png": "[encoded data removed]",
      "text/plain": [
       "<Figure size 432x288 with 1 Axes>"
      ]
     },
     "metadata": {
      "needs_background": "light"
     },
     "output_type": "display_data"
    }
   ],
   "source": [
    "## code adapted from https://docs.scipy.org/doc/scipy/reference/generated/scipy.stats.norm.html\n",
    "\n",
    "fig, ax = plt.subplots(1, 1)\n",
    "\n",
    "mean, var, skew, kurt = norm.stats(moments='mvsk')\n",
    "\n",
    "x = np.linspace(norm.ppf(0.02),\n",
    "                norm.ppf(0.99), 50)\n",
    "\n",
    "rv = norm()\n",
    "ax.plot(x, rv.pdf(x), 'k-', lw=2, label='frozen pdf')"
   ]
  },
  {
   "cell_type": "code",
   "execution_count": 24,
   "id": "1d30fcb3",
   "metadata": {},
   "outputs": [
    {
     "data": {
      "text/plain": [
       "True"
      ]
     },
     "execution_count": 24,
     "metadata": {},
     "output_type": "execute_result"
    }
   ],
   "source": [
    "\n",
    "## This will check the accuracy\n",
    "vals = norm.ppf([0.001, 0.5, 0.999])\n",
    "np.allclose([0.001, 0.5, 0.999], norm.cdf(vals))\n",
    "\n",
    "## np.allcose returnst rue if two arrays are element-wise equal within a tolerance."
   ]
  },
  {
   "cell_type": "code",
   "execution_count": 50,
   "id": "ce30a9b7",
   "metadata": {},
   "outputs": [
    {
     "data": {
      "text/plain": [
       "False"
      ]
     },
     "execution_count": 50,
     "metadata": {},
     "output_type": "execute_result"
    }
   ],
   "source": [
    "## This will check the accuracy\n",
    "vals = norm.ppf([0.12, 0.8, 0.991])\n",
    "np.allclose([0.001, 0.5, 0.999], norm.cdf(vals))"
   ]
  },
  {
   "cell_type": "code",
   "execution_count": 16,
   "id": "fb4e475c",
   "metadata": {},
   "outputs": [
    {
     "data": {
      "image/png": "[encoded data removed]",
      "text/plain": [
       "<Figure size 432x288 with 1 Axes>"
      ]
     },
     "metadata": {
      "needs_background": "light"
     },
     "output_type": "display_data"
    }
   ],
   "source": [
    "fig, ax = plt.subplots(1, 1)\n",
    "\n",
    "mean, var, skew, kurt = norm.stats(moments='mvsk')\n",
    "\n",
    "x = np.linspace(norm.ppf(0.01),\n",
    "                norm.ppf(0.99), 100)\n",
    "ax.plot(x, norm.pdf(x),\n",
    "       'r-', lw=5, alpha=0.6, label='norm pdf')\n",
    "\n",
    "rv = norm()\n",
    "ax.plot(x, rv.pdf(x), 'k-', lw=4, label='frozen pdf')\n",
    "\n",
    "r = norm.rvs(scale = 1, size=10000)\n",
    "## norm.rvs generates random normal distribution numbers according to the scale which is the standard deviation\n",
    "\n",
    "ax.hist(r, density=True, alpha=0.2)\n",
    "ax.legend(loc='best', frameon=False)\n",
    "plt.show()\n"
   ]
  },
  {
   "cell_type": "markdown",
   "id": "2a2c5332",
   "metadata": {},
   "source": [
    "## Normal distribution PDF with multiple standard deviations\n",
    "\n",
    "I then decided I wanted to graph multiple different standard deviations on a graph as I wanted to see if we would see a similar bell chart given multiple different means and standard deviations."
   ]
  },
  {
   "cell_type": "code",
   "execution_count": 13,
   "id": "1124f812",
   "metadata": {},
   "outputs": [
    {
     "data": {
      "image/png": "[encoded data removed]",
      "text/plain": [
       "<Figure size 540x540 with 1 Axes>"
      ]
     },
     "metadata": {
      "needs_background": "light"
     },
     "output_type": "display_data"
    }
   ],
   "source": [
    "## I adapted code from https://vitalflux.com/normal-distribution-explained-python-examples/\n",
    "\n",
    "# Values of random variable\n",
    "#\n",
    "x = np.linspace(-10, 10, 100)\n",
    "#\n",
    "plt.figure(figsize=(7.5,7.5))\n",
    "#\n",
    "# Normal distribution with mean 1 and std as 0.25\n",
    "#\n",
    "plt.plot(x, stats.norm(1, 0.25).pdf(x))\n",
    "#\n",
    "# Normal distribution with mean 1 and std as 0.5\n",
    "#\n",
    "plt.plot(x, stats.norm(1, 0.5).pdf(x))\n",
    "#\n",
    "# Normal distribution with mean 4 and std as 5\n",
    "#\n",
    "plt.plot(x, stats.norm(4, 5).pdf(x))\n",
    "\n",
    "plt.xlim(-10, 10)\n",
    "# sets x bar limit\n",
    "plt.title('Normal Distribution Plot', fontsize='15')\n",
    "plt.xlabel('Values of Random Variable X', fontsize='15')\n",
    "plt.ylabel('Probability', fontsize='15')\n",
    "## probability estimates of different values of random variable given the standard normal distribution\n",
    "plt.show()\n",
    "## plots graph"
   ]
  },
  {
   "cell_type": "markdown",
   "id": "37c068d9",
   "metadata": {},
   "source": [
    "I think the key thing that I have spotted in doing this graph, is even with multiple standard deviations and means, we still see the bell curve graph. This graph is useful for displaying a lot of information that shows the standard deviation."
   ]
  },
  {
   "cell_type": "markdown",
   "id": "eac1148e",
   "metadata": {},
   "source": [
    "References Used in Notebook\n",
    "\n",
    "[1] https://www.askpython.com/python/normal-distribution\n",
    "\n",
    "[2] https://numpy.org/doc/stable/reference/random/generated/numpy.random.normal.html\n",
    "\n",
    "[3] https://docs.scipy.org/doc/scipy/reference/generated/scipy.stats.norm.html\n",
    "\n",
    "[4] https://www.simplilearn.com/tutorials/statistics-tutorial/cumulative-distribution-function\n",
    "\n",
    "[5] https://radzion.com/blog/probability/density"
   ]
  }
 ],
 "metadata": {
  "kernelspec": {
   "display_name": "Python 3 (ipykernel)",
   "language": "python",
   "name": "python3"
  },
  "language_info": {
   "codemirror_mode": {
    "name": "ipython",
    "version": 3
   },
   "file_extension": ".py",
   "mimetype": "text/x-python",
   "name": "python",
   "nbconvert_exporter": "python",
   "pygments_lexer": "ipython3",
   "version": "3.9.7"
  }
 },
 "nbformat": 4,
 "nbformat_minor": 5
}
