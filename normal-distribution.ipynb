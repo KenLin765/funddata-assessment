{
 "cells": [
  {
   "cell_type": "markdown",
   "id": "b996bc95",
   "metadata": {},
   "source": [
    "# Normal Distribution"
   ]
  },
  {
   "cell_type": "markdown",
   "id": "4690ef01",
   "metadata": {},
   "source": [
    "This is the probability density function in latex."
   ]
  },
  {
   "cell_type": "markdown",
   "id": "e91ab80c",
   "metadata": {},
   "source": [
    "$ \\frac{1} {\\sigma \\sqrt { 2 \\pi }} e -\\frac{1}{2}  (\\frac{ (x - \\mu) } {\\sigma})^2 \\\\[1ex] $ "
   ]
  },
  {
   "cell_type": "code",
   "execution_count": 3,
   "id": "43281f49",
   "metadata": {},
   "outputs": [],
   "source": [
    "import numpy as np"
   ]
  },
  {
   "cell_type": "code",
   "execution_count": 2,
   "id": "95aee7a8",
   "metadata": {},
   "outputs": [
    {
     "data": {
      "text/plain": [
       "-0.7071980025766821"
      ]
     },
     "execution_count": 2,
     "metadata": {},
     "output_type": "execute_result"
    }
   ],
   "source": [
    "np.random.normal()"
   ]
  },
  {
   "cell_type": "code",
   "execution_count": null,
   "id": "de08c19b",
   "metadata": {},
   "outputs": [],
   "source": []
  }
 ],
 "metadata": {
  "kernelspec": {
   "display_name": "Python 3 (ipykernel)",
   "language": "python",
   "name": "python3"
  },
  "language_info": {
   "codemirror_mode": {
    "name": "ipython",
    "version": 3
   },
   "file_extension": ".py",
   "mimetype": "text/x-python",
   "name": "python",
   "nbconvert_exporter": "python",
   "pygments_lexer": "ipython3",
   "version": "3.9.7"
  }
 },
 "nbformat": 4,
 "nbformat_minor": 5
}
